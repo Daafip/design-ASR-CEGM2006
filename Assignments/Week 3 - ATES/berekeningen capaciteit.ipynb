{
 "cells": [
  {
   "cell_type": "code",
   "execution_count": 1,
   "id": "d92341fa-a30f-4c40-9467-85ce5f281c33",
   "metadata": {
    "tags": []
   },
   "outputs": [],
   "source": [
    "import numpy as np"
   ]
  },
  {
   "cell_type": "code",
   "execution_count": 2,
   "id": "e1ea9736-2feb-46c2-af61-f2014da9dcd5",
   "metadata": {
    "tags": []
   },
   "outputs": [],
   "source": [
    "# deterims pumping capacity\n",
    "peak_heating = 2.1 * 10**6# w\n",
    "peak_cooling = 2.86 * 10**6 # w\n",
    "\n",
    "yearly_demand = 8.4 * 10**12 # J\n",
    "cf = 4.2 * 10**6 # J/m^3/K\n",
    "c_aq = 2.8 * 10**6 # J/m^3/K\n",
    "\n",
    "t_cooling     = 5   # always 5C \n",
    "t_heating_avg = 12  # average in warm well\n",
    "t_heating_max = 17  # peak in summer \n",
    "\n",
    "heat_loss = 2 # assumed head loss"
   ]
  },
  {
   "cell_type": "markdown",
   "id": "6724ff42-03c9-4618-add6-125161f8ff7e",
   "metadata": {},
   "source": [
    "cooling:\n",
    "passive: no heat pump"
   ]
  },
  {
   "cell_type": "code",
   "execution_count": 42,
   "id": "bc9b5289-e9b8-4059-8d53-69507585cecc",
   "metadata": {
    "tags": []
   },
   "outputs": [
    {
     "name": "stdout",
     "output_type": "stream",
     "text": [
      "The max flow rate is 5883m^3/d or 245m^3/hr\n"
     ]
    }
   ],
   "source": [
    "max_flow_rate_m3_s = peak_cooling / (cf * (t_heating_max - (t_cooling+heat_loss)))\n",
    "max_flow_rate_m3_d = max_flow_rate_m3_s * 86400\n",
    "max_flow_rate_m3_hr = max_flow_rate_m3_s * 3600\n",
    "print(f'The max flow rate is {max_flow_rate_m3_d:.0f}m^3/d or {max_flow_rate_m3_hr:.0f}m^3/hr')"
   ]
  },
  {
   "cell_type": "markdown",
   "id": "70cfcc41-8453-4e8e-91e8-3a76ac5c6979",
   "metadata": {},
   "source": [
    "heating"
   ]
  },
  {
   "cell_type": "markdown",
   "id": "a956604c-c535-49ea-8c5e-e11752f73a76",
   "metadata": {},
   "source": [
    "heat_ates < heat_pump"
   ]
  },
  {
   "cell_type": "markdown",
   "id": "51dda5d3-0747-42bf-baa6-31ad7237d45c",
   "metadata": {},
   "source": [
    "COP  = Heat delivered / electricty_used\n",
    "electrity used = 2.1/5\n",
    "heat = electricity + ates \n",
    "Heat from ates = 1.68MW"
   ]
  },
  {
   "cell_type": "code",
   "execution_count": 26,
   "id": "c15c8298-d7f7-4a58-ae53-f1718604c203",
   "metadata": {
    "tags": []
   },
   "outputs": [],
   "source": [
    "COP = 5"
   ]
  },
  {
   "cell_type": "code",
   "execution_count": 31,
   "id": "7092cc78-450d-4c12-8dd5-1b69e7b457ae",
   "metadata": {
    "tags": []
   },
   "outputs": [],
   "source": [
    "peak_heating_adj = peak_heating - peak_heating / COP # mw"
   ]
  },
  {
   "cell_type": "code",
   "execution_count": 34,
   "id": "eec11586-7fa6-414a-8ec5-2de3b95b767c",
   "metadata": {
    "tags": []
   },
   "outputs": [
    {
     "name": "stdout",
     "output_type": "stream",
     "text": [
      "The max flow rate is 1.68MW\n"
     ]
    }
   ],
   "source": [
    "print(f'The max flow rate is {peak_heating_adj*10**-6:.2f}MW')"
   ]
  },
  {
   "cell_type": "code",
   "execution_count": 35,
   "id": "78e44876-aade-4cdc-887d-34870555ebcd",
   "metadata": {
    "tags": []
   },
   "outputs": [
    {
     "name": "stdout",
     "output_type": "stream",
     "text": [
      "The max flow rate is 4937.143m^3/d\n"
     ]
    }
   ],
   "source": [
    "max_flow_rate_m3_s = peak_heating_adj / (cf * (t_heating_avg - t_cooling))\n",
    "max_flow_rate_m3_d = max_flow_rate_m3_s * 86400\n",
    "print(f'The max flow rate is {max_flow_rate_m3_d:.3f}m^3/d')"
   ]
  },
  {
   "cell_type": "code",
   "execution_count": 39,
   "id": "a760715b-77e2-48b0-9007-9e6b4a8e390d",
   "metadata": {
    "tags": []
   },
   "outputs": [
    {
     "data": {
      "text/plain": [
       "205.7142857142857"
      ]
     },
     "execution_count": 39,
     "metadata": {},
     "output_type": "execute_result"
    }
   ],
   "source": [
    "max_flow_rate_m3_hr = max_flow_rate_m3_s * 3600\n",
    "max_flow_rate_m3_hr"
   ]
  },
  {
   "cell_type": "code",
   "execution_count": 37,
   "id": "2bb5f56e-ba83-43fc-b027-0f1f8aebc899",
   "metadata": {
    "tags": []
   },
   "outputs": [],
   "source": [
    "# energy must be in balance"
   ]
  },
  {
   "cell_type": "code",
   "execution_count": 38,
   "id": "112986c3-e9c5-4297-9145-d14e5ff6157c",
   "metadata": {
    "tags": []
   },
   "outputs": [
    {
     "name": "stdout",
     "output_type": "stream",
     "text": [
      "The yearly storage is 4.000 10^5 m^3\n"
     ]
    }
   ],
   "source": [
    "yearly_storage = yearly_demand / (cf * (t_heating_avg - (t_cooling+heat_loss))) # m^3/y\n",
    "print(f'The yearly storage is {yearly_storage * 10**(-5):.3f} 10^5 m^3')"
   ]
  },
  {
   "cell_type": "markdown",
   "id": "0dd43a14-3753-4750-a768-a1869c390987",
   "metadata": {},
   "source": [
    "Look at layers from BRO [dinoloket.nl](dinoloket.nl)- pick one aquifer: dont mix two water qualities \n",
    "\n",
    "use [WKOtool.nl](WKOtool.nl) for others\n",
    "\n",
    "make a reasonable assumption for these"
   ]
  },
  {
   "cell_type": "markdown",
   "id": "2af1d69b-b02a-4f0b-a323-468458ee6ffc",
   "metadata": {},
   "source": [
    "\\begin{equation}\n",
    "    V_{max} = 4 \\left( \\frac{k}{150} \\right)^{0.6}\n",
    "\\end{equation}"
   ]
  },
  {
   "cell_type": "code",
   "execution_count": 18,
   "id": "d2269841-0e8a-433a-9d25-e74525c65aa6",
   "metadata": {
    "tags": []
   },
   "outputs": [],
   "source": [
    "kh = 17.5\n",
    "rw = 0.8\n",
    "L = 40"
   ]
  },
  {
   "cell_type": "code",
   "execution_count": 19,
   "id": "5696a41d-0fdd-4cd2-8d0d-5910f246f4a8",
   "metadata": {
    "tags": []
   },
   "outputs": [
    {
     "name": "stdout",
     "output_type": "stream",
     "text": [
      "The max flow rate is at the well screen ins 26.451m/d or 1.102m/hr\n"
     ]
    }
   ],
   "source": [
    "v_max_m_hr = 4 * (kh / 150)**0.6\n",
    "v_max_m_d = 4 * (kh / 150)**0.6 * 24\n",
    "print(f'The max flow rate is at the well screen ins {v_max_m_d:.3f}m/d or {v_max_m_hr:.3f}m/hr')"
   ]
  },
  {
   "cell_type": "code",
   "execution_count": 20,
   "id": "fa45c643-5626-4300-a201-b06157845538",
   "metadata": {
    "tags": []
   },
   "outputs": [],
   "source": [
    "Q_max = v_max_m_d * rw * 2 * np.pi * L "
   ]
  },
  {
   "cell_type": "code",
   "execution_count": 21,
   "id": "53bad18f-1776-430c-a96a-6db1469d425f",
   "metadata": {
    "tags": []
   },
   "outputs": [
    {
     "name": "stdout",
     "output_type": "stream",
     "text": [
      "The max flow capacity per well is 5318.255m^3/d or 221.594m^3/hr\n"
     ]
    }
   ],
   "source": [
    "print(f'The max flow capacity per well is {Q_max:.3f}m^3/d or {Q_max/24:.3f}m^3/hr')"
   ]
  },
  {
   "cell_type": "code",
   "execution_count": 22,
   "id": "a65ade6e-f2f8-4471-b83c-d2a0238d2559",
   "metadata": {
    "tags": []
   },
   "outputs": [
    {
     "name": "stdout",
     "output_type": "stream",
     "text": [
      "Thus we need 0.928 = 3 wells\n"
     ]
    }
   ],
   "source": [
    "n_wells = 3\n",
    "print(f'Thus we need {max_flow_rate_m3_d/Q_max:.3f} = {n_wells} wells')"
   ]
  },
  {
   "cell_type": "markdown",
   "id": "a76c0437-40a0-46f3-9cc8-ca2c36de7037",
   "metadata": {},
   "source": [
    "\\begin{equation}\n",
    "    R_{th} =  \\sqrt{\\frac{C_f V_m}{C_{aq} \\pi L}}\n",
    "\\end{equation}"
   ]
  },
  {
   "cell_type": "code",
   "execution_count": 23,
   "id": "9f7ba776-a217-4e47-8ed8-2790cd21fd8a",
   "metadata": {
    "tags": []
   },
   "outputs": [
    {
     "name": "stdout",
     "output_type": "stream",
     "text": [
      "each well pumps 133333.33m^3/y/d\n"
     ]
    }
   ],
   "source": [
    "volume_per_well = yearly_storage / n_wells\n",
    "print(f'each well pumps {volume_per_well:.2f}m^3/y/d')"
   ]
  },
  {
   "cell_type": "markdown",
   "id": "aeec9875-af37-49c8-b3e3-3945fe4641ca",
   "metadata": {},
   "source": [
    "optimise A/V: minimise A/V -> for two wells"
   ]
  },
  {
   "cell_type": "code",
   "execution_count": 24,
   "id": "d315b009-e37b-412d-a482-1fddb362cb14",
   "metadata": {
    "tags": []
   },
   "outputs": [],
   "source": [
    "R_th = np.sqrt(cf * volume_per_well / (c_aq * np.pi * L))"
   ]
  },
  {
   "cell_type": "code",
   "execution_count": 25,
   "id": "f4620550-a843-4ba5-b522-60078a0df7ce",
   "metadata": {
    "tags": []
   },
   "outputs": [
    {
     "name": "stdout",
     "output_type": "stream",
     "text": [
      "Themal radius is 39.89m\n"
     ]
    }
   ],
   "source": [
    "print(f'Themal radius is {R_th:.2f}m')"
   ]
  }
 ],
 "metadata": {
  "kernelspec": {
   "display_name": "Python 3 (ipykernel)",
   "language": "python",
   "name": "python3"
  },
  "language_info": {
   "codemirror_mode": {
    "name": "ipython",
    "version": 3
   },
   "file_extension": ".py",
   "mimetype": "text/x-python",
   "name": "python",
   "nbconvert_exporter": "python",
   "pygments_lexer": "ipython3",
   "version": "3.11.5"
  }
 },
 "nbformat": 4,
 "nbformat_minor": 5
}
