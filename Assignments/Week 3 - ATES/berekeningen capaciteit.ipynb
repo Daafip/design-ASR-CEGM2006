{
 "cells": [
  {
   "cell_type": "code",
   "execution_count": 48,
   "id": "d92341fa-a30f-4c40-9467-85ce5f281c33",
   "metadata": {
    "tags": []
   },
   "outputs": [],
   "source": [
    "import numpy as np"
   ]
  },
  {
   "cell_type": "code",
   "execution_count": 71,
   "id": "e1ea9736-2feb-46c2-af61-f2014da9dcd5",
   "metadata": {
    "tags": []
   },
   "outputs": [],
   "source": [
    "peak_heating = 2.1 * 10**6# w\n",
    "peak_cooling = 2.86 * 10**6 # w\n",
    "\n",
    "yearly_demand = 8.4 * 10**12 # J\n",
    "cf = 4.2 * 10**6 # J/m^3/K\n",
    "c_aq = 2.8 * 10**6 # J/m^3/K\n",
    "\n",
    "t_cooling = 5\n",
    "t_heating_avg = 12\n",
    "t_heating_max = 17"
   ]
  },
  {
   "cell_type": "code",
   "execution_count": 50,
   "id": "7a65b5e7-46ac-42e2-932e-29145f46e6cd",
   "metadata": {
    "tags": []
   },
   "outputs": [],
   "source": [
    "yearly_storage = yearly_demand / (cf * (t_heating_avg - t_cooling)) # m^3/y"
   ]
  },
  {
   "cell_type": "code",
   "execution_count": 51,
   "id": "8526b055-ec6d-420f-994e-f178d6342481",
   "metadata": {
    "tags": []
   },
   "outputs": [
    {
     "name": "stdout",
     "output_type": "stream",
     "text": [
      "The yearly storage is 2.857 10^5 m^3\n"
     ]
    }
   ],
   "source": [
    "print(f'The yearly storage is {yearly_storage * 10**(-5):.3f} 10^5 m^3')"
   ]
  },
  {
   "cell_type": "code",
   "execution_count": 52,
   "id": "bc9b5289-e9b8-4059-8d53-69507585cecc",
   "metadata": {
    "tags": []
   },
   "outputs": [
    {
     "name": "stdout",
     "output_type": "stream",
     "text": [
      "The max flow rate is 6171.429m^3/d\n"
     ]
    }
   ],
   "source": [
    "max_flow_rate_m3_s = peak_heating / (cf * (t_heating_avg - t_cooling))\n",
    "max_flow_rate_m3_d = max_flow_rate_m3_s * 86400\n",
    "print(f'The max flow rate is {max_flow_rate_m3_d:.3f}m^3/d')"
   ]
  },
  {
   "cell_type": "markdown",
   "id": "2af1d69b-b02a-4f0b-a323-468458ee6ffc",
   "metadata": {},
   "source": [
    "\\begin{equation}\n",
    "    V_{max} = 4 \\left( \\frac{k}{150} \\right)^{0.6}\n",
    "\\end{equation}"
   ]
  },
  {
   "cell_type": "code",
   "execution_count": 55,
   "id": "d2269841-0e8a-433a-9d25-e74525c65aa6",
   "metadata": {
    "tags": []
   },
   "outputs": [],
   "source": [
    "kh = 25\n",
    "rw = 0.8\n",
    "L = 25"
   ]
  },
  {
   "cell_type": "code",
   "execution_count": 56,
   "id": "5696a41d-0fdd-4cd2-8d0d-5910f246f4a8",
   "metadata": {
    "tags": []
   },
   "outputs": [
    {
     "name": "stdout",
     "output_type": "stream",
     "text": [
      "The max flow rate is at the well screen ins 32.763m/d\n"
     ]
    }
   ],
   "source": [
    "v_max_m_hr = 4 * (kh / 150)**0.6\n",
    "v_max_m_d = 4 * (kh / 150)**0.6 * 24\n",
    "print(f'The max flow rate is at the well screen ins {v_max_m_d:.3f}m/d')"
   ]
  },
  {
   "cell_type": "code",
   "execution_count": 57,
   "id": "fa45c643-5626-4300-a201-b06157845538",
   "metadata": {
    "tags": []
   },
   "outputs": [],
   "source": [
    "Q_max = v_max_m_d * rw * np.pi * L "
   ]
  },
  {
   "cell_type": "code",
   "execution_count": 59,
   "id": "53bad18f-1776-430c-a96a-6db1469d425f",
   "metadata": {
    "tags": []
   },
   "outputs": [
    {
     "name": "stdout",
     "output_type": "stream",
     "text": [
      "The max flow capacity per well is 2058.545m^3/d\n"
     ]
    }
   ],
   "source": [
    "print(f'The max flow capacity per well is {Q_max:.3f}m^3/d')"
   ]
  },
  {
   "cell_type": "code",
   "execution_count": 68,
   "id": "a65ade6e-f2f8-4471-b83c-d2a0238d2559",
   "metadata": {
    "tags": []
   },
   "outputs": [
    {
     "name": "stdout",
     "output_type": "stream",
     "text": [
      "Thus we need 2.998 = 3 wells\n"
     ]
    }
   ],
   "source": [
    "n_wells = 3\n",
    "print(f'Thus we need {max_flow_rate_m3_d/Q_max:.3f} = {n_wells} wells')"
   ]
  },
  {
   "cell_type": "markdown",
   "id": "a76c0437-40a0-46f3-9cc8-ca2c36de7037",
   "metadata": {},
   "source": [
    "\\begin{equation}\n",
    "    R_{th} =  \\sqrt{\\frac{C_f V_m}{C_{aq} \\pi L}}\n",
    "\\end{equation}"
   ]
  },
  {
   "cell_type": "code",
   "execution_count": 76,
   "id": "9f7ba776-a217-4e47-8ed8-2790cd21fd8a",
   "metadata": {
    "tags": []
   },
   "outputs": [
    {
     "name": "stdout",
     "output_type": "stream",
     "text": [
      "each well pumps 95238.10m^3/y/d\n"
     ]
    }
   ],
   "source": [
    "volume_per_well = yearly_storage / n_wells\n",
    "print(f'each well pumps {volume_per_well:.2f}m^3/y/d')"
   ]
  },
  {
   "cell_type": "code",
   "execution_count": 77,
   "id": "d315b009-e37b-412d-a482-1fddb362cb14",
   "metadata": {
    "tags": []
   },
   "outputs": [],
   "source": [
    "R_th = np.sqrt(cf * volume_per_well / (c_aq * np.pi * L))"
   ]
  },
  {
   "cell_type": "code",
   "execution_count": 79,
   "id": "f4620550-a843-4ba5-b522-60078a0df7ce",
   "metadata": {
    "tags": []
   },
   "outputs": [
    {
     "name": "stdout",
     "output_type": "stream",
     "text": [
      "Themal radius is 42.65m\n"
     ]
    }
   ],
   "source": [
    "print(f'Themal radius is {R_th:.2f}m')"
   ]
  },
  {
   "cell_type": "code",
   "execution_count": null,
   "id": "59a78a57-978e-45d1-a268-6afc4bbcba9c",
   "metadata": {},
   "outputs": [],
   "source": []
  }
 ],
 "metadata": {
  "kernelspec": {
   "display_name": "Python 3 (ipykernel)",
   "language": "python",
   "name": "python3"
  },
  "language_info": {
   "codemirror_mode": {
    "name": "ipython",
    "version": 3
   },
   "file_extension": ".py",
   "mimetype": "text/x-python",
   "name": "python",
   "nbconvert_exporter": "python",
   "pygments_lexer": "ipython3",
   "version": "3.11.5"
  }
 },
 "nbformat": 4,
 "nbformat_minor": 5
}
