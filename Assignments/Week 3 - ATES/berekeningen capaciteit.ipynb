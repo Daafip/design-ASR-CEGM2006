{
 "cells": [
  {
   "cell_type": "code",
   "execution_count": 1,
   "id": "d92341fa-a30f-4c40-9467-85ce5f281c33",
   "metadata": {
    "tags": []
   },
   "outputs": [],
   "source": [
    "import numpy as np"
   ]
  },
  {
   "cell_type": "code",
   "execution_count": 2,
   "id": "e1ea9736-2feb-46c2-af61-f2014da9dcd5",
   "metadata": {
    "tags": []
   },
   "outputs": [],
   "source": [
    "# deterims pumping capacity\n",
    "peak_heating = 2.1 * 10**6# w\n",
    "peak_cooling = 2.86 * 10**6 # w\n",
    "\n",
    "yearly_demand = 8.4 * 10**12 # J\n",
    "cf = 4.2 * 10**6 # J/m^3/K\n",
    "c_aq = 2.8 * 10**6 # J/m^3/K\n",
    "\n",
    "t_cooling     = 5   # always 5C \n",
    "t_heating_avg = 12  # average in warm well\n",
    "t_heating_max = 17  # peak in summer \n",
    "\n",
    "heat_loss = 2 # assumed head loss"
   ]
  },
  {
   "cell_type": "markdown",
   "id": "6724ff42-03c9-4618-add6-125161f8ff7e",
   "metadata": {},
   "source": [
    "cooling:\n",
    "passive: no heat pump"
   ]
  },
  {
   "cell_type": "code",
   "execution_count": 3,
   "id": "bc9b5289-e9b8-4059-8d53-69507585cecc",
   "metadata": {
    "tags": []
   },
   "outputs": [
    {
     "name": "stdout",
     "output_type": "stream",
     "text": [
      "The max flow rate is 5883m^3/d or 245m^3/hr\n"
     ]
    }
   ],
   "source": [
    "max_flow_rate_m3_s_cooling = peak_cooling / (cf * (t_heating_max - (t_cooling+heat_loss)))\n",
    "max_flow_rate_m3_d_cooling = max_flow_rate_m3_s_cooling * 86400\n",
    "max_flow_rate_m3_hr_cooling = max_flow_rate_m3_s_cooling * 3600\n",
    "print(f'The max flow rate is {max_flow_rate_m3_d_cooling:.0f}m^3/d or {max_flow_rate_m3_hr_cooling:.0f}m^3/hr')"
   ]
  },
  {
   "cell_type": "markdown",
   "id": "70cfcc41-8453-4e8e-91e8-3a76ac5c6979",
   "metadata": {},
   "source": [
    "heating"
   ]
  },
  {
   "cell_type": "markdown",
   "id": "a956604c-c535-49ea-8c5e-e11752f73a76",
   "metadata": {},
   "source": [
    "heat_ates < heat_pump"
   ]
  },
  {
   "cell_type": "markdown",
   "id": "51dda5d3-0747-42bf-baa6-31ad7237d45c",
   "metadata": {},
   "source": [
    "COP  = Heat delivered / electricty_used\n",
    "electrity used = 2.1/5\n",
    "heat = electricity + ates \n",
    "Heat from ates = 1.68MW"
   ]
  },
  {
   "cell_type": "code",
   "execution_count": 4,
   "id": "c15c8298-d7f7-4a58-ae53-f1718604c203",
   "metadata": {
    "tags": []
   },
   "outputs": [],
   "source": [
    "COP = 5"
   ]
  },
  {
   "cell_type": "code",
   "execution_count": 5,
   "id": "7092cc78-450d-4c12-8dd5-1b69e7b457ae",
   "metadata": {
    "tags": []
   },
   "outputs": [],
   "source": [
    "peak_heating_adj = peak_heating - peak_heating / COP # mw"
   ]
  },
  {
   "cell_type": "code",
   "execution_count": 6,
   "id": "eec11586-7fa6-414a-8ec5-2de3b95b767c",
   "metadata": {
    "tags": []
   },
   "outputs": [
    {
     "name": "stdout",
     "output_type": "stream",
     "text": [
      "The max flow rate is 1.68MW\n"
     ]
    }
   ],
   "source": [
    "print(f'The max flow rate is {peak_heating_adj*10**-6:.2f}MW')"
   ]
  },
  {
   "cell_type": "code",
   "execution_count": 7,
   "id": "78e44876-aade-4cdc-887d-34870555ebcd",
   "metadata": {
    "tags": []
   },
   "outputs": [
    {
     "name": "stdout",
     "output_type": "stream",
     "text": [
      "The max flow rate is 4937.143m^3/d or 205.714m^3/hr\n"
     ]
    }
   ],
   "source": [
    "max_flow_rate_m3_s_heating = peak_heating_adj / (cf * (t_heating_avg - t_cooling))\n",
    "max_flow_rate_m3_d_heating = max_flow_rate_m3_s_heating * 86400\n",
    "max_flow_rate_m3_hr_heating = max_flow_rate_m3_s_heating * 3600\n",
    "print(f'The max flow rate is {max_flow_rate_m3_d_heating:.3f}m^3/d or {max_flow_rate_m3_hr_heating:.3f}m^3/hr')"
   ]
  },
  {
   "cell_type": "code",
   "execution_count": 8,
   "id": "2bb5f56e-ba83-43fc-b027-0f1f8aebc899",
   "metadata": {
    "tags": []
   },
   "outputs": [],
   "source": [
    "# energy must be in balance"
   ]
  },
  {
   "cell_type": "code",
   "execution_count": 9,
   "id": "112986c3-e9c5-4297-9145-d14e5ff6157c",
   "metadata": {
    "tags": []
   },
   "outputs": [
    {
     "name": "stdout",
     "output_type": "stream",
     "text": [
      "The yearly storage is 4.000 10^5 m^3\n"
     ]
    }
   ],
   "source": [
    "yearly_storage = yearly_demand / (cf * (t_heating_avg - (t_cooling+heat_loss))) # m^3/y\n",
    "print(f'The yearly storage is {yearly_storage * 10**(-5):.3f} 10^5 m^3')"
   ]
  },
  {
   "cell_type": "markdown",
   "id": "0dd43a14-3753-4750-a768-a1869c390987",
   "metadata": {},
   "source": [
    "Look at layers from BRO [www.dinoloket.nl](www.dinoloket.nl)- pick one aquifer: dont mix two water qualities \n",
    "\n",
    "use [WKOtool.nl](www.WKOtool.nl) for others\n",
    "\n",
    "make a reasonable assumption for these"
   ]
  },
  {
   "cell_type": "markdown",
   "id": "2af1d69b-b02a-4f0b-a323-468458ee6ffc",
   "metadata": {},
   "source": [
    "\\begin{equation}\n",
    "    V_{max} = 4 \\left( \\frac{k}{150} \\right)^{0.6}\n",
    "\\end{equation}"
   ]
  },
  {
   "cell_type": "markdown",
   "id": "e5211d14-e895-49bc-8d95-c87e91e2dee3",
   "metadata": {},
   "source": [
    "1st aquifer shallow, 2nd aquifer 40-63m, 3rd aquifer too thin, 4th 96m - 240"
   ]
  },
  {
   "cell_type": "code",
   "execution_count": 10,
   "id": "d2269841-0e8a-433a-9d25-e74525c65aa6",
   "metadata": {
    "tags": []
   },
   "outputs": [],
   "source": [
    "kh_2 = 17.5 # 10 < kh < 25\n",
    "dw = 0.8\n",
    "rw = dw / 2\n",
    "L_2 = 63 - 40"
   ]
  },
  {
   "cell_type": "code",
   "execution_count": 11,
   "id": "5696a41d-0fdd-4cd2-8d0d-5910f246f4a8",
   "metadata": {
    "tags": []
   },
   "outputs": [
    {
     "name": "stdout",
     "output_type": "stream",
     "text": [
      "The max flow rate is at the well screen ins 26.451m/d or 1.102m/hr\n"
     ]
    }
   ],
   "source": [
    "v_max_m_hr = 4 * (kh_2 / 150)**0.6\n",
    "v_max_m_d = 4 * (kh_2 / 150)**0.6 * 24\n",
    "print(f'The max flow rate is at the well screen ins {v_max_m_d:.3f}m/d or {v_max_m_hr:.3f}m/hr')"
   ]
  },
  {
   "cell_type": "code",
   "execution_count": 12,
   "id": "fa45c643-5626-4300-a201-b06157845538",
   "metadata": {
    "tags": []
   },
   "outputs": [],
   "source": [
    "Q_max = v_max_m_d * (rw) * 2* np.pi * L_2"
   ]
  },
  {
   "cell_type": "code",
   "execution_count": 13,
   "id": "53bad18f-1776-430c-a96a-6db1469d425f",
   "metadata": {
    "tags": []
   },
   "outputs": [
    {
     "name": "stdout",
     "output_type": "stream",
     "text": [
      "The max flow capacity per well is 1528.998m^3/d or 63.708m^3/hr\n"
     ]
    }
   ],
   "source": [
    "print(f'The max flow capacity per well is {Q_max:.3f}m^3/d or {Q_max/24:.3f}m^3/hr')"
   ]
  },
  {
   "cell_type": "code",
   "execution_count": 14,
   "id": "aa8e8d77-fa46-4dc2-94f0-02d8bf23dbd1",
   "metadata": {
    "tags": []
   },
   "outputs": [],
   "source": [
    "# take the highest max flow rate for dimensioning\n",
    "max_flow_rate_m3_d_maatgevend = max(max_flow_rate_m3_d_heating, max_flow_rate_m3_d_cooling)"
   ]
  },
  {
   "cell_type": "code",
   "execution_count": 15,
   "id": "a65ade6e-f2f8-4471-b83c-d2a0238d2559",
   "metadata": {
    "tags": []
   },
   "outputs": [
    {
     "name": "stdout",
     "output_type": "stream",
     "text": [
      "Thus we need 3.848 = 4 wells\n"
     ]
    }
   ],
   "source": [
    "n_wells = 4\n",
    "print(f'Thus we need {max_flow_rate_m3_d_maatgevend/Q_max:.3f} = {n_wells} wells')"
   ]
  },
  {
   "cell_type": "markdown",
   "id": "a76c0437-40a0-46f3-9cc8-ca2c36de7037",
   "metadata": {},
   "source": [
    "\\begin{equation}\n",
    "    R_{th} =  \\sqrt{\\frac{C_f V_m}{C_{aq} \\pi L}}\n",
    "\\end{equation}"
   ]
  },
  {
   "cell_type": "code",
   "execution_count": 16,
   "id": "9f7ba776-a217-4e47-8ed8-2790cd21fd8a",
   "metadata": {
    "tags": []
   },
   "outputs": [
    {
     "name": "stdout",
     "output_type": "stream",
     "text": [
      "each well pumps 100000.00m^3/y/d\n"
     ]
    }
   ],
   "source": [
    "volume_per_well = yearly_storage / n_wells\n",
    "print(f'each well pumps {volume_per_well:.2f}m^3/y/d')"
   ]
  },
  {
   "cell_type": "markdown",
   "id": "aeec9875-af37-49c8-b3e3-3945fe4641ca",
   "metadata": {},
   "source": [
    "optimise A/V: minimise A/V -> for two wells"
   ]
  },
  {
   "cell_type": "code",
   "execution_count": 17,
   "id": "d315b009-e37b-412d-a482-1fddb362cb14",
   "metadata": {
    "tags": []
   },
   "outputs": [],
   "source": [
    "R_th_2 = np.sqrt(cf * volume_per_well / (c_aq * np.pi * L_2))"
   ]
  },
  {
   "cell_type": "code",
   "execution_count": 18,
   "id": "f4620550-a843-4ba5-b522-60078a0df7ce",
   "metadata": {
    "tags": []
   },
   "outputs": [
    {
     "name": "stdout",
     "output_type": "stream",
     "text": [
      "Themal radius is 45.56m\n"
     ]
    }
   ],
   "source": [
    "print(f'Themal radius is {R_th_2:.2f}m')"
   ]
  },
  {
   "cell_type": "code",
   "execution_count": 19,
   "id": "38d3528a-1ee3-456a-9e71-5410d55458c8",
   "metadata": {
    "tags": []
   },
   "outputs": [],
   "source": [
    "A_V_2 = 2/L_2 + 2/R_th_2"
   ]
  },
  {
   "cell_type": "code",
   "execution_count": 20,
   "id": "25f33a24-c164-4186-967e-c368d3813228",
   "metadata": {
    "tags": []
   },
   "outputs": [
    {
     "name": "stdout",
     "output_type": "stream",
     "text": [
      "value of A/V of 0.131\n"
     ]
    }
   ],
   "source": [
    "print(f'value of A/V of {A_V_2:.3f}')"
   ]
  },
  {
   "cell_type": "markdown",
   "id": "468a1290-fd24-4715-a4b8-ecd86ad94fa9",
   "metadata": {},
   "source": [
    "# repeat 4th aquifer"
   ]
  },
  {
   "cell_type": "code",
   "execution_count": 21,
   "id": "ddc8d67c-24dc-4658-995e-a41262369842",
   "metadata": {
    "tags": []
   },
   "outputs": [],
   "source": [
    "kh_5 = 7.5 # 5 < kh < 10\n",
    "L_5 = 240 - 96"
   ]
  },
  {
   "cell_type": "code",
   "execution_count": 22,
   "id": "2649114e-e369-4b87-8396-849069fcdd59",
   "metadata": {
    "tags": []
   },
   "outputs": [
    {
     "name": "stdout",
     "output_type": "stream",
     "text": [
      "The max flow rate is at the well screen ins 15.909m/d or 0.663m/hr\n"
     ]
    }
   ],
   "source": [
    "v_max_m_hr = 4 * (kh_5 / 150)**0.6\n",
    "v_max_m_d = 4 * (kh_5 / 150)**0.6 * 24\n",
    "print(f'The max flow rate is at the well screen ins {v_max_m_d:.3f}m/d or {v_max_m_hr:.3f}m/hr')"
   ]
  },
  {
   "cell_type": "code",
   "execution_count": 23,
   "id": "76e55ca9-5840-40c2-b6e1-04e267915672",
   "metadata": {
    "tags": []
   },
   "outputs": [],
   "source": [
    "Q_max = v_max_m_d * (rw) * 2* np.pi * L_5"
   ]
  },
  {
   "cell_type": "code",
   "execution_count": 24,
   "id": "ec5d959e-16d6-4e2f-b5b5-d6fc61d8ca79",
   "metadata": {
    "tags": []
   },
   "outputs": [
    {
     "name": "stdout",
     "output_type": "stream",
     "text": [
      "The max flow capacity per well is 5757.787m^3/d or 239.908m^3/hr\n"
     ]
    }
   ],
   "source": [
    "print(f'The max flow capacity per well is {Q_max:.3f}m^3/d or {Q_max/24:.3f}m^3/hr')"
   ]
  },
  {
   "cell_type": "code",
   "execution_count": 25,
   "id": "21682af8-fa0b-47fc-a6ab-0fc0284b1ceb",
   "metadata": {
    "tags": []
   },
   "outputs": [],
   "source": [
    "# take the highest max flow rate for dimensioning\n",
    "max_flow_rate_m3_d_maatgevend = max(max_flow_rate_m3_d_heating, max_flow_rate_m3_d_cooling)"
   ]
  },
  {
   "cell_type": "code",
   "execution_count": 26,
   "id": "ba3b3f6c-b008-435e-a5f9-8796ee42ea0f",
   "metadata": {
    "tags": []
   },
   "outputs": [
    {
     "name": "stdout",
     "output_type": "stream",
     "text": [
      "Thus we need 1.022 = 1 wells\n"
     ]
    }
   ],
   "source": [
    "n_wells = 1\n",
    "print(f'Thus we need {max_flow_rate_m3_d_maatgevend/Q_max:.3f} = {n_wells} wells')"
   ]
  },
  {
   "cell_type": "markdown",
   "id": "d26c23e5-8bdb-4e83-af18-a0d84124beb7",
   "metadata": {},
   "source": [
    "\\begin{equation}\n",
    "    R_{th} =  \\sqrt{\\frac{C_f V_m}{C_{aq} \\pi L}}\n",
    "\\end{equation}"
   ]
  },
  {
   "cell_type": "code",
   "execution_count": 27,
   "id": "805656bd-318a-4b73-b02f-733c030b04f5",
   "metadata": {
    "tags": []
   },
   "outputs": [
    {
     "name": "stdout",
     "output_type": "stream",
     "text": [
      "each well pumps 400000.00m^3/y/d\n"
     ]
    }
   ],
   "source": [
    "volume_per_well = yearly_storage / n_wells\n",
    "print(f'each well pumps {volume_per_well:.2f}m^3/y/d')"
   ]
  },
  {
   "cell_type": "code",
   "execution_count": null,
   "id": "fc536887-89e7-4127-b45f-aebd7c5fac5f",
   "metadata": {},
   "outputs": [],
   "source": []
  },
  {
   "cell_type": "markdown",
   "id": "d273060c-7006-4a37-8550-9a1f2de66d7e",
   "metadata": {},
   "source": [
    "optimise A/V: minimise A/V -> for two wells"
   ]
  },
  {
   "cell_type": "code",
   "execution_count": 28,
   "id": "5ae69e82-1978-43c7-a726-abb399d3b074",
   "metadata": {
    "tags": []
   },
   "outputs": [],
   "source": [
    "R_th_5 = np.sqrt(cf * volume_per_well / (c_aq * np.pi * L_5))"
   ]
  },
  {
   "cell_type": "code",
   "execution_count": 29,
   "id": "5adaed26-5972-44d2-87c7-be3ad3c22186",
   "metadata": {
    "tags": []
   },
   "outputs": [
    {
     "name": "stdout",
     "output_type": "stream",
     "text": [
      "Themal radius is 36.42m\n"
     ]
    }
   ],
   "source": [
    "print(f'Themal radius is {R_th_5:.2f}m')"
   ]
  },
  {
   "cell_type": "code",
   "execution_count": 30,
   "id": "619b69cb-1a08-44b5-90b1-bb9b565d977a",
   "metadata": {
    "tags": []
   },
   "outputs": [],
   "source": [
    "A_V_5 = 2/L_5 + 2/R_th_5"
   ]
  },
  {
   "cell_type": "code",
   "execution_count": 31,
   "id": "1fb5d242-e1b5-4c06-8912-9aea5fb24b87",
   "metadata": {
    "tags": []
   },
   "outputs": [
    {
     "name": "stdout",
     "output_type": "stream",
     "text": [
      "value of A/V of 0.069\n"
     ]
    }
   ],
   "source": [
    "print(f'value of A/V of {A_V_5:.3f}')"
   ]
  }
 ],
 "metadata": {
  "kernelspec": {
   "display_name": "Python 3 (ipykernel)",
   "language": "python",
   "name": "python3"
  },
  "language_info": {
   "codemirror_mode": {
    "name": "ipython",
    "version": 3
   },
   "file_extension": ".py",
   "mimetype": "text/x-python",
   "name": "python",
   "nbconvert_exporter": "python",
   "pygments_lexer": "ipython3",
   "version": "3.11.5"
  }
 },
 "nbformat": 4,
 "nbformat_minor": 5
}
