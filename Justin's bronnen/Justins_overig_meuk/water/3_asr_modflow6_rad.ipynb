{
 "cells": [
  {
   "cell_type": "markdown",
   "metadata": {},
   "source": [
    "# Aquifer Storage and Recovery with MODFLOW6 and Flopy\n",
    "\n",
    "In this notebook, we will learn how to:\n",
    "1. Simulate both injection and recovery of freshwater with a well (radial flow).\n",
    "2. Create animation with slider\n",
    "3. Compute the mass balance and the recovery efficiency\n",
    "4. Perform two cycles"
   ]
  },
  {
   "cell_type": "code",
   "execution_count": 1,
   "metadata": {},
   "outputs": [],
   "source": [
    "# import the necessary packages\n",
    "import numpy as np\n",
    "import matplotlib.pyplot as plt\n",
    "plt.rcParams['figure.figsize'] = (5, 3) # set default figure size\n",
    "import flopy as fp  # import flopy and call it fp"
   ]
  },
  {
   "cell_type": "markdown",
   "metadata": {},
   "source": [
    "## Description of the flow problem\n",
    "Consider radial flow in a confined aquifer. The aquifer extends in the $r$ direction from $r=0$ to $r=R$, where $R$ is chosen far enough away not to effect the solution.  Water is injected by the well at a rate $Q$. The head is fixed at $r=R$ to $h_R$. Flow is considered to be at steady state instantaneously. \n",
    "\n",
    "The initial salt concentration is equal to $c_s$ everywhere. Injection of fresh water with concentration $c_f$ starts at $t=0$ and last for $t_\\text{in}$ days, after which water is extracted at the same rate $Q$ for $t_\\text{out}$ days.\n",
    "\n",
    "The parameter block is similar to the parameter block for one-dimensional (linear) flow. Some values are chosen differently, such as the time of injection. The values of the hydraulic conductivity and porosity are converted so that MODFLOW can be used to simulate radial flow (see Langevin, 2008)."
   ]
  },
  {
   "cell_type": "code",
   "execution_count": 2,
   "metadata": {},
   "outputs": [],
   "source": [
    "# domain size and boundary conditions\n",
    "R = 80 # length of domain, m\n",
    "hR = 0 # head at r=R\n",
    "\n",
    "# aquifer parameters\n",
    "k = 20 # hydraulic conductivity, m/d\n",
    "H = 20 # aquifer thickness, m\n",
    "npor = 0.35 # porosity, -\n",
    "\n",
    "# flow\n",
    "Q = 500 # injection and extraction rate, m^3/d\n",
    "\n",
    "# transport\n",
    "alphaL = 0.5 # longitudinal dispersivity in horizontal direction, m\n",
    "alphaT = alphaL / 10 # transverse dispersivity in horizontal direction, m\n",
    "diffusion_coef = 0 # diffusion coeffcient\n",
    "\n",
    "# concentration\n",
    "cs = 35 # initial concentration, kg/m^3 (=g/L)\n",
    "cf = 0 # concentration injected water, kg/m^3 (=g/L)\n",
    "\n",
    "# space discretization\n",
    "delr = 0.2 # length of cell along row (in x-direction), m\n",
    "delc = 1 # width of cells normal to plane of flow (in y-direction), m\n",
    "z = [0, -H] # top and bottom(s) of layers\n",
    "nlay = 1 # number of layers\n",
    "nrow = 1 # number of rows\n",
    "ncol = round(R / delr) # number of columns\n",
    "rw = 0.2 # radius of well, m\n",
    "r = rw + np.cumsum(delr * np.ones(ncol)) - 0.5 * delr # radial coordinates of centers of cells, m\n",
    "\n",
    "# convert parameters for radial flow following procedure of Langevin, 2008\n",
    "theta = 2 * np.pi # angle for full circle\n",
    "krad = k * r * theta # convert k for radial flow\n",
    "nporrad = npor * r * theta # convert porosity for radial flow\n",
    "\n",
    "# time discretization\n",
    "tin = 30 # injection time, d\n",
    "delt = 0.1 # time step, d\n",
    "nstepin = round(tin / delt) # computed number of steps during injection, integer\n",
    "tout = 30 # extraction time, d\n",
    "delt = 0.1 # time step, d\n",
    "nstepout = round(tout / delt) # computed number of steps during extraction, integer\n",
    "\n",
    "# model name and workspace\n",
    "modelname = 'modelrad' # name of model\n",
    "gwfname = modelname + 'f' # name of flow model\n",
    "gwtname = modelname + 't' # name of transport model\n",
    "modelws = './' + modelname # model workspace to be used"
   ]
  },
  {
   "cell_type": "markdown",
   "metadata": {},
   "source": [
    "## Create Simulation\n",
    "No changes need to be made."
   ]
  },
  {
   "cell_type": "code",
   "execution_count": 3,
   "metadata": {
    "scrolled": true
   },
   "outputs": [],
   "source": [
    "# simulation\n",
    "sim = fp.mf6.MFSimulation(sim_name=modelname, # name of simulation\n",
    "                          version='mf6', # version of MODFLOW\n",
    "                          exe_name='../bin/mf6', # absolute path to MODFLOW executable\n",
    "                          sim_ws=modelws, # path to workspace where all files are stored\n",
    "                         )\n",
    "\n",
    "# time discretization\n",
    "tdis = fp.mf6.ModflowTdis(simulation=sim, # add to the simulation called sim (defined above)\n",
    "                          time_units=\"DAYS\", \n",
    "                          nper=2, # number of stress periods \n",
    "                          perioddata=[[tin, nstepin, 1],\n",
    "                                      [tout, nstepout, 1]], # period length, number of steps, timestep multiplier\n",
    "                         )"
   ]
  },
  {
   "cell_type": "markdown",
   "metadata": {},
   "source": [
    "## Create groundwater flow model (`gwf`)\n",
    "Changes in the groundwater flow model:\n",
    "* Use the converted value of $k$ in the npf package and use the logarithmic averaging option to compute cell-by-cell hydraulic conductivities.\n",
    "* Use the discharge $Q$ in the well package."
   ]
  },
  {
   "cell_type": "code",
   "execution_count": 4,
   "metadata": {},
   "outputs": [],
   "source": [
    "# groundwater flow model\n",
    "gwf = fp.mf6.ModflowGwf(simulation=sim, # add to simulation called sim\n",
    "                        modelname=gwfname, # name of gwf model\n",
    "                        save_flows=True, # make sure all flows are stored in binary output file\n",
    "                       )\n",
    "\n",
    "# iterative model solver\n",
    "gwf_ims  = fp.mf6.ModflowIms(simulation=sim, # add to simulation called sim\n",
    "                             filename=gwf.name + '.ims', # file name to store ims\n",
    "                             linear_acceleration=\"BICGSTAB\", # use BIConjuGantGradientSTABalized method\n",
    "                            )                                                                                                \n",
    "# register solver\n",
    "sim.register_ims_package(solution_file=gwf_ims, # name of iterative model solver instance\n",
    "                         model_list=[gwf.name], # list with name of groundwater flow model\n",
    "                        )   \n",
    "\n",
    "# discretization\n",
    "gwf_dis = fp.mf6.ModflowGwfdis(model=gwf, # add to groundwater flow model called gwf\n",
    "                               nlay=nlay, \n",
    "                               nrow=nrow, \n",
    "                               ncol=ncol, \n",
    "                               delr=delr, \n",
    "                               delc=delc, \n",
    "                               top=z[0], \n",
    "                               botm=z[1:], \n",
    "                              )\n",
    "\n",
    "# aquifer properties\n",
    "gwf_npf  = fp.mf6.ModflowGwfnpf(model=gwf, \n",
    "                                k=krad, # horizontal k value\n",
    "                                alternative_cell_averaging=\"LOGARITHMIC\", # logarithmic averaging\n",
    "                                save_flows=True, # save the flow for all cells\n",
    "                               )\n",
    "    \n",
    "# initial condition\n",
    "gwf_ic = fp.mf6.ModflowGwfic(model=gwf, \n",
    "                             strt=hR, # initial head used for iterative solution\n",
    "                            )\n",
    "\n",
    "# wells\n",
    "wellin = [[(0, 0, 0),  Q, cf]]   # [(layer, row, col), U, concentration]\n",
    "wellout = [[(0, 0, 0),  -Q, cf]] # specified concentration is not used, but must be specified \n",
    "wel_spd = {0: wellin, 1: wellout} # stress period data for periods 0 and 1\n",
    "gwf_wel = fp.mf6.ModflowGwfwel(model=gwf, \n",
    "                               stress_period_data=wel_spd, \n",
    "                               auxiliary=['CONCENTRATION'],\n",
    "                               pname='WEL1', # package name\n",
    "                              )\n",
    "\n",
    "# constant head \n",
    "chd0 = [[(0,  0,  ncol-1), hR, cs]] # [(layer, row, col), head, concentration]\n",
    "chd_spd  = {0: chd0}    # Stress period data\n",
    "gwf_chd = fp.mf6.ModflowGwfchd(model=gwf, \n",
    "                               stress_period_data=chd_spd, \n",
    "                               auxiliary=['CONCENTRATION'],\n",
    "                               pname='CHD1', # package name\n",
    "                              )\n",
    "    \n",
    "# output control\n",
    "oc = fp.mf6.ModflowGwfoc(model=gwf, \n",
    "                         saverecord=[(\"HEAD\", \"ALL\"), (\"BUDGET\", \"ALL\")], # what to save\n",
    "                         budget_filerecord=f\"{gwfname}.cbc\", # file name where all budget output is stored\n",
    "                         head_filerecord=f\"{gwfname}.hds\", # file name where all head output is stored\n",
    "                        )"
   ]
  },
  {
   "cell_type": "markdown",
   "metadata": {},
   "source": [
    "## Create groundwater transport model (`gwt`)\n",
    "Changes in the transport model: Use the converted value of the porosity in the mst package."
   ]
  },
  {
   "cell_type": "code",
   "execution_count": 5,
   "metadata": {},
   "outputs": [],
   "source": [
    "# groundwater transport model\n",
    "gwt = fp.mf6.ModflowGwt(simulation=sim, \n",
    "                        modelname=gwtname, # name of groundwater transport model\n",
    "                       )\n",
    "\n",
    "# iterative model solver\n",
    "gwt_ims  = fp.mf6.ModflowIms(simulation=sim,\n",
    "                             filename=gwt.name + '.ims', # must be different than file name of gwf model ims\n",
    "                             linear_acceleration=\"BICGSTAB\",\n",
    "                            ) \n",
    "sim.register_ims_package(solution_file=gwt_ims, \n",
    "                         model_list=[gwt.name],\n",
    "                        )\n",
    "\n",
    "# discretization\n",
    "gwt_dis = fp.mf6.ModflowGwtdis(model=gwt, \n",
    "                               nlay=nlay, \n",
    "                               nrow=nrow, \n",
    "                               ncol=ncol, \n",
    "                               delr=delr, \n",
    "                               delc=delc, \n",
    "                               top=z[0], \n",
    "                               botm=z[1:], \n",
    "                              )\n",
    "\n",
    "# mobile storage and transfer\n",
    "gwt_sto = fp.mf6.ModflowGwtmst(model=gwt, \n",
    "                               porosity=nporrad, # porosity\n",
    "                               save_flows=True,\n",
    "                              )\n",
    "\n",
    "# initial condition\n",
    "gwt_ic = fp.mf6.ModflowGwtic(model=gwt, \n",
    "                             strt=cs, # initial concentration\n",
    "                            ) \n",
    "\n",
    "# source sink mixing\n",
    "sourcelist = [(\"WEL1\", \"AUX\", \"CONCENTRATION\"), (\"CHD1\", \"AUX\", \"CONCENTRATION\")]\n",
    "ssm = fp.mf6.ModflowGwtssm(model=gwt, \n",
    "                           sources=sourcelist, \n",
    "                           save_flows=True,\n",
    "                           pname='SSM1', \n",
    "                          )\n",
    "\n",
    "# advection\n",
    "adv = fp.mf6.ModflowGwtadv(model=gwt,  \n",
    "                           scheme=\"TVD\",  # use Total Variation Diminishing (TVD)\n",
    "                           pname='ADV1',\n",
    "                          )\n",
    "\n",
    "# dispersion\n",
    "dsp = fp.mf6.ModflowGwtdsp(model=gwt, \n",
    "                           alh=alphaL,\n",
    "                           ath1=alphaT, \n",
    "                           diffc=diffusion_coef,\n",
    "                           pname='DSP1', \n",
    "                          )\n",
    "\n",
    "# output control\n",
    "oc = fp.mf6.ModflowGwtoc(model=gwt,\n",
    "                         saverecord=[(\"CONCENTRATION\", \"ALL\"), (\"BUDGET\", \"ALL\")], # what to save\n",
    "                         budget_filerecord=f\"{gwtname}.cbc\", # file name where all budget output is stored\n",
    "                         concentration_filerecord=f\"{gwtname}.ucn\", # file name where all concentration output is stored\n",
    "                        )"
   ]
  },
  {
   "cell_type": "markdown",
   "metadata": {},
   "source": [
    "Changes in interaction: None"
   ]
  },
  {
   "cell_type": "code",
   "execution_count": 6,
   "metadata": {},
   "outputs": [],
   "source": [
    "fp.mf6.ModflowGwfgwt(simulation=sim, \n",
    "                     exgtype=\"GWF6-GWT6\", \n",
    "                     exgmnamea=gwf.name , \n",
    "                     exgmnameb=gwt.name , \n",
    "                     filename=f\"{modelname}.gwfgwt\",\n",
    "                    );"
   ]
  },
  {
   "cell_type": "markdown",
   "metadata": {},
   "source": [
    "## Write input files and solve model"
   ]
  },
  {
   "cell_type": "code",
   "execution_count": 7,
   "metadata": {},
   "outputs": [
    {
     "name": "stdout",
     "output_type": "stream",
     "text": [
      "Model solved successfully\n"
     ]
    }
   ],
   "source": [
    "sim.write_simulation(silent=True)\n",
    "success, _ = sim.run_simulation(silent=True) \n",
    "if success == 1:\n",
    "    print('Model solved successfully')\n",
    "else:\n",
    "    print('Solve failed')"
   ]
  },
  {
   "cell_type": "markdown",
   "metadata": {},
   "source": [
    "## Read and plot heads and compare to exact solution\n",
    "The exact solution is\n",
    "\\begin{equation}\n",
    "h = -\\frac{Q}{2\\pi kH}\\ln(r/R)\n",
    "\\end{equation}"
   ]
  },
  {
   "cell_type": "code",
   "execution_count": 8,
   "metadata": {},
   "outputs": [],
   "source": [
    "hds = gwf.output.head() # get handle to binary head file\n",
    "head = hds.get_alldata().squeeze() # get the head data from the file"
   ]
  },
  {
   "cell_type": "code",
   "execution_count": 9,
   "metadata": {},
   "outputs": [
    {
     "data": {
      "image/png": "[encoded data removed]",
      "text/plain": [
       "<Figure size 500x300 with 1 Axes>"
      ]
     },
     "metadata": {},
     "output_type": "display_data"
    }
   ],
   "source": [
    "plt.plot(r, head[0], label='model')\n",
    "hexact = -Q / (2 * np.pi * k * H) * np.log(r / r[-1])\n",
    "plt.plot(r, hexact, '--', label='exact')\n",
    "plt.legend()\n",
    "plt.grid()"
   ]
  },
  {
   "cell_type": "markdown",
   "metadata": {},
   "source": [
    "## Read concentration data and make (interactive) plot"
   ]
  },
  {
   "cell_type": "markdown",
   "metadata": {},
   "source": [
    "Plot the concentration vs. $r$ at 10 day intervals. Make separate plots for the injection and extraction periods."
   ]
  },
  {
   "cell_type": "code",
   "execution_count": 10,
   "metadata": {},
   "outputs": [],
   "source": [
    "cobj = gwt.output.concentration() # get handle to binary concentration file\n",
    "c = cobj.get_alldata().squeeze() # get the concentration data from the file\n",
    "times = np.array(cobj.get_times()) # get the times and convert to array"
   ]
  },
  {
   "cell_type": "code",
   "execution_count": 11,
   "metadata": {},
   "outputs": [
    {
     "data": {
      "image/png": "[encoded data removed]",
      "text/plain": [
       "<Figure size 1000x300 with 2 Axes>"
      ]
     },
     "metadata": {},
     "output_type": "display_data"
    }
   ],
   "source": [
    "# plot concentration vs. x for three different times   \n",
    "plt.figure(figsize=(10, 3))\n",
    "plt.subplot(121)\n",
    "for t in np.arange(10, 31, 10):\n",
    "    itime = np.abs(times - t).argmin() # find index of value in times closest to t\n",
    "    plt.plot(r, c[itime,:], label=f't={times[itime]:.0f} d')\n",
    "plt.title('injection')\n",
    "plt.xlabel('r (m)')\n",
    "plt.ylabel('concentration (g/L)')\n",
    "plt.xlim(0, 40)\n",
    "plt.legend()\n",
    "plt.grid()\n",
    "plt.subplot(122)\n",
    "for t in np.arange(40, 61, 10):\n",
    "    itime = np.abs(times - t).argmin() # find index of value in times closest to t\n",
    "    plt.plot(r, c[itime,:], label=f't={times[itime]:.0f} d')\n",
    "plt.title('extraction')\n",
    "plt.xlabel('r (m)')\n",
    "plt.ylabel('concentration (g/L)')\n",
    "plt.xlim(0, 40)\n",
    "plt.legend()\n",
    "plt.grid()"
   ]
  },
  {
   "cell_type": "markdown",
   "metadata": {},
   "source": [
    "## Interactive plot of concentration"
   ]
  },
  {
   "cell_type": "code",
   "execution_count": 12,
   "metadata": {},
   "outputs": [
    {
     "name": "stderr",
     "output_type": "stream",
     "text": [
      "C:\\Users\\924878\\AppData\\Local\\anaconda3\\Lib\\site-packages\\ipywidgets\\widgets\\widget.py:528: DeprecationWarning: The `ipykernel.comm.Comm` class has been deprecated. Please use the `comm` module instead.For creating comms, use the function `from comm import create_comm`.\n",
      "  self.comm = Comm(**args)\n",
      "C:\\Users\\924878\\AppData\\Local\\anaconda3\\Lib\\site-packages\\ipywidgets\\widgets\\widget.py:528: DeprecationWarning: The `ipykernel.comm.Comm` class has been deprecated. Please use the `comm` module instead.For creating comms, use the function `from comm import create_comm`.\n",
      "  self.comm = Comm(**args)\n",
      "C:\\Users\\924878\\AppData\\Local\\anaconda3\\Lib\\site-packages\\ipywidgets\\widgets\\widget.py:528: DeprecationWarning: The `ipykernel.comm.Comm` class has been deprecated. Please use the `comm` module instead.For creating comms, use the function `from comm import create_comm`.\n",
      "  self.comm = Comm(**args)\n",
      "C:\\Users\\924878\\AppData\\Local\\anaconda3\\Lib\\site-packages\\ipywidgets\\widgets\\widget.py:528: DeprecationWarning: The `ipykernel.comm.Comm` class has been deprecated. Please use the `comm` module instead.For creating comms, use the function `from comm import create_comm`.\n",
      "  self.comm = Comm(**args)\n",
      "C:\\Users\\924878\\AppData\\Local\\anaconda3\\Lib\\site-packages\\ipywidgets\\widgets\\widget.py:528: DeprecationWarning: The `ipykernel.comm.Comm` class has been deprecated. Please use the `comm` module instead.For creating comms, use the function `from comm import create_comm`.\n",
      "  self.comm = Comm(**args)\n",
      "C:\\Users\\924878\\AppData\\Local\\anaconda3\\Lib\\site-packages\\ipywidgets\\widgets\\widget.py:528: DeprecationWarning: The `ipykernel.comm.Comm` class has been deprecated. Please use the `comm` module instead.For creating comms, use the function `from comm import create_comm`.\n",
      "  self.comm = Comm(**args)\n",
      "C:\\Users\\924878\\AppData\\Local\\anaconda3\\Lib\\site-packages\\ipywidgets\\widgets\\widget.py:528: DeprecationWarning: The `ipykernel.comm.Comm` class has been deprecated. Please use the `comm` module instead.For creating comms, use the function `from comm import create_comm`.\n",
      "  self.comm = Comm(**args)\n",
      "C:\\Users\\924878\\AppData\\Local\\anaconda3\\Lib\\site-packages\\ipywidgets\\widgets\\interaction.py:43: DeprecationWarning: `ipykernel.pylab.backend_inline` is deprecated, directly use `matplotlib_inline.backend_inline`\n",
      "  from ipykernel.pylab.backend_inline import flush_figures\n"
     ]
    },
    {
     "data": {
      "application/vnd.jupyter.widget-view+json": {
       "model_id": "1918227a81f740f8a647fd35c50fe28d",
       "version_major": 2,
       "version_minor": 0
      },
      "text/plain": [
       "interactive(children=(IntSlider(value=299, description='tstep', max=599), Output()), _dom_classes=('widget-int…"
      ]
     },
     "metadata": {},
     "output_type": "display_data"
    }
   ],
   "source": [
    "from ipywidgets import interact\n",
    "\n",
    "def plot(tstep):\n",
    "    plt.subplot(111, xlim=(0, 60), ylim=(0, 35), xlabel='r (m)', ylabel='concentration (g/L)')\n",
    "    plt.plot(r, c[tstep])\n",
    "\n",
    "interact(plot, tstep=(0, 2 * nstepin - 1, 1));"
   ]
  },
  {
   "cell_type": "markdown",
   "metadata": {},
   "source": [
    "## Mass balance\n",
    "During an injection time step, freshwater with concentration $c_f$ flows into the system at a rate $Q$, while saltwater with concentration $c_s$ flows out of the system at a rate $Q$ (recall that flow is stationary). Hence, the change in mass of salt $\\Delta M_1$ (positive for an increase in mass) in the system during a time step is \\begin{equation}\n",
    "\\Delta M_1 = (Q c_f - Q c_s)\\Delta t\n",
    "\\end{equation}\n",
    "During an extraction time sep, the mass increase is\n",
    "\\begin{equation}\n",
    "\\Delta M_1 = (-Q c_0 + Q c_s)\\Delta t\n",
    "\\end{equation}\n",
    "If the mass balance is met, this change in mass must be equal to the change in mass in the system $\\Delta M_2$\n",
    "\\begin{equation}\n",
    "\\Delta M_2 = \\sum_i{(c_i(t)-c_i(t-\\Delta t)) (r_{i+1}^2 - r_{i}^2) \\pi H n\\Delta x}\n",
    "\\end{equation}\n",
    "where $r_i$ is the radial distance of the left side of cell $i$. \n",
    "The mass balance is computed for one time step as follows "
   ]
  },
  {
   "cell_type": "markdown",
   "metadata": {},
   "source": [
    "## Recovery efficiency\n",
    "The recovery efficiency is computed using $c_\\text{limit}=1$ kg/m$^3$ (g/L) as follows"
   ]
  },
  {
   "cell_type": "code",
   "execution_count": 13,
   "metadata": {},
   "outputs": [],
   "source": [
    "climit = 1 # limit concentration, g/L"
   ]
  },
  {
   "cell_type": "code",
   "execution_count": 14,
   "metadata": {},
   "outputs": [
    {
     "name": "stdout",
     "output_type": "stream",
     "text": [
      "first time when c exceeds climit: 44.4 d when concentration is 1.03 g/L\n",
      "recovery efficiency = 47.7 %\n"
     ]
    }
   ],
   "source": [
    "for itime in range(400, 800):\n",
    "    if c[itime, 0] > climit:\n",
    "        break\n",
    "print(f'first time when c exceeds climit: {round(times[itime], 2)} d when concentration is {c[itime, 0]:.2f} g/L')\n",
    "\n",
    "rec_eff = ((times[itime - 1] - tin) * Q) / (tin * Q) # Q not needed as injection and extraction rates are the same\n",
    "print(f'recovery efficiency = {rec_eff * 100:.1f} %')"
   ]
  },
  {
   "cell_type": "markdown",
   "metadata": {},
   "source": [
    "## Two cycles\n",
    "The recovery efficiency generally improves with more cycles. In the code block below, two cycles are performed. Extraction during the first cycle is stopped when the concentration in the well reaches $c_\\text{limit}$. The concentration at the end of the first cycle is used as the initial condition of the second cycle. "
   ]
  },
  {
   "cell_type": "code",
   "execution_count": 15,
   "metadata": {},
   "outputs": [
    {
     "name": "stdout",
     "output_type": "stream",
     "text": [
      "WARNING: Package with type ic already exists. Replacing existing package.\n",
      "Model solved successfully\n",
      "recovery efficiency = 47.7 %\n",
      "WARNING: Package with type ic already exists. Replacing existing package.\n",
      "Model solved successfully\n",
      "recovery efficiency = 70.3 %\n"
     ]
    }
   ],
   "source": [
    "# initial condition\n",
    "gwt_ic = fp.mf6.ModflowGwtic(model=gwt, \n",
    "                             strt=cs, # initial concentration\n",
    "                            ) \n",
    "\n",
    "# write model, solve model, and read concentration data\n",
    "sim.write_simulation(silent=True)\n",
    "success, _ = sim.run_simulation(silent=True) \n",
    "if success == 1:\n",
    "    print('Model solved successfully')\n",
    "else:\n",
    "    print('Solve failed')\n",
    "\n",
    "cobj = gwt.output.concentration() # get handle to binary concentration file\n",
    "c0 = cobj.get_alldata().squeeze() # get the concentration data from the file\n",
    "\n",
    "for itime in range(400, 800):\n",
    "    if c0[itime, 0] > climit:\n",
    "        itime0 = itime\n",
    "        break\n",
    "\n",
    "rec_eff = ((times[itime - 1] - tin) * Q) / (tin * Q) # U not needed as injection and extraction rates are the same\n",
    "print(f'recovery efficiency = {rec_eff * 100:.1f} %')\n",
    "\n",
    "# initial condition\n",
    "gwt_ic = fp.mf6.ModflowGwtic(model=gwt, \n",
    "                             strt=c0[itime - 1], # initial concentration\n",
    "                            ) \n",
    "\n",
    "# write model, solve model, and read concentration data\n",
    "sim.write_simulation(silent=True)\n",
    "success, _ = sim.run_simulation(silent=True) \n",
    "if success == 1:\n",
    "    print('Model solved successfully')\n",
    "else:\n",
    "    print('Solve failed')\n",
    "\n",
    "cobj = gwt.output.concentration() # get handle to binary concentration file\n",
    "c1 = cobj.get_alldata().squeeze() # get the concentration data from the file\n",
    "\n",
    "for itime in range(400, 800):\n",
    "    if c1[itime, 0] > climit:\n",
    "        itime1 = itime\n",
    "        break\n",
    "\n",
    "rec_eff = ((times[itime - 1] - tin) * Q) / (tin * Q) # U not needed as injection and extraction rates are the same\n",
    "print(f'recovery efficiency = {rec_eff * 100:.1f} %')"
   ]
  },
  {
   "cell_type": "markdown",
   "metadata": {},
   "source": [
    "All concentrations are put into one array that is then used for plotting. "
   ]
  },
  {
   "cell_type": "code",
   "execution_count": 16,
   "metadata": {},
   "outputs": [],
   "source": [
    "# gather all concentration in one array\n",
    "c0[itime0:] = c0[itime0 - 1]\n",
    "c1[itime1:] = c1[itime1 - 1]\n",
    "cplot = np.vstack((c0, c1))"
   ]
  },
  {
   "cell_type": "code",
   "execution_count": 17,
   "metadata": {},
   "outputs": [
    {
     "name": "stderr",
     "output_type": "stream",
     "text": [
      "C:\\Users\\924878\\AppData\\Local\\anaconda3\\Lib\\site-packages\\ipywidgets\\widgets\\widget.py:528: DeprecationWarning: The `ipykernel.comm.Comm` class has been deprecated. Please use the `comm` module instead.For creating comms, use the function `from comm import create_comm`.\n",
      "  self.comm = Comm(**args)\n",
      "C:\\Users\\924878\\AppData\\Local\\anaconda3\\Lib\\site-packages\\ipywidgets\\widgets\\widget.py:528: DeprecationWarning: The `ipykernel.comm.Comm` class has been deprecated. Please use the `comm` module instead.For creating comms, use the function `from comm import create_comm`.\n",
      "  self.comm = Comm(**args)\n",
      "C:\\Users\\924878\\AppData\\Local\\anaconda3\\Lib\\site-packages\\ipywidgets\\widgets\\widget.py:528: DeprecationWarning: The `ipykernel.comm.Comm` class has been deprecated. Please use the `comm` module instead.For creating comms, use the function `from comm import create_comm`.\n",
      "  self.comm = Comm(**args)\n",
      "C:\\Users\\924878\\AppData\\Local\\anaconda3\\Lib\\site-packages\\ipywidgets\\widgets\\widget.py:528: DeprecationWarning: The `ipykernel.comm.Comm` class has been deprecated. Please use the `comm` module instead.For creating comms, use the function `from comm import create_comm`.\n",
      "  self.comm = Comm(**args)\n",
      "C:\\Users\\924878\\AppData\\Local\\anaconda3\\Lib\\site-packages\\ipywidgets\\widgets\\widget.py:528: DeprecationWarning: The `ipykernel.comm.Comm` class has been deprecated. Please use the `comm` module instead.For creating comms, use the function `from comm import create_comm`.\n",
      "  self.comm = Comm(**args)\n",
      "C:\\Users\\924878\\AppData\\Local\\anaconda3\\Lib\\site-packages\\ipywidgets\\widgets\\widget.py:528: DeprecationWarning: The `ipykernel.comm.Comm` class has been deprecated. Please use the `comm` module instead.For creating comms, use the function `from comm import create_comm`.\n",
      "  self.comm = Comm(**args)\n",
      "C:\\Users\\924878\\AppData\\Local\\anaconda3\\Lib\\site-packages\\ipywidgets\\widgets\\widget.py:528: DeprecationWarning: The `ipykernel.comm.Comm` class has been deprecated. Please use the `comm` module instead.For creating comms, use the function `from comm import create_comm`.\n",
      "  self.comm = Comm(**args)\n"
     ]
    },
    {
     "data": {
      "application/vnd.jupyter.widget-view+json": {
       "model_id": "8db808318b07471a82f1de96626f66e8",
       "version_major": 2,
       "version_minor": 0
      },
      "text/plain": [
       "interactive(children=(IntSlider(value=599, description='tstep', max=1199), Output()), _dom_classes=('widget-in…"
      ]
     },
     "metadata": {},
     "output_type": "display_data"
    }
   ],
   "source": [
    "from ipywidgets import interact\n",
    "\n",
    "def plot(tstep):\n",
    "    plt.subplot(111, xlim=(0, 60), ylim=(0, 35), xlabel='r (m)', ylabel='concentration (g/L)')\n",
    "    plt.plot(r, cplot[tstep])\n",
    "\n",
    "interact(plot, tstep=(0, 4 * nstepin - 1, 1));"
   ]
  },
  {
   "cell_type": "markdown",
   "metadata": {},
   "source": [
    "## Homework\n",
    "Use the parameters defined in the code block at the beginning of this notebook.\n",
    "\n",
    "### Problem 1\n",
    "Simulate one cycle.\n",
    "Plot the change in mass during the entire cycle vs. the time step. Plot both $\\Delta M1$ and $\\Delta M2$ in one graph. Don't forget to add a legend.\n",
    "\n",
    "### Problem 2\n",
    "Compute the recovery efficiency for the first five cycles and plot the recovery efficiency vs. the cycle number in one graph. You must use a loop to perform the five cycles. "
   ]
  },
  {
   "cell_type": "code",
   "execution_count": 19,
   "metadata": {
    "tags": []
   },
   "outputs": [
    {
     "name": "stdout",
     "output_type": "stream",
     "text": [
      "WARNING: Package with type ic already exists. Replacing existing package.\n",
      "Model solved successfully\n",
      "Recovery efficiency for cycle 1 = 70.3 %\n",
      "WARNING: Package with type ic already exists. Replacing existing package.\n",
      "Model solved successfully\n",
      "Recovery efficiency for cycle 2 = 70.3 %\n",
      "WARNING: Package with type ic already exists. Replacing existing package.\n",
      "Model solved successfully\n",
      "Recovery efficiency for cycle 3 = 70.3 %\n",
      "WARNING: Package with type ic already exists. Replacing existing package.\n",
      "Model solved successfully\n",
      "Recovery efficiency for cycle 4 = 70.3 %\n",
      "WARNING: Package with type ic already exists. Replacing existing package.\n",
      "Model solved successfully\n",
      "Recovery efficiency for cycle 5 = 70.3 %\n"
     ]
    },
    {
     "data": {
      "image/png": "[encoded data removed]",
      "text/plain": [
       "<Figure size 500x300 with 1 Axes>"
      ]
     },
     "metadata": {},
     "output_type": "display_data"
    }
   ],
   "source": [
    "# Number of cycles\n",
    "num_cycles = 5\n",
    "\n",
    "# Arrays to store recovery efficiencies for each cycle\n",
    "cycle_numbers = []\n",
    "recovery_efficiencies = []\n",
    "\n",
    "for cycle in range(1, num_cycles + 1):\n",
    "    # initial condition\n",
    "    gwt_ic = fp.mf6.ModflowGwtic(model=gwt, strt=c0[itime - 1])\n",
    "\n",
    "    # write model, solve model, and read concentration data\n",
    "    sim.write_simulation(silent=True)\n",
    "    success, _ = sim.run_simulation(silent=True)\n",
    "    if success == 1:\n",
    "        print('Model solved successfully')\n",
    "    else:\n",
    "        print('Solve failed')\n",
    "\n",
    "    cobj = gwt.output.concentration()\n",
    "    c = cobj.get_alldata().squeeze()\n",
    "\n",
    "    # Find the time step when concentration exceeds climit\n",
    "    for itime in range(400, 800):\n",
    "        if c[itime, 0] > climit:\n",
    "            break\n",
    "\n",
    "    rec_eff = ((times[itime - 1] - tin) * Q) / (tin * Q)\n",
    "    print(f'Recovery efficiency for cycle {cycle} = {rec_eff * 100:.1f} %')\n",
    "\n",
    "    # Store results for plotting\n",
    "    cycle_numbers.append(cycle)\n",
    "    recovery_efficiencies.append(rec_eff)\n",
    "\n",
    "    # Update initial condition for the next cycle\n",
    "    gwt_ic.strt = c[itime - 1]\n",
    "\n",
    "# Plot the results\n",
    "plt.plot(cycle_numbers, recovery_efficiencies, marker='o')\n",
    "plt.xlabel('Cycle Number')\n",
    "plt.ylabel('Recovery Efficiency (%)')\n",
    "plt.title('Recovery Efficiency vs. Cycle Number')\n",
    "plt.grid(True)\n",
    "plt.show()"
   ]
  },
  {
   "cell_type": "code",
   "execution_count": null,
   "metadata": {},
   "outputs": [],
   "source": []
  }
 ],
 "metadata": {
  "kernelspec": {
   "display_name": "Python 3 (ipykernel)",
   "language": "python",
   "name": "python3"
  },
  "language_info": {
   "codemirror_mode": {
    "name": "ipython",
    "version": 3
   },
   "file_extension": ".py",
   "mimetype": "text/x-python",
   "name": "python",
   "nbconvert_exporter": "python",
   "pygments_lexer": "ipython3",
   "version": "3.11.5"
  }
 },
 "nbformat": 4,
 "nbformat_minor": 4
}
