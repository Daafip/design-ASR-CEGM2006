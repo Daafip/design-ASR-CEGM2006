{
 "cells": [
  {
   "cell_type": "markdown",
   "metadata": {},
   "source": [
    "# One-Dimensional linear Aquifer Storage with MODFLOW6 and Flopy\n",
    "\n",
    "In this notebook, we will learn how to:\n",
    "1. Setup a MODFLOW6 model for one-dimensional flow and transport in a single layer.\n",
    "2. Simulate injection of freshwater.\n",
    "3. Visualize the output and check the mass balance.\n",
    "\n",
    "Before you can start, you have to make sure you have installed the flopy package (`pip install flopy`) and that you have downloaded the MODFLOW6 executable from [here](https://github.com/MODFLOW-USGS/executables) (this will download a zip file with many executables from the MODFLOW family; for this class you only need to keep the `mf6` executable). Put the `mf6` executable in a subdirectory `bin` one directory down from the directory that contains this notebook."
   ]
  },
  {
   "cell_type": "code",
   "execution_count": 1,
   "metadata": {},
   "outputs": [],
   "source": [
    "# import the necessary packages\n",
    "import numpy as np\n",
    "import matplotlib.pyplot as plt\n",
    "plt.rcParams['figure.figsize'] = (5, 3) # set default figure size\n",
    "import flopy as fp  # import flopy and call it fp"
   ]
  },
  {
   "cell_type": "markdown",
   "metadata": {},
   "source": [
    "## Description of the flow problem\n",
    "Consider one-dimensional flow in a semi-infinite confined aquifer. The aquifer extends from $x=0$ to $x=L$ in the $x$ direction, where $L$ is chosen far enough away not to effect the flow solution.  Water is injected at the left side at a rate $U$ such that the average velocity in the aquifer is 1 m/d. The head is fixed on the right side to $h_R$. Flow is considered to be at steady state instantaneously. \n",
    "\n",
    "The initial salt concentration is equal to $c_s$ everywhere. Injection of fresh water with concentration $c_f$ starts at $t=0$. "
   ]
  },
  {
   "cell_type": "code",
   "execution_count": 2,
   "metadata": {},
   "outputs": [],
   "source": [
    "# domain size and boundary conditions\n",
    "L = 80 # length of domain, m\n",
    "hR = 0 # head at right side of domain\n",
    "\n",
    "# aquifer parameters\n",
    "k = 20 # hydraulic conductivity, m/d\n",
    "H = 20 # aquifer thickness, m\n",
    "npor = 0.25 # porosity, -\n",
    "\n",
    "# flow\n",
    "vavg = 1 # average velocity, m/d\n",
    "U = vavg * npor * H # computed total inflow, m^2/d\n",
    "\n",
    "# transport\n",
    "alphaL = 0.1 # longitudinal dispersivity in horizontal direction, m\n",
    "alphaT = alphaL / 10 # transverse dispersivity is 10 times smaller than longitudinal, m\n",
    "diffusion_coef = 0 # diffusion is not modeled\n",
    "\n",
    "# concentration\n",
    "cs = 35 # initial concentration, kg/m^3 (=g/L)\n",
    "cf = 0 # concentration injected water, kg/m^3 (=g/L)\n",
    "\n",
    "# space discretization\n",
    "delr = 0.2 # length of cell along row (in x-direction), m\n",
    "delc = 1 # width of cells normal to plane of flow (in y-direction), m\n",
    "z = [0, -H] # top and bottom(s) of layers\n",
    "nlay = 1 # number of layers\n",
    "nrow = 1 # number of rows\n",
    "ncol = round(L / delr) # number of columns\n",
    "xg = np.cumsum(delr * np.ones(ncol)) - delr / 2 # centers of grid cells, m\n",
    "\n",
    "# time and time discretization\n",
    "tin = 40 # injection time, d\n",
    "delt = 0.1 # time step, d\n",
    "nstep = round(tin / delt) # computed number of steps, integer\n",
    "\n",
    "# model name and workspace\n",
    "modelname = 'model1d' # name of model\n",
    "gwfname = modelname + 'f' # name of flow model\n",
    "gwtname = modelname + 't' # name of transport model\n",
    "modelws = './' + modelname # model workspace to be used (where MODFLOW will store all the files)"
   ]
  },
  {
   "cell_type": "markdown",
   "metadata": {},
   "source": [
    "In MODFLOW6 the first step is to create a so-called `Simulation`. A simulation may contain one or more models. Here, the simulation contains a groundwater flow model and a groundwater transport model. These models may use different solvers, but share the same time discretization.\n",
    "\n",
    "The general process of generating a combined groundwater flow and tranport simulation in MODFLOW6 is:\n",
    "* Define the model name and workspace\n",
    "* Create simulation and call it `sim`\n",
    "  * Add time discretization to `sim`\n",
    "  * Add groundwater flow model (called `gwf`) to `sim`\n",
    "    * Add iterative model solver to `gwf` and register solver\n",
    "    * Add features to groundwater model `gwf` (multiple steps)\n",
    "  * Add transport model (called `gwt`) to `sim`\n",
    "    * Add iterative model solver to `gwt` and register solver\n",
    "    * Add features to groundwater model `gwt` (multiple steps)\n",
    "* Write MODFLOW input files for `sim`\n",
    "* Solve simulation `sim`\n",
    "* Read MODFLOW output for `sim`\n",
    "* Visualize output"
   ]
  },
  {
   "cell_type": "markdown",
   "metadata": {},
   "source": [
    "## Create Simulation\n",
    "Create a simulation and store it in the variable `sim`. The meaning of the keywords is explained in the comments at the end of each line (unless it is self-explanatory).\n",
    "\n",
    "The time discretization is defined as part of the simulation. The time units are defined as days, but this is used only to control the text in the output files. The user is responsible for making sure that the length and time units of all model variables are consistent. Here, we use meters and days.\n",
    "\n",
    "Each simulation is divided into stress periods. \n",
    "All stresses are constant during a stress period. \n",
    "For each stress period,  the length of the period, the number of steps during the period, and a timestep multiplier must be specified.\n",
    "The `perioddata` is a list with a list of `[period length, number of steps, timestep multiplier]` for each stress period.  "
   ]
  },
  {
   "cell_type": "code",
   "execution_count": 3,
   "metadata": {
    "scrolled": true
   },
   "outputs": [],
   "source": [
    "# simulation\n",
    "sim = fp.mf6.MFSimulation(sim_name=modelname, # name of simulation\n",
    "                          version='mf6', # version of MODFLOW\n",
    "                          exe_name='../bin/mf6', # path to MODFLOW executable\n",
    "                          sim_ws=modelws, # path to workspace where all files are stored\n",
    "                         )\n",
    "\n",
    "# time discretization\n",
    "tdis = fp.mf6.ModflowTdis(simulation=sim, # add to the simulation called sim (defined above)\n",
    "                          time_units=\"DAYS\", \n",
    "                          nper=1, # number of stress periods \n",
    "                          perioddata=[[tin, nstep, 1]], # period length, number of steps, timestep multiplier\n",
    "                         )"
   ]
  },
  {
   "cell_type": "markdown",
   "metadata": {},
   "source": [
    "## Create groundwater flow model (`gwf`)\n",
    "A groundwater flow model is added to the simulation. The groundwater flow model is stored in the variable `gwf`.\n",
    "The following features are added to the groundwater flow model `gwf`:\n",
    "* Iterative model solver \\\n",
    "  The iterative model solver is defined and added to the simulation (not the groundwater model) and must include a separate file name. After creation, the iterative model solver needs to be registered with the simulation (this is a somewhat strange step that can hopefully be done automatically by flopy in the future). \n",
    "* Spatial discretization \\\n",
    "  All function arguments are self explanatory and previously defined. \n",
    "* Aquifer properties \\\n",
    "  Specify the hydraulic conductivity of the layer (which may be different for each layer in case there are multiple layers).\n",
    "* Initial conditions \\\n",
    "  Initial conditions must be specified for all simulations, even for steady simulations (where they serve as starting guesses for the iterative solution).\n",
    "* Inflow on the left side of the model \\\n",
    "  Inflow is simulated by specifying a well in the first cell (column 0) by specifying the location and discharge (positive for injecting water, negative for extracting water) and the concentration of the injected water (the concentration is an auxiliary variable and it must be specified separately that the auxiliary variable is indeed concentration). Wells are constant for a stress period bu may change from one stress period to another. The `stress_period_data` is a dictionary with all the wells for each stress period (we only have 1 well), starting with period 0. A nested list is provided for each stress period with a list for each well containing a tuple with (layer, row, column) of the cell where the well is located, the discharge, and the concentration of the injected water. \n",
    "```\n",
    "{stress_period number: [[(layer, row, column), discharge, conc]],\n",
    " stress_period number: [[(layer, row, column), discharge, conc]], ... }\n",
    "```\n",
    "* Specified head on the right side of the model \\\n",
    "  Specified head cells are specified in a similar manner as wells by specifying the stress period data, but now the discharge is replaced by the specified_head.\n",
    "* Output control \\\n",
    "  The output control package determines which output is saved and how frequent. The `saverecord` keyword has many options to save only part of the model output (useful for large models), for example heads or water budget terms. For this small model, we save `ALL` values."
   ]
  },
  {
   "cell_type": "code",
   "execution_count": 4,
   "metadata": {},
   "outputs": [],
   "source": [
    "# groundwater flow model\n",
    "gwf = fp.mf6.ModflowGwf(simulation=sim, # add to simulation called sim\n",
    "                        modelname=gwfname, # name of gwf model\n",
    "                        save_flows=True, # make sure all flows are stored in binary output file\n",
    "                       )\n",
    "\n",
    "# iterative model solver\n",
    "gwf_ims  = fp.mf6.ModflowIms(simulation=sim, # add to simulation called sim\n",
    "                             filename=gwf.name + '.ims', # file name to store ims\n",
    "                             linear_acceleration=\"BICGSTAB\", # use BIConjuGantGradientSTABalized method\n",
    "                            )                                                                                                \n",
    "# register solver\n",
    "sim.register_ims_package(solution_file=gwf_ims, # name of iterative model solver instance\n",
    "                         model_list=[gwf.name], # list with name of groundwater flow model\n",
    "                        )   \n",
    "\n",
    "# discretization\n",
    "gwf_dis = fp.mf6.ModflowGwfdis(model=gwf, # add to groundwater flow model called gwf\n",
    "                               nlay=nlay, \n",
    "                               nrow=nrow, \n",
    "                               ncol=ncol, \n",
    "                               delr=delr, \n",
    "                               delc=delc, \n",
    "                               top=z[0], \n",
    "                               botm=z[1:], \n",
    "                              )\n",
    "\n",
    "# aquifer properties\n",
    "gwf_npf  = fp.mf6.ModflowGwfnpf(model=gwf, \n",
    "                                k=k, # horizontal k value\n",
    "                                save_flows=True, # save the flow for all cells\n",
    "                               )\n",
    "    \n",
    "# initial condition\n",
    "gwf_ic = fp.mf6.ModflowGwfic(model=gwf, \n",
    "                             strt=hR, # initial head used for iterative solution\n",
    "                            )\n",
    "\n",
    "# wells\n",
    "wellin = [[(0, 0, 0),  U, cf]]   # [(layer, row, col), U, concentration]\n",
    "wel_spd = {0: wellin} # stress period data for period 0 is wellin\n",
    "gwf_wel = fp.mf6.ModflowGwfwel(model=gwf, \n",
    "                               stress_period_data=wel_spd, \n",
    "                               auxiliary=['CONCENTRATION'],\n",
    "                               pname='WEL1', # package name\n",
    "                              )\n",
    "\n",
    "# constant head \n",
    "chd0 = [[(0,  0,  ncol-1), hR, cs]] # [(layer, row, col), head, concentration]\n",
    "chd_spd  = {0: chd0} # stress period data\n",
    "gwf_chd = fp.mf6.ModflowGwfchd(model=gwf, \n",
    "                               stress_period_data=chd_spd, \n",
    "                               auxiliary=['CONCENTRATION'],\n",
    "                               pname='CHD1', # package name\n",
    "                              )\n",
    "    \n",
    "# output control\n",
    "oc = fp.mf6.ModflowGwfoc(model=gwf, \n",
    "                         saverecord=[(\"HEAD\", \"ALL\"), (\"BUDGET\", \"ALL\")], # what to save\n",
    "                         budget_filerecord=f\"{gwfname}.cbc\", # file name where all budget output is stored\n",
    "                         head_filerecord=f\"{gwfname}.hds\", # file name where all head output is stored\n",
    "                        )"
   ]
  },
  {
   "cell_type": "markdown",
   "metadata": {},
   "source": [
    "## Create groundwater transport model (`gwt`)\n",
    "A transport model is added to the simulation. The transport model is stored in the variable `gwt`.\n",
    "The following features are added to the groundwater transport model `gwt`:\n",
    "* Iterative model solver \\\n",
    "  A separate iterative solver instance must be defined and added to the simuluation `sim`, even when all solver settings are the same as for the groundwater flow model. The iterative model solver must include a file name that is different from the file name used for the groundwater flow model. As for the `gwf` model, the iterative model solver must be registered with the simulation.\n",
    "* Spatial discretization \\\n",
    "  All function arguments are the same as for the groundwater flow model. It may seem silly to have to define the discretization again, but it is actually possible to do a transport model without a groundwater flow model (but we are not doing that). \n",
    "* Storage and transfer \\\n",
    "  Specify the porosity of the layer (which may be different for each layer in case there are multiple layers).\n",
    "* Initial conditions \\\n",
    "  Specify the initial concentration. Here it is constant, so 1 value is sufficient, but this may also be an array with a different value for each cell (as we will do when when we will start simulating multiple cycles). \n",
    "* Source sink mixing \\\n",
    "  Specify how concentration is assigned for sources and sinks in the flow model. We have both wells and constant head cells for which we specified the concentration through a `'CONCENTRATION'` auxiliary variable. Use the `pname` that are specified for the WEL and CHD packages.\n",
    "* Advection \\\n",
    "  Specify what solution method to use for the advection term.\n",
    "* Dispersion \\\n",
    "  Specify the dispersivity and the diffusion coefficient.\n",
    "* Output control \\\n",
    "  Similar to the output control of the groundwater flow model, but now save the concentration rather than the head."
   ]
  },
  {
   "cell_type": "code",
   "execution_count": 5,
   "metadata": {},
   "outputs": [],
   "source": [
    "# groundwater transport model\n",
    "gwt = fp.mf6.ModflowGwt(simulation=sim, \n",
    "                        modelname=gwtname, # name of groundwater transport model\n",
    "                       )\n",
    "\n",
    "# iterative model solver\n",
    "gwt_ims  = fp.mf6.ModflowIms(simulation=sim, # add to simulation\n",
    "                             filename=gwt.name + '.ims', # must be different than file name of gwf model ims\n",
    "                             linear_acceleration=\"BICGSTAB\",\n",
    "                            ) \n",
    "sim.register_ims_package(solution_file=gwt_ims, \n",
    "                         model_list=[gwt.name],\n",
    "                        )\n",
    "\n",
    "# discretization\n",
    "gwt_dis = fp.mf6.ModflowGwtdis(model=gwt, # add to gwt model\n",
    "                               nlay=nlay, \n",
    "                               nrow=nrow, \n",
    "                               ncol=ncol, \n",
    "                               delr=delr, \n",
    "                               delc=delc, \n",
    "                               top=z[0], \n",
    "                               botm=z[1:], \n",
    "                              )\n",
    "\n",
    "# mobile storage and transfer\n",
    "gwt_sto = fp.mf6.ModflowGwtmst(model=gwt, \n",
    "                               porosity=npor, # porosity\n",
    "                               save_flows=True,\n",
    "                              )\n",
    "\n",
    "# initial condition\n",
    "gwt_ic = fp.mf6.ModflowGwtic(model=gwt, \n",
    "                             strt=cs, # initial concentration\n",
    "                            ) \n",
    "\n",
    "# source sink mixing\n",
    "sourcelist = [(\"WEL1\", \"AUX\", \"CONCENTRATION\"), (\"CHD1\", \"AUX\", \"CONCENTRATION\")] # list of (pname, 'AUX', 'CONCENTRATION')\n",
    "ssm = fp.mf6.ModflowGwtssm(model=gwt, \n",
    "                           sources=sourcelist, \n",
    "                           save_flows=True,\n",
    "                           pname='SSM1', \n",
    "                          )\n",
    "\n",
    "# advection\n",
    "adv = fp.mf6.ModflowGwtadv(model=gwt,  \n",
    "                           scheme=\"TVD\", # use the Total Variation Diminishing (TVD) method\n",
    "                           pname='ADV1',\n",
    "                          )\n",
    "\n",
    "# dispersion\n",
    "dsp = fp.mf6.ModflowGwtdsp(model=gwt, \n",
    "                           alh=alphaL, # longitudinal dispersivity\n",
    "                           ath1=alphaT, # transverse dispersivity\n",
    "                           diffc=diffusion_coef, # diffusion coefficient\n",
    "                           pname='DSP1', \n",
    "                          )\n",
    "\n",
    "# output control\n",
    "oc = fp.mf6.ModflowGwtoc(model=gwt,\n",
    "                         saverecord=[(\"CONCENTRATION\", \"ALL\"), (\"BUDGET\", \"ALL\")], # what to save\n",
    "                         budget_filerecord=f\"{gwtname}.cbc\", # file name where all budget output is stored\n",
    "                         concentration_filerecord=f\"{gwtname}.ucn\", # file name where all concentration output is stored\n",
    "                        )"
   ]
  },
  {
   "cell_type": "markdown",
   "metadata": {},
   "source": [
    "Define the interaction between the groundwater flow model and the transport model and add it to the simulation."
   ]
  },
  {
   "cell_type": "code",
   "execution_count": 6,
   "metadata": {},
   "outputs": [],
   "source": [
    "fp.mf6.ModflowGwfgwt(simulation=sim, \n",
    "                     exgtype=\"GWF6-GWT6\", \n",
    "                     exgmnamea=gwf.name, # name of groundwater flow model \n",
    "                     exgmnameb=gwt.name, # name of transport model\n",
    "                     filename=f\"{modelname}.gwfgwt\",\n",
    "                    );"
   ]
  },
  {
   "cell_type": "markdown",
   "metadata": {},
   "source": [
    "## Write input files and solve model\n",
    "We are finally ready to write the input files and solve the model. First, we write the input files. This will print a lot of information to the screen (which can be silenced if desired with the `silent=True` option).\n",
    "Note that `flopy` creates a subdirectory called `model1` (the `modelws` defined in one of the first code cells of this notebook) that contains all the MODFLOW input files. Check the `modelws` directory to see what files were created. You may also inspect the contents of some of the files. Their exact format is specified in the USGS manual mfio.pdf. FloPy takes care of all the painstaking work that is required to create these input files by hand!\n",
    "\n",
    "Finally, we solve the model. If all goes well, the final statement on the screen is `Normal termination of simulation.`"
   ]
  },
  {
   "cell_type": "code",
   "execution_count": 7,
   "metadata": {},
   "outputs": [
    {
     "ename": "FileNotFoundError",
     "evalue": "The program ../bin/mf6 does not exist or is not executable.",
     "output_type": "error",
     "traceback": [
      "\u001b[1;31m---------------------------------------------------------------------------\u001b[0m",
      "\u001b[1;31mFileNotFoundError\u001b[0m                         Traceback (most recent call last)",
      "Cell \u001b[1;32mIn[7], line 2\u001b[0m\n\u001b[0;32m      1\u001b[0m sim\u001b[38;5;241m.\u001b[39mwrite_simulation(silent\u001b[38;5;241m=\u001b[39m\u001b[38;5;28;01mTrue\u001b[39;00m)\n\u001b[1;32m----> 2\u001b[0m success, _ \u001b[38;5;241m=\u001b[39m sim\u001b[38;5;241m.\u001b[39mrun_simulation(silent\u001b[38;5;241m=\u001b[39m\u001b[38;5;28;01mTrue\u001b[39;00m) \n\u001b[0;32m      3\u001b[0m \u001b[38;5;28;01mif\u001b[39;00m success \u001b[38;5;241m==\u001b[39m \u001b[38;5;241m1\u001b[39m:\n\u001b[0;32m      4\u001b[0m     \u001b[38;5;28mprint\u001b[39m(\u001b[38;5;124m'\u001b[39m\u001b[38;5;124mModel solved successfully\u001b[39m\u001b[38;5;124m'\u001b[39m)\n",
      "File \u001b[1;32m~\\AppData\\Local\\anaconda3\\Lib\\site-packages\\flopy\\mf6\\modflow\\mfsimulation.py:1615\u001b[0m, in \u001b[0;36mMFSimulation.run_simulation\u001b[1;34m(self, silent, pause, report, processors, normal_msg, use_async, cargs)\u001b[0m\n\u001b[0;32m   1613\u001b[0m     \u001b[38;5;28;01melse\u001b[39;00m:\n\u001b[0;32m   1614\u001b[0m         silent \u001b[38;5;241m=\u001b[39m \u001b[38;5;28;01mTrue\u001b[39;00m\n\u001b[1;32m-> 1615\u001b[0m \u001b[38;5;28;01mreturn\u001b[39;00m run_model(\n\u001b[0;32m   1616\u001b[0m     \u001b[38;5;28mself\u001b[39m\u001b[38;5;241m.\u001b[39mexe_name,\n\u001b[0;32m   1617\u001b[0m     \u001b[38;5;28;01mNone\u001b[39;00m,\n\u001b[0;32m   1618\u001b[0m     \u001b[38;5;28mself\u001b[39m\u001b[38;5;241m.\u001b[39msimulation_data\u001b[38;5;241m.\u001b[39mmfpath\u001b[38;5;241m.\u001b[39mget_sim_path(),\n\u001b[0;32m   1619\u001b[0m     silent\u001b[38;5;241m=\u001b[39msilent,\n\u001b[0;32m   1620\u001b[0m     pause\u001b[38;5;241m=\u001b[39mpause,\n\u001b[0;32m   1621\u001b[0m     report\u001b[38;5;241m=\u001b[39mreport,\n\u001b[0;32m   1622\u001b[0m     processors\u001b[38;5;241m=\u001b[39mprocessors,\n\u001b[0;32m   1623\u001b[0m     normal_msg\u001b[38;5;241m=\u001b[39mnormal_msg,\n\u001b[0;32m   1624\u001b[0m     use_async\u001b[38;5;241m=\u001b[39muse_async,\n\u001b[0;32m   1625\u001b[0m     cargs\u001b[38;5;241m=\u001b[39mcargs,\n\u001b[0;32m   1626\u001b[0m )\n",
      "File \u001b[1;32m~\\AppData\\Local\\anaconda3\\Lib\\site-packages\\flopy\\mbase.py:1795\u001b[0m, in \u001b[0;36mrun_model\u001b[1;34m(exe_name, namefile, model_ws, silent, pause, report, processors, normal_msg, use_async, cargs)\u001b[0m\n\u001b[0;32m   1793\u001b[0m \u001b[38;5;28;01mif\u001b[39;00m exe_name \u001b[38;5;129;01mis\u001b[39;00m \u001b[38;5;28;01mNone\u001b[39;00m:\n\u001b[0;32m   1794\u001b[0m     \u001b[38;5;28;01mraise\u001b[39;00m \u001b[38;5;167;01mValueError\u001b[39;00m(\u001b[38;5;124mf\u001b[39m\u001b[38;5;124m\"\u001b[39m\u001b[38;5;124mAn executable name or path must be provided\u001b[39m\u001b[38;5;124m\"\u001b[39m)\n\u001b[1;32m-> 1795\u001b[0m exe_path \u001b[38;5;241m=\u001b[39m resolve_exe(exe_name)\n\u001b[0;32m   1796\u001b[0m \u001b[38;5;28;01mif\u001b[39;00m \u001b[38;5;129;01mnot\u001b[39;00m silent:\n\u001b[0;32m   1797\u001b[0m     \u001b[38;5;28mprint\u001b[39m(\n\u001b[0;32m   1798\u001b[0m         \u001b[38;5;124mf\u001b[39m\u001b[38;5;124m\"\u001b[39m\u001b[38;5;124mFloPy is using the following executable to run the model: \u001b[39m\u001b[38;5;132;01m{\u001b[39;00mflopy_io\u001b[38;5;241m.\u001b[39mrelpath_safe(exe_path,\u001b[38;5;250m \u001b[39mmodel_ws)\u001b[38;5;132;01m}\u001b[39;00m\u001b[38;5;124m\"\u001b[39m\n\u001b[0;32m   1799\u001b[0m     )\n",
      "File \u001b[1;32m~\\AppData\\Local\\anaconda3\\Lib\\site-packages\\flopy\\mbase.py:102\u001b[0m, in \u001b[0;36mresolve_exe\u001b[1;34m(exe_name, forgive)\u001b[0m\n\u001b[0;32m     96\u001b[0m         warn(\n\u001b[0;32m     97\u001b[0m             \u001b[38;5;124mf\u001b[39m\u001b[38;5;124m\"\u001b[39m\u001b[38;5;124mThe program \u001b[39m\u001b[38;5;132;01m{\u001b[39;00mexe_name\u001b[38;5;132;01m}\u001b[39;00m\u001b[38;5;124m does not exist or is not executable.\u001b[39m\u001b[38;5;124m\"\u001b[39m,\n\u001b[0;32m     98\u001b[0m             category\u001b[38;5;241m=\u001b[39m\u001b[38;5;167;01mUserWarning\u001b[39;00m,\n\u001b[0;32m     99\u001b[0m         )\n\u001b[0;32m    100\u001b[0m         \u001b[38;5;28;01mreturn\u001b[39;00m \u001b[38;5;28;01mNone\u001b[39;00m\n\u001b[1;32m--> 102\u001b[0m     \u001b[38;5;28;01mraise\u001b[39;00m \u001b[38;5;167;01mFileNotFoundError\u001b[39;00m(\n\u001b[0;32m    103\u001b[0m         \u001b[38;5;124mf\u001b[39m\u001b[38;5;124m\"\u001b[39m\u001b[38;5;124mThe program \u001b[39m\u001b[38;5;132;01m{\u001b[39;00mexe_name\u001b[38;5;132;01m}\u001b[39;00m\u001b[38;5;124m does not exist or is not executable.\u001b[39m\u001b[38;5;124m\"\u001b[39m\n\u001b[0;32m    104\u001b[0m     )\n\u001b[0;32m    106\u001b[0m \u001b[38;5;28;01mreturn\u001b[39;00m exe_path\n",
      "\u001b[1;31mFileNotFoundError\u001b[0m: The program ../bin/mf6 does not exist or is not executable."
     ]
    }
   ],
   "source": [
    "sim.write_simulation(silent=True)\n",
    "success, _ = sim.run_simulation(silent=True) \n",
    "if success == 1:\n",
    "    print('Model solved successfully')\n",
    "else:\n",
    "    print('Solve failed')"
   ]
  },
  {
   "cell_type": "markdown",
   "metadata": {},
   "source": [
    "## Read head data and make plot"
   ]
  },
  {
   "cell_type": "code",
   "execution_count": null,
   "metadata": {},
   "outputs": [],
   "source": [
    "hds = gwf.output.head() # get handle to binary head file\n",
    "head = hds.get_alldata().squeeze() # get the head data from the file, array of (ntime_steps, ncol)\n",
    "print(f'min, max head in model: {head[0].min():.2f}, {head[0].max():.2f} m')"
   ]
  },
  {
   "cell_type": "code",
   "execution_count": null,
   "metadata": {},
   "outputs": [],
   "source": [
    "plt.plot(xg, head[0]) # plot head for first time step (head is same for all time steps)\n",
    "plt.xlabel('x (m)')\n",
    "plt.ylabel('head (m)')\n",
    "plt.grid()"
   ]
  },
  {
   "cell_type": "markdown",
   "metadata": {},
   "source": [
    "## Read concentration data and make plot\n",
    "In absence of dispersion, the concentration line jumps abruptly from 35 g/L to 0 at the front of the injecgtions, which is shown with the dashed colored lines (recall that the average velocity of the groundwater is 1 m/d for this case). The horizontal black dashed line is half the concentration of seawater."
   ]
  },
  {
   "cell_type": "code",
   "execution_count": null,
   "metadata": {},
   "outputs": [],
   "source": [
    "cobj = gwt.output.concentration() # get handle to binary concentration file\n",
    "c = cobj.get_alldata().squeeze() # get the concentration data from the file"
   ]
  },
  {
   "cell_type": "code",
   "execution_count": null,
   "metadata": {},
   "outputs": [],
   "source": [
    "# plot concentration vs. x for three different times\n",
    "times = np.array(cobj.get_times())    \n",
    "for i, t in enumerate([10, 20, 30]):\n",
    "    itime = np.abs(times - t).argmin() # find index of value in times closest to t\n",
    "    plt.plot(xg, c[itime,:], 'C' + str(i), label=f't={times[itime]:.0f} d')\n",
    "    plt.axvline(t, color='C' + str(i), ls='--') # vertical dashed line at front of injection\n",
    "plt.axhline(cs / 2, color='k', ls='--') # horizontal black dashed line at c=cs/2\n",
    "plt.xlabel('x (m)')\n",
    "plt.ylabel('concentration (g/L)')\n",
    "plt.xlim(0, 60)\n",
    "plt.legend()\n",
    "plt.grid()"
   ]
  },
  {
   "cell_type": "code",
   "execution_count": null,
   "metadata": {},
   "outputs": [],
   "source": [
    "# plot concentration vs. time at three different locations\n",
    "for x in [10, 20, 30]:\n",
    "    ix = np.abs(xg - x).argmin() # find index of value in xg closest to x\n",
    "    plt.plot(times, c[:, ix], label=f'x={xg[ix]:.2f} m')\n",
    "plt.xlabel('time (d)')\n",
    "plt.ylabel('concentration (g/L)')\n",
    "plt.xlim(0, 40)\n",
    "plt.legend(loc='upper right')\n",
    "plt.grid()"
   ]
  },
  {
   "cell_type": "markdown",
   "metadata": {},
   "source": [
    "## Mass balance\n",
    "During a time step, freshwater with concentration $c_f$ flows into the system at a rate $U$, while saltwater with concentration $c_s$ flows out of the system at a rate $U$ (recall that flow is stationary). Hence, the change in mass of salt $\\Delta M_1$ (positive for an increase in mass) in the system during a time step is \\begin{equation}\n",
    "\\Delta M_1 = (U c_f - U c_s)\\Delta t\n",
    "\\end{equation}\n",
    "If the mass balance is met, this change in mass must be equal to the change in mass in the system $\\Delta M_2$\n",
    "\\begin{equation}\n",
    "\\Delta M_2 = \\sum_i{(c_i(t)-c_i(t-\\Delta t) H n\\Delta x}\n",
    "\\end{equation}\n",
    "where $\\Delta x$ is the cell size in $x$-direction (i.e., `delr`). The mass balance is computed for one time step as follows "
   ]
  },
  {
   "cell_type": "code",
   "execution_count": null,
   "metadata": {},
   "outputs": [],
   "source": [
    "itime = 10 # time step for which mass balance is checked\n",
    "delM1 = (U * cf - U * cs) * delt\n",
    "delM2 = np.sum(c[itime] - c[itime - 1]) * H * npor * delr\n",
    "print(f'mass balance from inflow and outflow: {delM1} kg')\n",
    "print(f'mass balance from storage change: {delM2} kg')"
   ]
  },
  {
   "cell_type": "markdown",
   "metadata": {},
   "source": [
    "## Homework\n",
    "### Problem 1\n",
    "The exact solution for the stated problem is (Van Genuchten and Alves, 1982):\n",
    "\\begin{equation}\n",
    "c(x, t) = c_s + (c_f-c_s)\\left[\\frac{1}{2}\\text{erfc}\\left(\\frac{x-vt}{2\\sqrt{DT}}\\right) + \n",
    "\\sqrt{\\frac{v^2t}{\\pi D}} \\exp\\left(\\frac{-(x-vt)^2}{4Dt}\\right) -\n",
    "\\frac{1}{2}\\left(1 + \\frac{vx}{D} + \\frac{v^2t}{D}\\right)\\exp\\left(\\frac{vx}{D}\\right)\n",
    "\\text{erfc}\\left(\\frac{x+vt}{2\\sqrt{DT}}\\right)\\right]\n",
    "\\end{equation}\n",
    "where $D=\\alpha_Lv$ is the dispersion coefficient, $v$ is the average velocity, and erfc is the complimentary error function (available as `erfc` in `scipy.special`). \n",
    "Plot the concentration vs. $x$ using the exact soljution for $t=10$, $20$, and $30$ d. Plot the concentration simulated with MODFLOW and the exact concentration in the same graph. Add a legend. Note the effect of numerical disperion.\n",
    "### Problem 2\n",
    "For the given problem and parameters, deterimine the dispersion coefficient that should be used in the exact solution such that you get the best fit between the exact solution and the MODFLOW solution in a least squares sense for $t=10$, $20$, and $30$ d (so three separate dispersion coeffcients). Hint: use the `fmin` function of `scipy.optimize`. Make the same plot as for Problem 2, but now with the optimized value of the dispersion coefficient. Note that this optimized dispersion coefficient includes the effect of numerical dispersion. Report the value of the optimized dispersion coefficient for this problem (three values for the three times that were analyzed). "
   ]
  }
 ],
 "metadata": {
  "kernelspec": {
   "display_name": "Python 3 (ipykernel)",
   "language": "python",
   "name": "python3"
  },
  "language_info": {
   "codemirror_mode": {
    "name": "ipython",
    "version": 3
   },
   "file_extension": ".py",
   "mimetype": "text/x-python",
   "name": "python",
   "nbconvert_exporter": "python",
   "pygments_lexer": "ipython3",
   "version": "3.11.5"
  }
 },
 "nbformat": 4,
 "nbformat_minor": 4
}
