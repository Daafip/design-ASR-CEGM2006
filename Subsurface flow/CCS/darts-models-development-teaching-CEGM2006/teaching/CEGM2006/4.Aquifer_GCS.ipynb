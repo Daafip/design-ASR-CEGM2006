{
 "cells": [
  {
   "cell_type": "markdown",
   "metadata": {},
   "source": [
    "<img style=\"float: left;\" src=\"figures/model4.png\" width=\"25%\">\n",
    "\n",
    "\n",
    "# <font color='Red'> GCS in auquifers </font>"
   ]
  },
  {
   "cell_type": "markdown",
   "metadata": {},
   "source": [
    "## <font color='Blue'>Introduction</font>\n",
    "###  In this exercise, we run simulation in a 2D aquifer.\n",
    "\n",
    "## <font color='blue'>The objectives:</font>\n",
    "Introduce custom <font color='red'>'Model'</font> class based on \n",
    " * Class [DartsModel](https://gitlab.com/open-darts/open-darts/-/blob/development/darts/models/darts_model.py) with base model capabilities\n",
    " * Class [StructReservoir](https://gitlab.com/open-darts/open-darts/-/blob/development/darts/reservoirs/struct_reservoir.py) with structured reservoir\n",
    " * Class [CompositionalPhysics](https://gitlab.com/open-darts/open-darts/-/blob/development/darts/physics/super/physics.py) for compositional physics\n",
    " * Class [PropertyContainer](https://gitlab.com/open-darts/open-darts/-/blob/development/darts/physics/super/property_container.py) for allocating property evaluators needed in simulation\n",
    " * Class [CompositionalOperators](https://gitlab.com/open-darts/open-darts/-/blob/development/darts/physics/super/operator_evaluator.py) for defining OBL operators in simulation\n",
    " \n",
    " \n",
    "Inject CO$_2$ for 2 years and monitor for another 10\n"
   ]
  },
  {
   "cell_type": "markdown",
   "metadata": {},
   "source": [
    "## <font color='blue'>Let's start !</font>\n",
    "### We need to import <font color='red'>engines</font> and nessesary physical properties into the workspace, just like the import of commonly-used modules such as numpy etc."
   ]
  },
  {
   "cell_type": "code",
   "execution_count": 1,
   "metadata": {},
   "outputs": [],
   "source": [
    "'''Import all important packages from DARTS installation'''\n",
    "import numpy as np\n",
    "import pandas as pd\n",
    "import sys\n",
    "from darts.engines import value_vector, redirect_darts_output, sim_params\n",
    "import matplotlib.pyplot as plt\n",
    "\n",
    "from darts.reservoirs.struct_reservoir import StructReservoir\n",
    "from darts.models.darts_model import DartsModel\n",
    "\n",
    "from darts.physics.super.physics import Compositional\n",
    "from darts.physics.super.property_container import PropertyContainer\n",
    "from darts.physics.super.operator_evaluator import PropertyOperators\n",
    "\n",
    "from darts.physics.properties.flash import ConstantK\n",
    "from darts.physics.properties.basic import ConstFunc, PhaseRelPerm\n",
    "from darts.physics.properties.density import DensityBasic"
   ]
  },
  {
   "cell_type": "markdown",
   "metadata": {},
   "source": [
    "## <font color='Blue'>Brief Introduction of model inheritance:</font>\n",
    "\n",
    "* Here create the <font color='red'>'Model' </font>  class, which inherits from <font color='red'>DartsModel</font> (the base class).\n",
    "* It keeps all the functionalities of <font color='red'>DartsModel</font> and can also be extended to add more functionalities.\n",
    "* If a function is redefined in subclass, the function in base class with identical name will be overridden."
   ]
  },
  {
   "cell_type": "code",
   "execution_count": 2,
   "metadata": {},
   "outputs": [],
   "source": [
    "class Model(DartsModel):\n",
    "    def __init__(self):\n",
    "        # Call base class constructor\n",
    "        super().__init__()\n",
    "\n",
    "        # Measure time spend on reading/initialization\n",
    "        self.timer.node[\"initialization\"].start()\n",
    "\n",
    "    def set_reservoir(self):\n",
    "        nx = 1000\n",
    "        ny = 1\n",
    "        nz = 50\n",
    "        nb = nx * ny * nz\n",
    "        self.dx = 5\n",
    "        self.dz = 1\n",
    "        depth = np.zeros(nb)\n",
    "        n_layer = nx*ny\n",
    "        for k in range(nz):\n",
    "            depth[k*n_layer:(k+1)*n_layer] = 2000 + k * self.dz\n",
    "\n",
    "\n",
    "        reservoir = StructReservoir(self.timer, nx, ny, nz, dx=self.dx, dy=100, dz=self.dz,\n",
    "                                    permx=100, permy=100, permz=10, poro=0.2, depth=depth)\n",
    "\n",
    "        res = super().set_reservoir(reservoir)\n",
    "        \n",
    "        volume = np.array(reservoir.mesh.volume, copy=False)\n",
    "        poro = np.array(reservoir.mesh.poro, copy=False)\n",
    "        print(\"Pore volume = \" + str(sum(volume * poro)))\n",
    "\n",
    "        # add large volume to teh last layer to mimic a large auifer\n",
    "        volume[-1:] = 1e8\n",
    "\n",
    "        return res\n",
    "\n",
    "    def set_wells(self, name='I'):\n",
    "        nz = self.reservoir.nz\n",
    "\n",
    "        self.reservoir.add_well(name)\n",
    "        # add well to teh middle of active zone\n",
    "        self.reservoir.add_perforation(name, cell_index=(1, 1, nz), well_radius=0.1, well_indexD=0)\n",
    "\n",
    "        return super().set_wells()\n",
    "\n",
    "    def set_physics(self):\n",
    "        \"\"\"Physical properties\"\"\"\n",
    "        self.zero = 1e-12\n",
    "        # Create property containers:\n",
    "        components = ['CO2', 'H2O']\n",
    "        phases = ['gas', 'wat']\n",
    "        thermal = 0\n",
    "        Mw = [44.01, 18.015]\n",
    "\n",
    "        property_container = PropertyContainer(phases_name=phases, components_name=components,\n",
    "                                               Mw=Mw, min_z=self.zero / 10, temperature=1.)\n",
    "\n",
    "        \"\"\" properties correlations \"\"\"\n",
    "        property_container.flash_ev = ConstantK(len(components), [80, 1e-2], self.zero)\n",
    "        property_container.density_ev = dict([('gas', DensityBasic(compr=1e-3, dens0=200)),\n",
    "                                              ('wat', DensityBasic(compr=1e-5, dens0=900))])\n",
    "        property_container.viscosity_ev = dict([('gas', ConstFunc(0.05)),\n",
    "                                                ('wat', ConstFunc(0.5))])\n",
    "        property_container.rel_perm_ev = dict([('gas', PhaseRelPerm(\"gas\", sgr=0.1)),\n",
    "                                               ('wat', PhaseRelPerm(\"oil\", swc=0.25))])\n",
    "\n",
    "        \"\"\" Activate physics \"\"\"\n",
    "        physics = Compositional(components, phases, self.timer,\n",
    "                                n_points=200, min_p=1, max_p=400, min_z=self.zero/10, max_z=1-self.zero/10)\n",
    "        physics.add_property_region(property_container)\n",
    "        \n",
    "        # additional properties to report\n",
    "        props = [('Brine saturation', 'sat', 1), ('Gas saturation', 'sat', 0)]\n",
    "        physics.add_property_operators(PropertyOperators(props, property_container))\n",
    "\n",
    "        return super().set_physics(physics)\n",
    "\n",
    "    def set_well_controls(self):\n",
    "        # inejct pure CO2\n",
    "        self.inj_stream = [1.0 - self.zero]\n",
    "        \n",
    "        # two types of well control\n",
    "        for i, w in enumerate(self.reservoir.wells):\n",
    "            if 'I' in w.name:\n",
    "                w.control = self.physics.new_rate_inj(1000, self.inj_stream, 0)\n",
    "                w.constraint = self.physics.new_bhp_inj(300, self.inj_stream)\n",
    "            else:\n",
    "                w.control = self.physics.new_rate_prod(1000, 0)\n",
    "                w.constraint = self.physics.new_bhp_prod(30)\n"
   ]
  },
  {
   "cell_type": "code",
   "execution_count": 3,
   "metadata": {},
   "outputs": [],
   "source": [
    "def plot2D(m):    \n",
    "    nx = m.reservoir.nx\n",
    "    nz = m.reservoir.nz\n",
    "\n",
    "    x = np.linspace(0, nx * m.dx, nx)\n",
    "    y = np.linspace(nz * m.dz, 0, nz)\n",
    "    \n",
    "    properties = m.physics.vars + m.physics.property_operators.props_name\n",
    "    output = m.output_properties()        \n",
    "\n",
    "    plt.rcParams['pcolor.shading'] ='nearest'\n",
    "    print_props = [0, 1, 3]\n",
    "    \n",
    "    fig, axs = plt.subplots(len(print_props), 1, figsize=(6, 6), dpi=100, facecolor='w', edgecolor='k')\n",
    "    for i, ith_prop in enumerate(print_props):\n",
    "        # plot array defined in active cells only\n",
    "        arr = output[ith_prop, :]\n",
    "        prop = axs[i].pcolor(x, y, arr.reshape(nz, nx))\n",
    "        plt.colorbar(prop, ax=axs[i]) \n",
    "        axs[i].set_title(properties[ith_prop])\n",
    "        axs[i].axis('off')        \n",
    "    \n",
    "    plt.tight_layout()"
   ]
  },
  {
   "cell_type": "code",
   "execution_count": 4,
   "metadata": {},
   "outputs": [
    {
     "name": "stdout",
     "output_type": "stream",
     "text": [
      "darts-package built on 03/12/2023 15:29:52 by SRV554$@SRV554 from 688ff7e1-dirty\n",
      "Building connection list...\n",
      "Pore volume = 5000000.0\n"
     ]
    }
   ],
   "source": [
    "m = Model()\n",
    "m.set_reservoir()\n",
    "m.set_wells()\n",
    "m.set_physics()\n",
    "m.set_sim_params(first_ts=0.001, mult_ts=2, max_ts=31, runtime=1000, tol_newton=1e-2, tol_linear=1e-3,\n",
    "                 it_newton=12, it_linear=50, newton_type=sim_params.newton_local_chop)\n",
    "\n",
    "\n",
    "m.initial_values = {m.physics.vars[0]: 200,\n",
    "                    m.physics.vars[1]: m.zero}\n",
    "\n",
    "m.init()"
   ]
  },
  {
   "cell_type": "code",
   "execution_count": 5,
   "metadata": {},
   "outputs": [
    {
     "name": "stdout",
     "output_type": "stream",
     "text": [
      "# 1 \tT = 0.001\tDT = 0.001\tNI = 4\tLI=7\n",
      "# 2 \tT = 0.003\tDT = 0.002\tNI = 2\tLI=8\n",
      "# 3 \tT = 0.007\tDT = 0.004\tNI = 2\tLI=8\n",
      "# 4 \tT = 0.015\tDT = 0.008\tNI = 2\tLI=9\n",
      "# 5 \tT = 0.031\tDT = 0.016\tNI = 2\tLI=8\n",
      "# 6 \tT = 0.063\tDT = 0.032\tNI = 3\tLI=12\n",
      "# 7 \tT = 0.127\tDT = 0.064\tNI = 4\tLI=21\n",
      "# 8 \tT = 0.255\tDT = 0.128\tNI = 5\tLI=28\n",
      "# 9 \tT = 0.511\tDT = 0.256\tNI = 4\tLI=20\n",
      "# 10 \tT = 1.023\tDT = 0.512\tNI = 5\tLI=23\n",
      "# 11 \tT = 2.047\tDT = 1.024\tNI = 6\tLI=36\n",
      "# 12 \tT = 4.095\tDT = 2.048\tNI = 6\tLI=33\n",
      "# 13 \tT = 8.191\tDT = 4.096\tNI = 7\tLI=46\n",
      "# 14 \tT = 16.383\tDT = 8.192\tNI = 7\tLI=46\n",
      "# 15 \tT = 32.767\tDT = 16.384\tNI = 8\tLI=55\n",
      "# 16 \tT = 63.767\tDT = 31\tNI = 7\tLI=51\n",
      "# 17 \tT = 94.767\tDT = 31\tNI = 7\tLI=45\n",
      "# 18 \tT = 125.767\tDT = 31\tNI = 7\tLI=45\n",
      "# 19 \tT = 156.767\tDT = 31\tNI = 6\tLI=40\n",
      "# 20 \tT = 187.767\tDT = 31\tNI = 6\tLI=39\n",
      "# 21 \tT = 218.767\tDT = 31\tNI = 6\tLI=37\n",
      "# 22 \tT = 249.767\tDT = 31\tNI = 6\tLI=37\n",
      "# 23 \tT = 280.767\tDT = 31\tNI = 5\tLI=32\n",
      "# 24 \tT = 311.767\tDT = 31\tNI = 6\tLI=39\n",
      "# 25 \tT = 342.767\tDT = 31\tNI = 6\tLI=38\n",
      "# 26 \tT = 373.767\tDT = 31\tNI = 6\tLI=39\n",
      "# 27 \tT = 404.767\tDT = 31\tNI = 6\tLI=40\n",
      "# 28 \tT = 435.767\tDT = 31\tNI = 5\tLI=34\n",
      "# 29 \tT = 466.767\tDT = 31\tNI = 6\tLI=40\n",
      "# 30 \tT = 497.767\tDT = 31\tNI = 5\tLI=34\n",
      "# 31 \tT = 528.767\tDT = 31\tNI = 6\tLI=40\n",
      "# 32 \tT = 559.767\tDT = 31\tNI = 5\tLI=34\n",
      "# 33 \tT = 590.767\tDT = 31\tNI = 6\tLI=37\n",
      "# 34 \tT = 621.767\tDT = 31\tNI = 6\tLI=38\n",
      "# 35 \tT = 652.767\tDT = 31\tNI = 5\tLI=33\n",
      "# 36 \tT = 683.767\tDT = 31\tNI = 6\tLI=37\n",
      "# 37 \tT = 714.767\tDT = 31\tNI = 8\tLI=47\n",
      "# 38 \tT = 730\tDT = 15.233\tNI = 3\tLI=19\n",
      "TS = 38(0), NI = 202(0), LI = 1235(0)\n",
      "Total elapsed 11.593426 sec\n",
      "\tinitialization 11.593397 sec\n",
      "\t\tconnection list generation 0.009547 sec\n",
      "\tnewton update 0.193222 sec\n",
      "\tsimulation 10.440680 sec\n",
      "\t\tjacobian assembly 1.613183 sec\n",
      "\t\t\tinterpolation 0.740970 sec\n",
      "\t\t\t\tproperty interpolation 0.000000 sec\n",
      "\t\t\t\treservoir 0 interpolation 1.767906 sec\n",
      "\t\t\t\t\tbody generation 1.276281 sec\n",
      "\t\t\t\t\t\tpoint generation 1.274820 sec\n",
      "\t\t\t\twell controls interpolation 0.010254 sec\n",
      "\t\t\t\t\tbody generation 0.009540 sec\n",
      "\t\t\t\t\t\tpoint generation 0.009396 sec\n",
      "\t\t\t\twellbore interpolation 0.012937 sec\n",
      "\t\t\t\t\tbody generation 0.012420 sec\n",
      "\t\t\t\t\t\tpoint generation 0.012342 sec\n",
      "\t\tlinear solver setup 2.539216 sec\n",
      "\t\t\tGMRES 2.538793 sec\n",
      "\t\t\t\tCPR 2.538200 sec\n",
      "\t\t\t\t\tAMG 1.584816 sec\n",
      "\t\t\t\t\tILU(0) 0.863878 sec\n",
      "\t\tlinear solver solve 5.826662 sec\n",
      "\t\t\tGMRES 5.825973 sec\n",
      "\t\t\t\tCPR 5.061900 sec\n",
      "\t\t\t\t\tAMG 1.706345 sec\n",
      "\t\t\t\t\tILU(0) 2.988621 sec\n",
      "\t\t\t\tSPMV_bsr 0.323323 sec\n",
      "\t\t\t\tprec_comm 0.000000 sec\n",
      "\t\tnewton update 0.000000 sec\n",
      "\t\t\tcomposition correction 0.069318 sec\n",
      "\n"
     ]
    }
   ],
   "source": [
    "# run simulation for a year\n",
    "m.run_python(2*365)\n",
    "\n",
    "# print statistics and timers\n",
    "m.print_timers()\n",
    "m.print_stat()"
   ]
  },
  {
   "cell_type": "code",
   "execution_count": 6,
   "metadata": {},
   "outputs": [
    {
     "data": {
      "image/png": "[encoded data removed]",
      "text/plain": [
       "<Figure size 600x600 with 6 Axes>"
      ]
     },
     "metadata": {},
     "output_type": "display_data"
    }
   ],
   "source": [
    "plot2D(m)\n",
    "plt.show()"
   ]
  },
  {
   "cell_type": "code",
   "execution_count": 7,
   "metadata": {},
   "outputs": [
    {
     "name": "stdout",
     "output_type": "stream",
     "text": [
      "# 1 \tT = 823\tDT = 93\tNI = 11\tLI=83\n",
      "# 2 \tT = 916\tDT = 93\tNI = 8\tLI=56\n",
      "# 3 \tT = 1009\tDT = 93\tNI = 7\tLI=54\n",
      "# 4 \tT = 1102\tDT = 93\tNI = 6\tLI=47\n",
      "# 5 \tT = 1195\tDT = 93\tNI = 7\tLI=49\n",
      "# 6 \tT = 1288\tDT = 93\tNI = 6\tLI=39\n",
      "# 7 \tT = 1381\tDT = 93\tNI = 7\tLI=41\n",
      "# 8 \tT = 1474\tDT = 93\tNI = 5\tLI=36\n",
      "# 9 \tT = 1567\tDT = 93\tNI = 5\tLI=35\n",
      "# 10 \tT = 1660\tDT = 93\tNI = 5\tLI=35\n",
      "# 11 \tT = 1753\tDT = 93\tNI = 5\tLI=34\n",
      "# 12 \tT = 1846\tDT = 93\tNI = 5\tLI=32\n",
      "# 13 \tT = 1939\tDT = 93\tNI = 4\tLI=28\n",
      "# 14 \tT = 2032\tDT = 93\tNI = 4\tLI=27\n",
      "# 15 \tT = 2125\tDT = 93\tNI = 5\tLI=35\n",
      "# 16 \tT = 2218\tDT = 93\tNI = 5\tLI=32\n",
      "# 17 \tT = 2311\tDT = 93\tNI = 4\tLI=28\n",
      "# 18 \tT = 2404\tDT = 93\tNI = 4\tLI=27\n",
      "# 19 \tT = 2497\tDT = 93\tNI = 4\tLI=28\n",
      "# 20 \tT = 2590\tDT = 93\tNI = 3\tLI=20\n",
      "# 21 \tT = 2683\tDT = 93\tNI = 4\tLI=28\n",
      "# 22 \tT = 2776\tDT = 93\tNI = 3\tLI=21\n",
      "# 23 \tT = 2869\tDT = 93\tNI = 5\tLI=34\n",
      "# 24 \tT = 2962\tDT = 93\tNI = 4\tLI=27\n",
      "# 25 \tT = 3055\tDT = 93\tNI = 4\tLI=24\n",
      "# 26 \tT = 3148\tDT = 93\tNI = 3\tLI=21\n",
      "# 27 \tT = 3241\tDT = 93\tNI = 3\tLI=22\n",
      "# 28 \tT = 3334\tDT = 93\tNI = 3\tLI=19\n",
      "# 29 \tT = 3427\tDT = 93\tNI = 2\tLI=12\n",
      "# 30 \tT = 3520\tDT = 93\tNI = 2\tLI=15\n",
      "# 31 \tT = 3613\tDT = 93\tNI = 2\tLI=13\n",
      "# 32 \tT = 3706\tDT = 93\tNI = 2\tLI=13\n",
      "# 33 \tT = 3799\tDT = 93\tNI = 2\tLI=12\n",
      "# 34 \tT = 3892\tDT = 93\tNI = 2\tLI=14\n",
      "# 35 \tT = 3985\tDT = 93\tNI = 3\tLI=25\n",
      "# 36 \tT = 4078\tDT = 93\tNI = 4\tLI=30\n",
      "# 37 \tT = 4171\tDT = 93\tNI = 2\tLI=14\n",
      "# 38 \tT = 4264\tDT = 93\tNI = 2\tLI=14\n",
      "# 39 \tT = 4357\tDT = 93\tNI = 2\tLI=13\n",
      "# 40 \tT = 4380\tDT = 23\tNI = 1\tLI=5\n",
      "TS = 78(0), NI = 367(0), LI = 2377(0)\n"
     ]
    }
   ],
   "source": [
    "m.reservoir.wells[0].control = m.physics.new_rate_inj(0, m.inj_stream, 0)\n",
    "m.params.max_ts = 93\n",
    "m.run_python(3650)"
   ]
  },
  {
   "cell_type": "code",
   "execution_count": 8,
   "metadata": {},
   "outputs": [
    {
     "data": {
      "image/png": "[encoded data removed]",
      "text/plain": [
       "<Figure size 600x600 with 6 Axes>"
      ]
     },
     "metadata": {},
     "output_type": "display_data"
    }
   ],
   "source": [
    "plot2D(m)\n",
    "plt.show()"
   ]
  },
  {
   "cell_type": "code",
   "execution_count": null,
   "metadata": {},
   "outputs": [],
   "source": []
  }
 ],
 "metadata": {
  "kernelspec": {
   "display_name": "Python 3 (ipykernel)",
   "language": "python",
   "name": "python3"
  },
  "language_info": {
   "codemirror_mode": {
    "name": "ipython",
    "version": 3
   },
   "file_extension": ".py",
   "mimetype": "text/x-python",
   "name": "python",
   "nbconvert_exporter": "python",
   "pygments_lexer": "ipython3",
   "version": "3.9.18"
  }
 },
 "nbformat": 4,
 "nbformat_minor": 4
}
