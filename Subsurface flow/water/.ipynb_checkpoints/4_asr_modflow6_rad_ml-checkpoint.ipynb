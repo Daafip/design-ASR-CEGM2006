{
 "cells": [
  {
   "cell_type": "markdown",
   "metadata": {},
   "source": [
    "# Aquifer Storage and Recovery in a multi-layer system with MODFLOW6 and Flopy\n",
    "\n",
    "In this section, we will learn how to simulate an ASR system with multiple layers."
   ]
  },
  {
   "cell_type": "code",
   "execution_count": null,
   "metadata": {},
   "outputs": [],
   "source": [
    "# import the necessary packages\n",
    "import numpy as np\n",
    "import matplotlib.pyplot as plt\n",
    "plt.rcParams['figure.figsize'] = (5, 3) # set default figure size\n",
    "import flopy as fp  # import flopy and call it fp"
   ]
  },
  {
   "cell_type": "markdown",
   "metadata": {},
   "source": [
    "## Description of the flow problem\n",
    "Consider radial flow in a confined aquifer. The aquifer extends in the $r$ direction from $r=0$ to $r=R$, where $R$ is chosen far enough away not to effect the solution.  Water is injected by the well at a rate $Q$. The head is fixed at $r=R$ to $h_R$. Flow is considered to be at steady state instantaneously. \n",
    "\n",
    "The initial salt concentration is equal to $c_s$ everywhere. Injection of fresh water with concentration $c_f$ starts at $t=0$ and last for $t_\\text{in}$ days, after which water is extracted at the same rate $Q$ for $t_\\text{out}$ days.\n",
    "\n",
    "The parameters are the same as the notebook for radial flow in a single-layer aquifer. \n",
    "\n",
    "Changes in the parameter block are:\n",
    "* Number of layers\n",
    "* Definition of the top and bottoms of the layers $z$ and the vertical coordinates of the centers of the layers $z_c$.\n",
    "* The horizontal hydraulic conducitivity is a 3D array\n",
    "* The vertical hydraulic conducitivity is defined\n",
    "* Model name"
   ]
  },
  {
   "cell_type": "code",
   "execution_count": null,
   "metadata": {},
   "outputs": [],
   "source": [
    "# domain size and boundary conditions\n",
    "L = 80 # length of domain, m\n",
    "hL = 0 # head at right side of domain\n",
    "\n",
    "# aquifer parameters\n",
    "k = 20 # hydraulic conductivity, m/d\n",
    "H = 20 # aquifer thickness, m\n",
    "npor = 0.35 # porosity, -\n",
    "\n",
    "# flow\n",
    "Q = 500 # injection and extraction rage, m^3/d\n",
    "\n",
    "# transport\n",
    "alphaL = 0.5 # longitudinal dispersivity in horizontal direction\n",
    "alphaT = alphaL / 10\n",
    "diffusion_coef = 0\n",
    "\n",
    "# concentration\n",
    "cs = 35 # initial concentration, g/L (=kg/m^3)\n",
    "cf = 0 # concentration injected water, g/L\n",
    "\n",
    "# space discretization\n",
    "delr = 0.2 # length of cell along row (in x-direction), m\n",
    "delc = 1 # width of cells normal to plane of flow (in y-direction), m\n",
    "nlay = 10\n",
    "z = np.linspace(0, -H, nlay + 1) # top and bottom(s) of layers\n",
    "zc = 0.5 * (z[:-1] + z[1:]) # center so cells, used for contouring\n",
    "nrow = 1 # number of rows\n",
    "ncol = round(L / delr) # number of columns\n",
    "\n",
    "# radialize parameters:\n",
    "theta = 2 * np.pi\n",
    "r = np.cumsum(delr * np.ones(ncol)) - 0.5 * delr # rightside of cell minus half the cell length\n",
    "krad = k * r * theta * np.ones((nlay, nrow, ncol))\n",
    "nporrad = npor * r * theta * np.ones((nlay, nrow, ncol))\n",
    "\n",
    "# time discretization\n",
    "tin = 30 # injection time, d\n",
    "delt = 0.1 # time step, d\n",
    "nstepin = round(tin / delt) # computed number of steps during injection, integer\n",
    "tout = 30 # extraction time, d\n",
    "delt = 0.1 # time step, d\n",
    "nstepout = round(tout / delt) # computed number of steps during extraction, integer\n",
    "\n",
    "# model name and workspace\n",
    "modelname = 'modelbuoy' # name of model\n",
    "gwfname = modelname + 'f' # name of flow model\n",
    "gwtname = modelname + 't' # name of transport model\n",
    "modelws = './' + modelname # model workspace to be used"
   ]
  },
  {
   "cell_type": "markdown",
   "metadata": {},
   "source": [
    "## Create Simulation\n",
    "No changes"
   ]
  },
  {
   "cell_type": "code",
   "execution_count": null,
   "metadata": {
    "scrolled": true
   },
   "outputs": [],
   "source": [
    "# simulation\n",
    "sim = fp.mf6.MFSimulation(sim_name=modelname, # name of simulation\n",
    "                          version='mf6', # version of MODFLOW\n",
    "                          exe_name='/Users/mark/bin/mf6', # absolute path to MODFLOW executable\n",
    "                          sim_ws=modelws, # path to workspace where all files are stored\n",
    "                         )\n",
    "\n",
    "# time discretization\n",
    "tdis = fp.mf6.ModflowTdis(simulation=sim, # add to the simulation called sim (defined above)\n",
    "                          time_units=\"DAYS\", \n",
    "                          nper=2, # number of stress periods \n",
    "                          perioddata=[[tin, nstepin, 1],\n",
    "                                      [tout, nstepout, 1]], # period length, number of steps, timestep multiplier\n",
    "                         )"
   ]
  },
  {
   "cell_type": "markdown",
   "metadata": {},
   "source": [
    "## Create groundwater flow model (`gwf`)\n",
    "Changes in the groundwater flow model:\n",
    "* Add vertical hydraulic conductivity\n",
    "* Distribute discharge of well over the different layers\n",
    "* Define constant head cell in all layers"
   ]
  },
  {
   "cell_type": "code",
   "execution_count": null,
   "metadata": {},
   "outputs": [],
   "source": [
    "# groundwater flow model\n",
    "gwf = fp.mf6.ModflowGwf(simulation=sim, # add to simulation called sim\n",
    "                        modelname=gwfname, # name of gwf model\n",
    "                        save_flows=True, # make sure all flows are stored in binary output file\n",
    "                       )\n",
    "\n",
    "# iterative model solver\n",
    "gwf_ims  = fp.mf6.ModflowIms(simulation=sim, # add to simulation called sim\n",
    "                             filename=gwf.name + '.ims', # file name to store ims\n",
    "                             linear_acceleration=\"BICGSTAB\", # use BIConjuGantGradientSTABalized method\n",
    "                            )                                                                                                \n",
    "# register solver\n",
    "sim.register_ims_package(solution_file=gwf_ims, # name of iterative model solver instance\n",
    "                         model_list=[gwf.name], # list with name of groundwater flow model\n",
    "                        )   \n",
    "\n",
    "# discretization\n",
    "gwf_dis = fp.mf6.ModflowGwfdis(model=gwf, # add to groundwater flow model called gwf\n",
    "                               nlay=nlay, \n",
    "                               nrow=nrow, \n",
    "                               ncol=ncol, \n",
    "                               delr=delr, \n",
    "                               delc=delc, \n",
    "                               top=z[0], \n",
    "                               botm=z[1:], \n",
    "                              )\n",
    "\n",
    "# aquifer properties\n",
    "gwf_npf  = fp.mf6.ModflowGwfnpf(model=gwf, \n",
    "                                k=krad, # horizontal k value\n",
    "                                k33=krad / 10,\n",
    "                                save_flows=True, # save the flow for all cells\n",
    "                               )\n",
    "    \n",
    "# initial condition\n",
    "gwf_ic = fp.mf6.ModflowGwfic(model=gwf, \n",
    "                             strt=hL, # initial head used for iterative solution\n",
    "                            )\n",
    "\n",
    "# wells\n",
    "wellin = []\n",
    "wellout = []\n",
    "for ilay in range(nlay):\n",
    "    wellin.append([(ilay, 0, 0),  Q / nlay, cf])  # [(layer, row, col), U, concentration]\n",
    "    wellout.append([(ilay, 0, 0),  -Q / nlay, cf]) # specified concentration is not used, but must be specified \n",
    "wel_spd = {0: wellin, 1: wellout} # stress period data for periods 0 and 1\n",
    "gwf_wel = fp.mf6.ModflowGwfwel(model=gwf, \n",
    "                               stress_period_data=wel_spd, \n",
    "                               auxiliary=['CONCENTRATION'],\n",
    "                               pname='WEL1', # package name\n",
    "                              )\n",
    "\n",
    "# constant head \n",
    "chd = []\n",
    "for ilay in range(nlay):\n",
    "    chd.append([(ilay,  0,  ncol-1), hL, cs]) # [(layer, row, col), head, concentration]\n",
    "chd_spd  = {0: chd, 1: chd}    # Stress period data\n",
    "gwf_chd = fp.mf6.ModflowGwfchd(model=gwf, \n",
    "                               stress_period_data=chd_spd, \n",
    "                               auxiliary=['CONCENTRATION'],\n",
    "                               pname='CHD1', # package name\n",
    "                              )\n",
    "    \n",
    "# output control\n",
    "oc = fp.mf6.ModflowGwfoc(model=gwf, \n",
    "                         saverecord=[(\"HEAD\", \"ALL\"), (\"BUDGET\", \"ALL\")], # what to save\n",
    "                         budget_filerecord=f\"{gwfname}.cbc\", # file name where all budget output is stored\n",
    "                         head_filerecord=f\"{gwfname}.hds\", # file name where all head output is stored\n",
    "                        )"
   ]
  },
  {
   "cell_type": "markdown",
   "metadata": {},
   "source": [
    "## Create groundwater transport model (`gwt`)\n",
    "Changes in the transport model: None."
   ]
  },
  {
   "cell_type": "code",
   "execution_count": null,
   "metadata": {},
   "outputs": [],
   "source": [
    "# groundwater transport model\n",
    "gwt = fp.mf6.ModflowGwt(simulation=sim, \n",
    "                        modelname=gwtname, # name of groundwater transport model\n",
    "                       )\n",
    "\n",
    "# iterative model solver\n",
    "gwt_ims  = fp.mf6.ModflowIms(simulation=sim,\n",
    "                             filename=gwt.name + '.ims', # must be different than file name of gwf model ims\n",
    "                             linear_acceleration=\"BICGSTAB\",\n",
    "                            ) \n",
    "sim.register_ims_package(solution_file=gwt_ims, \n",
    "                         model_list=[gwt.name],\n",
    "                        )\n",
    "\n",
    "# discretization\n",
    "gwt_dis = fp.mf6.ModflowGwtdis(model=gwt, \n",
    "                               nlay=nlay, \n",
    "                               nrow=nrow, \n",
    "                               ncol=ncol, \n",
    "                               delr=delr, \n",
    "                               delc=delc, \n",
    "                               top=z[0], \n",
    "                               botm=z[1:], \n",
    "                              )\n",
    "\n",
    "# mobile storage and transfer\n",
    "gwt_sto = fp.mf6.ModflowGwtmst(model=gwt, \n",
    "                               porosity=nporrad, # porosity\n",
    "                               save_flows=True,\n",
    "                              )\n",
    "\n",
    "# initial condition\n",
    "gwt_ic = fp.mf6.ModflowGwtic(model=gwt, \n",
    "                             strt=cs, # initial concentration\n",
    "                            ) \n",
    "\n",
    "# source sink mixing\n",
    "sourcelist = [(\"WEL1\", \"AUX\", \"CONCENTRATION\"), (\"CHD1\", \"AUX\", \"CONCENTRATION\")]\n",
    "ssm = fp.mf6.ModflowGwtssm(model=gwt, \n",
    "                           sources=sourcelist, \n",
    "                           save_flows=True,\n",
    "                           pname='SSM1', \n",
    "                          )\n",
    "\n",
    "# advection\n",
    "adv = fp.mf6.ModflowGwtadv(model=gwt,  \n",
    "                           scheme=\"TVD\",  # use Total Variation Diminishing (TVD)\n",
    "                           pname='ADV1',\n",
    "                          )\n",
    "\n",
    "# dispersion\n",
    "dsp = fp.mf6.ModflowGwtdsp(model=gwt, \n",
    "                           alh=alphaL,\n",
    "                           ath1=alphaT, \n",
    "                           diffc=diffusion_coef,\n",
    "                           pname='DSP1', \n",
    "                          )\n",
    "\n",
    "# output control\n",
    "oc = fp.mf6.ModflowGwtoc(model=gwt,\n",
    "                         saverecord=[(\"CONCENTRATION\", \"ALL\"), (\"BUDGET\", \"ALL\")], # what to save\n",
    "                         budget_filerecord=f\"{gwtname}.cbc\", # file name where all budget output is stored\n",
    "                         concentration_filerecord=f\"{gwtname}.ucn\", # file name where all concentration output is stored\n",
    "                        )"
   ]
  },
  {
   "cell_type": "markdown",
   "metadata": {},
   "source": [
    "Changes in interaction: None"
   ]
  },
  {
   "cell_type": "code",
   "execution_count": null,
   "metadata": {},
   "outputs": [],
   "source": [
    "fp.mf6.ModflowGwfgwt(simulation=sim, \n",
    "                     exgtype=\"GWF6-GWT6\", \n",
    "                     exgmnamea=gwf.name , \n",
    "                     exgmnameb=gwt.name , \n",
    "                     filename=f\"{modelname}.gwfgwt\",\n",
    "                    );"
   ]
  },
  {
   "cell_type": "markdown",
   "metadata": {},
   "source": [
    "## Write input files and solve model"
   ]
  },
  {
   "cell_type": "code",
   "execution_count": null,
   "metadata": {},
   "outputs": [],
   "source": [
    "sim.write_simulation(silent=True)\n",
    "success, _ = sim.run_simulation(silent=True) \n",
    "if success == 1:\n",
    "    print('Model solved successfully')\n",
    "else:\n",
    "    print('Solve failed')"
   ]
  },
  {
   "cell_type": "markdown",
   "metadata": {},
   "source": [
    "## Read concentration data and make contour plot of the concentration"
   ]
  },
  {
   "cell_type": "code",
   "execution_count": null,
   "metadata": {},
   "outputs": [],
   "source": [
    "cobj = gwt.output.concentration() # get handle to binary concentration file\n",
    "c = cobj.get_alldata().squeeze() # get the concentration data from the file\n",
    "times = np.array(cobj.get_times()) # get the times and convert to array"
   ]
  },
  {
   "cell_type": "code",
   "execution_count": null,
   "metadata": {},
   "outputs": [],
   "source": [
    "plt.subplot(111, aspect=1)\n",
    "plt.contour(r, zc, c[10], np.arange(5, 35, 5), cmap='coolwarm')\n",
    "plt.xlim(0, 50)"
   ]
  },
  {
   "cell_type": "code",
   "execution_count": null,
   "metadata": {},
   "outputs": [],
   "source": [
    "from ipywidgets import interact\n",
    "\n",
    "def contour(tstep):\n",
    "    plt.subplot(111, xlim=(0, 50), ylim=(-20, 0), xlabel='r (m)', ylabel='z (m)')\n",
    "    plt.contour(r, zc, c[tstep], np.arange(5, 35, 5), cmap='coolwarm')\n",
    "\n",
    "interact(contour, tstep=(0, nstepin + nstepout - 1, 1));"
   ]
  }
 ],
 "metadata": {
  "kernelspec": {
   "display_name": "Python 3 (ipykernel)",
   "language": "python",
   "name": "python3"
  },
  "language_info": {
   "codemirror_mode": {
    "name": "ipython",
    "version": 3
   },
   "file_extension": ".py",
   "mimetype": "text/x-python",
   "name": "python",
   "nbconvert_exporter": "python",
   "pygments_lexer": "ipython3",
   "version": "3.11.4"
  }
 },
 "nbformat": 4,
 "nbformat_minor": 4
}
