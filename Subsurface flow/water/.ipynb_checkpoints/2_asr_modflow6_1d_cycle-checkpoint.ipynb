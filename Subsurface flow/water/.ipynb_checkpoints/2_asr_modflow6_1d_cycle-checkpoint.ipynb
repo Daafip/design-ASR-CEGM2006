{
 "cells": [
  {
   "cell_type": "markdown",
   "metadata": {},
   "source": [
    "# One-Dimensional linear Aquifer Storage and Recovery with MODFLOW6 and Flopy\n",
    "\n",
    "In this notebook, we will learn how to:\n",
    "1. Simulate both injection and recovery of freshwater.\n",
    "2. Compute the recovery efficiency"
   ]
  },
  {
   "cell_type": "code",
   "execution_count": null,
   "metadata": {},
   "outputs": [],
   "source": [
    "# import the necessary packages\n",
    "import numpy as np\n",
    "import matplotlib.pyplot as plt\n",
    "plt.rcParams['figure.figsize'] = (5, 3) # set default figure size\n",
    "import flopy as fp  # import flopy and call it fp"
   ]
  },
  {
   "cell_type": "markdown",
   "metadata": {},
   "source": [
    "## Description of the flow problem\n",
    "Consider one-dimensional flow in a semi-infinite confined aquifer. The aquifer extends from $x=0$ to $x=L$ in the $x$ direction, where $L$ is chosen far enough away not to effect the flow solution.  Water is injected at the left side at a rate $U$ such that the average velocity in the aquifer is 1 m/d. The head is fixed on the right side to $h_R$. Flow is considered to be at steady state instantaneously. \n",
    "\n",
    "The initial salt concentration is equal to $c_s$ everywhere. Injection of fresh water with concentration $c_f$ starts at $t=0$ and lasts for $t_\\text{in}$ days, after which water is extracted at the same rate $U$ for $t_\\text{out}$ days.\n",
    "\n",
    "Changes in the parameter block are:\n",
    "* Time discretization\n",
    "* Model name"
   ]
  },
  {
   "cell_type": "code",
   "execution_count": null,
   "metadata": {},
   "outputs": [],
   "source": [
    "# domain size and boundary conditions\n",
    "L = 80 # length of domain, m\n",
    "hR = 0 # head at right side of domain\n",
    "\n",
    "# aquifer parameters\n",
    "k = 20 # hydraulic conductivity, m/d\n",
    "H = 20 # aquifer thickness, m\n",
    "npor = 0.25 # porosity, -\n",
    "\n",
    "# flow\n",
    "vavg = 1 # average velocity, m/d\n",
    "U = vavg * npor * H # computed total inflow, m^2/d\n",
    "\n",
    "# transport\n",
    "alphaL = 0.1 # longitudinal dispersivity in horizontal direction, m\n",
    "alphaT = alphaL / 10 # transverse dispersivity is 10 times smaller than longitudinal, m\n",
    "diffusion_coef = 0 # diffusion is not modeled\n",
    "\n",
    "# concentration\n",
    "cs = 35 # initial concentration, kg/m^3 (=g/L)\n",
    "cf = 0 # concentration injected water, kg/m^3 (=g/L)\n",
    "\n",
    "# space discretization\n",
    "delr = 0.2 # length of cell along row (in x-direction), m\n",
    "delc = 1 # width of cells normal to plane of flow (in y-direction), m\n",
    "z = [0, -H] # top and bottom(s) of layers\n",
    "nlay = 1 # number of layers\n",
    "nrow = 1 # number of rows\n",
    "ncol = round(L / delr) # number of columns\n",
    "xg = np.cumsum(delr * np.ones(ncol)) - delr / 2 # centers of grid cells, m\n",
    "\n",
    "# time discretization\n",
    "tin = 40 # injection time, d\n",
    "delt = 0.1 # time step, d\n",
    "nstepin = round(tin / delt) # computed number of steps during injection, integer\n",
    "tout = 40 # extraction time, d\n",
    "delt = 0.1 # time step, d\n",
    "nstepout = round(tout / delt) # computed number of steps during extraction, integer\n",
    "\n",
    "# model name and workspace\n",
    "modelname = 'model1d_cycle' # name of model\n",
    "gwfname = modelname + 'f' # name of flow model\n",
    "gwtname = modelname + 't' # name of transport model\n",
    "modelws = './' + modelname # model workspace to be used"
   ]
  },
  {
   "cell_type": "markdown",
   "metadata": {},
   "source": [
    "## Create Simulation\n",
    "Changes in the simulation are:\n",
    "* Number of stress periods is now 2\n",
    "* Period data for both periods"
   ]
  },
  {
   "cell_type": "code",
   "execution_count": null,
   "metadata": {
    "scrolled": true
   },
   "outputs": [],
   "source": [
    "# simulation\n",
    "sim = fp.mf6.MFSimulation(sim_name=modelname, # name of simulation\n",
    "                          version='mf6', # version of MODFLOW\n",
    "                          exe_name='../bin/mf6', # path to MODFLOW executable\n",
    "                          sim_ws=modelws, # path to workspace where all files are stored\n",
    "                         )\n",
    "\n",
    "# time discretization\n",
    "tdis = fp.mf6.ModflowTdis(simulation=sim, # add to the simulation called sim (defined above)\n",
    "                          time_units=\"DAYS\", \n",
    "                          nper=2, # number of stress periods \n",
    "                          perioddata=[[tin, nstepin, 1],\n",
    "                                      [tout, nstepout, 1]], # period length, number of steps, timestep multiplier\n",
    "                         )"
   ]
  },
  {
   "cell_type": "markdown",
   "metadata": {},
   "source": [
    "## Create groundwater flow model (`gwf`)\n",
    "Changes in the groundwater flow model:\n",
    "* Stress period data for the well\n",
    "* No change in stress period data for constant head needed. MODFLOW uses the stress period data of the last stress period when no new data is defined. "
   ]
  },
  {
   "cell_type": "code",
   "execution_count": null,
   "metadata": {},
   "outputs": [],
   "source": [
    "# groundwater flow model\n",
    "gwf = fp.mf6.ModflowGwf(simulation=sim, # add to simulation called sim\n",
    "                        modelname=gwfname, # name of gwf model\n",
    "                        save_flows=True, # make sure all flows are stored in binary output file\n",
    "                       )\n",
    "\n",
    "# iterative model solver\n",
    "gwf_ims  = fp.mf6.ModflowIms(simulation=sim, # add to simulation called sim\n",
    "                             filename=gwf.name + '.ims', # file name to store ims\n",
    "                             linear_acceleration=\"BICGSTAB\", # use BIConjuGantGradientSTABalized method\n",
    "                            )                                                                                                \n",
    "# register solver\n",
    "sim.register_ims_package(solution_file=gwf_ims, # name of iterative model solver instance\n",
    "                         model_list=[gwf.name], # list with name of groundwater flow model\n",
    "                        )   \n",
    "\n",
    "# discretization\n",
    "gwf_dis = fp.mf6.ModflowGwfdis(model=gwf, # add to groundwater flow model called gwf\n",
    "                               nlay=nlay, \n",
    "                               nrow=nrow, \n",
    "                               ncol=ncol, \n",
    "                               delr=delr, \n",
    "                               delc=delc, \n",
    "                               top=z[0], \n",
    "                               botm=z[1:], \n",
    "                              )\n",
    "\n",
    "# aquifer properties\n",
    "gwf_npf  = fp.mf6.ModflowGwfnpf(model=gwf, \n",
    "                                k=k, # horizontal k value\n",
    "                                save_flows=True, # save the flow for all cells\n",
    "                               )\n",
    "    \n",
    "# initial condition\n",
    "gwf_ic = fp.mf6.ModflowGwfic(model=gwf, \n",
    "                             strt=hR, # initial head used for iterative solution\n",
    "                            )\n",
    "\n",
    "# wells\n",
    "wellin = [[(0, 0, 0),  U, cf]]   # [(layer, row, col), U, concentration]\n",
    "wellout = [[(0, 0, 0),  -U, cf]] # specified concentration is not used for extraction, but must be specified \n",
    "wel_spd = {0: wellin, 1: wellout} # stress period data for periods 0 and 1\n",
    "gwf_wel = fp.mf6.ModflowGwfwel(model=gwf, \n",
    "                               stress_period_data=wel_spd, \n",
    "                               auxiliary=['CONCENTRATION'],\n",
    "                               pname='WEL1', # package name\n",
    "                              )\n",
    "\n",
    "# constant head \n",
    "chd0 = [[(0,  0,  ncol-1), hR, cs]] # [(layer, row, col), head, concentration]\n",
    "chd_spd  = {0: chd0} # stress period data\n",
    "gwf_chd = fp.mf6.ModflowGwfchd(model=gwf, \n",
    "                               stress_period_data=chd_spd, \n",
    "                               auxiliary=['CONCENTRATION'],\n",
    "                               pname='CHD1', # package name\n",
    "                              )\n",
    "    \n",
    "# output control\n",
    "oc = fp.mf6.ModflowGwfoc(model=gwf, \n",
    "                         saverecord=[(\"HEAD\", \"ALL\"), (\"BUDGET\", \"ALL\")], # what to save\n",
    "                         budget_filerecord=f\"{gwfname}.cbc\", # file name where all budget output is stored\n",
    "                         head_filerecord=f\"{gwfname}.hds\", # file name where all head output is stored\n",
    "                        )"
   ]
  },
  {
   "cell_type": "markdown",
   "metadata": {},
   "source": [
    "## Create groundwater transport model (`gwt`)\n",
    "Changes in the transport model: None."
   ]
  },
  {
   "cell_type": "code",
   "execution_count": null,
   "metadata": {},
   "outputs": [],
   "source": [
    "# groundwater transport model\n",
    "gwt = fp.mf6.ModflowGwt(simulation=sim, \n",
    "                        modelname=gwtname, # name of groundwater transport model\n",
    "                       )\n",
    "\n",
    "# iterative model solver\n",
    "gwt_ims  = fp.mf6.ModflowIms(simulation=sim, # add to simulation\n",
    "                             filename=gwt.name + '.ims', # must be different than file name of gwf model ims\n",
    "                             linear_acceleration=\"BICGSTAB\",\n",
    "                            ) \n",
    "sim.register_ims_package(solution_file=gwt_ims, \n",
    "                         model_list=[gwt.name],\n",
    "                        )\n",
    "\n",
    "# discretization\n",
    "gwt_dis = fp.mf6.ModflowGwtdis(model=gwt, # add to gwt model\n",
    "                               nlay=nlay, \n",
    "                               nrow=nrow, \n",
    "                               ncol=ncol, \n",
    "                               delr=delr, \n",
    "                               delc=delc, \n",
    "                               top=z[0], \n",
    "                               botm=z[1:], \n",
    "                              )\n",
    "\n",
    "# mobile storage and transfer\n",
    "gwt_sto = fp.mf6.ModflowGwtmst(model=gwt, \n",
    "                               porosity=npor, # porosity\n",
    "                               save_flows=True,\n",
    "                              )\n",
    "\n",
    "# initial condition\n",
    "gwt_ic = fp.mf6.ModflowGwtic(model=gwt, \n",
    "                             strt=cs, # initial concentration\n",
    "                            ) \n",
    "\n",
    "# source sink mixing\n",
    "sourcelist = [(\"WEL1\", \"AUX\", \"CONCENTRATION\"), (\"CHD1\", \"AUX\", \"CONCENTRATION\")] # list of (pname, 'AUX', 'CONCENTRATION')\n",
    "ssm = fp.mf6.ModflowGwtssm(model=gwt, \n",
    "                           sources=sourcelist, \n",
    "                           save_flows=True,\n",
    "                           pname='SSM1', \n",
    "                          )\n",
    "\n",
    "# advection\n",
    "adv = fp.mf6.ModflowGwtadv(model=gwt,  \n",
    "                           scheme=\"TVD\", # use the Total Variation Diminishing (TVD) method\n",
    "                           pname='ADV1',\n",
    "                          )\n",
    "\n",
    "# dispersion\n",
    "dsp = fp.mf6.ModflowGwtdsp(model=gwt, \n",
    "                           alh=alphaL, # longitudinal dispersivity\n",
    "                           ath1=alphaT, # transverse dispersivity\n",
    "                           diffc=diffusion_coef, # diffusion coefficient\n",
    "                           pname='DSP1', \n",
    "                          )\n",
    "\n",
    "# output control\n",
    "oc = fp.mf6.ModflowGwtoc(model=gwt,\n",
    "                         saverecord=[(\"CONCENTRATION\", \"ALL\"), (\"BUDGET\", \"ALL\")], # what to save\n",
    "                         budget_filerecord=f\"{gwtname}.cbc\", # file name where all budget output is stored\n",
    "                         concentration_filerecord=f\"{gwtname}.ucn\", # file name where all concentration output is stored\n",
    "                        )"
   ]
  },
  {
   "cell_type": "markdown",
   "metadata": {},
   "source": [
    "Changes in interaction: None"
   ]
  },
  {
   "cell_type": "code",
   "execution_count": null,
   "metadata": {},
   "outputs": [],
   "source": [
    "fp.mf6.ModflowGwfgwt(simulation=sim, \n",
    "                     exgtype=\"GWF6-GWT6\", \n",
    "                     exgmnamea=gwf.name, # name of groundwater flow model \n",
    "                     exgmnameb=gwt.name, # name of transport model\n",
    "                     filename=f\"{modelname}.gwfgwt\",\n",
    "                    );"
   ]
  },
  {
   "cell_type": "markdown",
   "metadata": {},
   "source": [
    "## Write input files and solve model"
   ]
  },
  {
   "cell_type": "code",
   "execution_count": null,
   "metadata": {},
   "outputs": [],
   "source": [
    "sim.write_simulation(silent=True)\n",
    "success, _ = sim.run_simulation(silent=True) \n",
    "if success == 1:\n",
    "    print('Model solved successfully')\n",
    "else:\n",
    "    print('Solve failed')"
   ]
  },
  {
   "cell_type": "markdown",
   "metadata": {},
   "source": [
    "## Read head data and make plot\n",
    "Plot the head at t=0.1 and at t=40.1."
   ]
  },
  {
   "cell_type": "code",
   "execution_count": null,
   "metadata": {},
   "outputs": [],
   "source": [
    "hds = gwf.output.head() # get handle to binary head file\n",
    "head = hds.get_alldata().squeeze() # get all the head data from the file\n",
    "times = np.array(hds.get_times()) # get times and make it an array\n",
    "print(f'min, max head in model: {head.min():.2f}, {head[0].max():.2f} m')"
   ]
  },
  {
   "cell_type": "code",
   "execution_count": null,
   "metadata": {},
   "outputs": [],
   "source": [
    "for t in [0.1, 40.1]:\n",
    "    itime = np.abs(times - t).argmin() # index of time closest to t         \n",
    "    plt.plot(xg, head[itime, :], label=f'time={times[itime]} d')\n",
    "plt.xlabel('x (m)')\n",
    "plt.ylabel('head (m)')\n",
    "plt.legend()\n",
    "plt.grid()"
   ]
  },
  {
   "cell_type": "markdown",
   "metadata": {},
   "source": [
    "## Read concentration data and make plot"
   ]
  },
  {
   "cell_type": "markdown",
   "metadata": {},
   "source": [
    "Plot the concentration vs. $x$ at 10 day intervals. Make separate plots for the injection and extraction periods."
   ]
  },
  {
   "cell_type": "code",
   "execution_count": null,
   "metadata": {},
   "outputs": [],
   "source": [
    "cobj = gwt.output.concentration() # get handle to binary concentration file\n",
    "c = cobj.get_alldata().squeeze() # get the concentration data from the file\n",
    "times = np.array(cobj.get_times()) # get the times and convert to array"
   ]
  },
  {
   "cell_type": "code",
   "execution_count": null,
   "metadata": {},
   "outputs": [],
   "source": [
    "# plot concentration vs. x for three different times   \n",
    "plt.figure(figsize=(10, 3))\n",
    "plt.subplot(121)\n",
    "for t in np.arange(10, 41, 10):\n",
    "    itime = np.abs(times - t).argmin() # find index of value in times closest to t\n",
    "    plt.plot(xg, c[itime,:], label=f't={times[itime]:.0f} d')\n",
    "plt.title('injection')\n",
    "plt.xlabel('x (m)')\n",
    "plt.ylabel('concentration (g/L)')\n",
    "plt.xlim(0, 60)\n",
    "plt.legend()\n",
    "plt.grid()\n",
    "plt.subplot(122)\n",
    "for t in np.arange(50, 81, 10):\n",
    "    itime = np.abs(times - t).argmin() # find index of value in times closest to t\n",
    "    plt.plot(xg, c[itime,:], label=f't={times[itime]:.0f} d')\n",
    "plt.title('extraction')\n",
    "plt.xlabel('x (m)')\n",
    "plt.ylabel('concentration (g/L)')\n",
    "plt.xlim(0, 60)\n",
    "plt.legend()\n",
    "plt.grid()"
   ]
  },
  {
   "cell_type": "markdown",
   "metadata": {},
   "source": [
    "## Recovery efficiency\n",
    "Determine the first time when the concentration of the extracted water exceeds $c_\\text{limit}=1$ kg/m$^3$ (g/L). "
   ]
  },
  {
   "cell_type": "code",
   "execution_count": null,
   "metadata": {},
   "outputs": [],
   "source": [
    "climit = 1 # limit concentration, kg/m^3 (g/L)\n",
    "for itime in range(400, 800):\n",
    "    if c[itime, 0] > climit:\n",
    "        break\n",
    "print(f'first time when c exceeds climit: {round(times[itime], 2)} d when concentration is {c[itime, 0]:.2f} g/L')"
   ]
  },
  {
   "cell_type": "markdown",
   "metadata": {},
   "source": [
    "The recovery efficiency is defined as the volume of extacted water with a concentration below $c_\\text{limit}$ divided by the volume of injected water. "
   ]
  },
  {
   "cell_type": "code",
   "execution_count": null,
   "metadata": {},
   "outputs": [],
   "source": [
    "rec_eff = ((times[itime - 1] - tin) * U) / (tin * U) # U not needed when injection and extraction rates are the same\n",
    "print(f'recovery efficiency = {rec_eff * 100:.1f} %')"
   ]
  },
  {
   "cell_type": "markdown",
   "metadata": {},
   "source": [
    "## Make change to model\n",
    "Changes can be made to one or more packages. The new package will replace the old package (if the `pname` is the same).\n",
    "After the package(s) are changed, the simulation must be rewritten and resolved, and the solution must be read in from the binary file. \n",
    "\n",
    "In the following example, the injection and extraction rate $U$ is changed from 5 to 10 m$^2$/d. Note that `flopy` gives a warning that the old wel1 package is replaced with the new wel1 package. After the change in the wel package, the model is rewritten, resolved, and the concentration data is read in again."
   ]
  },
  {
   "cell_type": "code",
   "execution_count": null,
   "metadata": {},
   "outputs": [],
   "source": [
    "# redefine the injection rate \n",
    "U = 10 # m^2/d\n",
    "wellin = [[(0, 0, 0),  U, cf]]   # [(layer, row, col), U, concentration]\n",
    "wellout = [[(0, 0, 0),  -U, cf]] # specified concentration is not used, but must be specified \n",
    "wel_spd = {0: wellin, 1: wellout} # stress period data for periods 0 and 1\n",
    "gwf_wel = fp.mf6.ModflowGwfwel(model=gwf, \n",
    "                               stress_period_data=wel_spd, \n",
    "                               auxiliary=['CONCENTRATION'],\n",
    "                               pname='WEL1', # package name\n",
    "                              )"
   ]
  },
  {
   "cell_type": "code",
   "execution_count": null,
   "metadata": {},
   "outputs": [],
   "source": [
    "# write model, solve model, and read concentration data\n",
    "sim.write_simulation(silent=True)\n",
    "success, _ = sim.run_simulation(silent=True) \n",
    "if success == 1:\n",
    "    print('Model solved successfully')\n",
    "else:\n",
    "    print('Solve failed')\n",
    "\n",
    "cobj = gwt.output.concentration() # get handle to binary concentration file\n",
    "c = cobj.get_alldata().squeeze() # get the concentration data from the file\n",
    "times = np.array(cobj.get_times()) # get the times and convert to array"
   ]
  },
  {
   "cell_type": "markdown",
   "metadata": {},
   "source": [
    "Compute the recovery efficiency for this case. Note that a larger infiltration volume gives a larger recovery efficiency."
   ]
  },
  {
   "cell_type": "code",
   "execution_count": null,
   "metadata": {},
   "outputs": [],
   "source": [
    "climit = 1 # limit concentration, g/L\n",
    "for itime in range(400, 800):\n",
    "    if c[itime, 0] > climit:\n",
    "        break\n",
    "print(f'first time when c exceeds climit: {round(times[itime], 2)} d when concentration is {c[itime, 0]:.2f} g/L')\n",
    "rec_eff = ((times[itime - 1] - tin) * U) / (tin * U) # U not needed when injection and extraction rates are the same\n",
    "print(f'recovery efficiency = {rec_eff * 100:.1f} %')"
   ]
  },
  {
   "cell_type": "markdown",
   "metadata": {},
   "source": [
    "## Homework\n",
    "Use the parameters defined in the code block at the beginning of this notebook (don't forget to reset the injection rate $U$ as we changed that in the previous example).\n",
    "\n",
    "### Problem 3\n",
    "We are considering the mass balance during extraction. During a time step, water with concentration $c_0$ (the concentration in the first cell) flows out of the system at a rate $U$, while saltwater with concentration $c_s$ flows into the system at a rate $U$, so that\n",
    "\\begin{equation}\n",
    "\\Delta M_1 = (-U c_0 + U c_s)\\Delta t\n",
    "\\end{equation}\n",
    "Plot the change in mass during the extraction period vs. the time step. Plot both $\\Delta M1$ and $\\Delta M2$ in one graph. Don't forget to add a legend.\n",
    "\n",
    "### Problem 4\n",
    "Compute the recovery efficiency when $c_\\text{limit} = 500$ mg/L, $t_\\text{in}=40$ d, and $\\alpha_L=0.5$ m by changing the dispersion package of the transport model. \n",
    "\n",
    "### Problem 5\n",
    "Compute the recovery efficiency when $c_\\text{limit} = 500$ mg/L, $t_\\text{in}=100$ d, and $\\alpha_L=0.5$ m by changing the length of the input and output times in the simulation.\n",
    "\n",
    "### Problem 6\n",
    "Compute the recovery efficiency when $c_\\text{limit} = 500$ mg/L, $t_\\text{in}=40$ d, and $\\alpha_L$ varies from 0.1 m to 2 m. Plot the recovery efficiency (vertical axis) vs. the dispersivity (horizontal axis). "
   ]
  }
 ],
 "metadata": {
  "kernelspec": {
   "display_name": "Python 3 (ipykernel)",
   "language": "python",
   "name": "python3"
  },
  "language_info": {
   "codemirror_mode": {
    "name": "ipython",
    "version": 3
   },
   "file_extension": ".py",
   "mimetype": "text/x-python",
   "name": "python",
   "nbconvert_exporter": "python",
   "pygments_lexer": "ipython3",
   "version": "3.11.4"
  }
 },
 "nbformat": 4,
 "nbformat_minor": 4
}
