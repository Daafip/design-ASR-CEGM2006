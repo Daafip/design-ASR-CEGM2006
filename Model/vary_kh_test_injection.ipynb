{
 "cells": [
  {
   "cell_type": "markdown",
   "metadata": {},
   "source": [
    "# Aquifer Storage and Recovery with MODFLOW6\n",
    "David Haasnoot, Justin van Beek"
   ]
  },
  {
   "cell_type": "code",
   "execution_count": 1,
   "metadata": {},
   "outputs": [],
   "source": [
    "# import the necessary packages\n",
    "import numpy as np\n",
    "import matplotlib.pyplot as plt\n",
    "import matplotlib\n",
    "plt.rcParams['figure.figsize'] = (5, 3) # set default figure size\n",
    "import flopy as fp  # import flopy and call it fp\n",
    "import glob\n",
    "import imageio\n",
    "import IPython\n",
    "from tqdm import tqdm\n",
    "import warnings\n",
    "import datetime\n",
    "warnings.simplefilter(action='ignore', category=DeprecationWarning) # for tqdm in this install package\n",
    "import xarray as xr"
   ]
  },
  {
   "cell_type": "markdown",
   "metadata": {},
   "source": [
    "## Description of the flow problem\n",
    "Consider radial flow in a confined aquifer. The aquifer extends in the $r$ direction from $r=0$ to $r=R$, where $R$ is chosen far enough away not to effect the solution.  Water is injected by the well at a rate $Q$. The head is fixed at $r=R$ to $h_R$. Flow is considered to be at steady state instantaneously. \n",
    "\n",
    "The initial salt concentration is equal to $c_s$ everywhere. Injection of fresh water with concentration $c_f$ starts at $t=0$ and last for $t_\\text{in}$ days, after which water is extracted at the same rate $Q$ for $t_\\text{out}$ days.\n",
    "\n",
    "The parameter block is similar to the parameter block for one-dimensional (linear) flow. Some values are chosen differently, such as the time of injection. The values of the hydraulic conductivity and porosity are converted so that MODFLOW can be used to simulate radial flow (see Langevin, 2008)."
   ]
  },
  {
   "cell_type": "code",
   "execution_count": 31,
   "metadata": {},
   "outputs": [
    {
     "name": "stdout",
     "output_type": "stream",
     "text": [
      "Need to pump 806.45m^3/d to full fill demand\n"
     ]
    }
   ],
   "source": [
    "Q_d = 40_000\n",
    "Q_tot = Q_d * 1.25 ## Change this later as we actually want to produce this, currentlty we still have 80% loss\n",
    "d_extrating = 62\n",
    "d_injecting = 365 - d_extrating ## change later for days with water excess\n",
    "print(f'Need to pump {Q_tot/d_extrating:.2f}m^3/d to full fill demand') "
   ]
  },
  {
   "cell_type": "code",
   "execution_count": 32,
   "metadata": {},
   "outputs": [],
   "source": [
    "# Q_tot = 500\n",
    "# Q = 500\n",
    "# Q_in = 500\n",
    "# d_extrating = 30\n",
    "# d_injecting = 30"
   ]
  },
  {
   "cell_type": "code",
   "execution_count": 33,
   "metadata": {},
   "outputs": [
    {
     "data": {
      "text/plain": [
       "33.60215053763441"
      ]
     },
     "execution_count": 33,
     "metadata": {},
     "output_type": "execute_result"
    }
   ],
   "source": [
    "Q_tot/d_extrating/24"
   ]
  },
  {
   "cell_type": "code",
   "execution_count": 34,
   "metadata": {},
   "outputs": [
    {
     "data": {
      "text/plain": [
       "50000.0"
      ]
     },
     "execution_count": 34,
     "metadata": {},
     "output_type": "execute_result"
    }
   ],
   "source": [
    "Q_tot"
   ]
  },
  {
   "cell_type": "code",
   "execution_count": 35,
   "metadata": {},
   "outputs": [],
   "source": [
    "# domain size and boundary conditions\n",
    "R = 80 # length of domain, m\n",
    "hR = 0 # head at r=R\n",
    "hL = hR\n",
    "\n",
    "# aquifer parameters\n",
    "k = 20 # hydraulic conductivity, m/d -> ############ 10! \n",
    "H = 20 # aquifer thickness, m - fixed\n",
    "npor = 0.35 # porosity, generally 0.25 - 0.5  ############# 0.25\n",
    "\n",
    "# flow\n",
    "Q = Q_tot/d_extrating # extraction rate, m^3/d \n",
    "Q_in = Q_tot / (d_injecting)# injection rate m^3/d\n",
    "\n",
    "# transport\n",
    "alphaL = 0.5 # longitudinal dispersivity in horizontal direction, m - ###################### something to check!! -> slides guest lecture\n",
    "alphaT = alphaL / 10 # transverse dispersivity in horizontal direction, m\n",
    "diffusion_coef = 0 # diffusion coeffcient\n",
    "\n",
    "# concentration\n",
    "cs = 30 # initial concentration, kg/m^3 (=g/L)\n",
    "cf = 0 # concentration injected water, kg/m^3 (=g/L)\n",
    "\n",
    "# buoyancy\n",
    "rhoref = 1000 # reference density, kg/m^3\n",
    "cref = 0 # reference concentration, kg/m^3\n",
    "drhodc = 0.7143  # Slope of the density-concentration line\n",
    "\n",
    "# space discretization\n",
    "delr = 0.2 # length of cell along row (in x-direction), m\n",
    "delc = 1 # width of cells normal to plane of flow (in y-direction), m\n",
    "nlay = 30\n",
    "z = np.linspace(0, -H, nlay + 1) # top and bottom(s) of layers\n",
    "zc = 0.5 * (z[:-1] + z[1:]) # center so cells, used for contouring\n",
    "nrow = 1 # number of rows\n",
    "ncol = round(R / delr) # number of columns\n",
    "\n",
    "# radialize parameters:\n",
    "theta = 2 * np.pi\n",
    "r = np.cumsum(delr * np.ones(ncol)) - 0.5 * delr # rightside of cell minus half the cell length\n",
    "krad = k * r * theta * np.ones((nlay, nrow, ncol))\n",
    "nporrad = npor * r * theta * np.ones((nlay, nrow, ncol))\n",
    "# time discretization\n",
    "########## injection\n",
    "tin = d_injecting # injection time, d - rest of the year - maybe change later\n",
    "delt = 0.1 # time step, d\n",
    "nstepin = round(tin / delt) # computed number of steps during injection, integer\n",
    "\n",
    "######### extraction\n",
    "tout = d_extrating # extraction time, d\n",
    "delt = 0.1 # time step, d\n",
    "nstepout = round(tout / delt) # computed number of steps during extraction, integer\n",
    "\n",
    "# model name and workspace\n",
    "modelname = 'modelrad_kh10' # name of model\n",
    "gwfname = modelname + 'f' # name of flow model\n",
    "gwtname = modelname + 't' # name of transport model\n",
    "modelws = './' + modelname # model workspace to be used"
   ]
  },
  {
   "cell_type": "markdown",
   "metadata": {},
   "source": [
    "## Create Simulation"
   ]
  },
  {
   "cell_type": "code",
   "execution_count": 36,
   "metadata": {
    "scrolled": true
   },
   "outputs": [],
   "source": [
    "# simulation\n",
    "sim = fp.mf6.MFSimulation(sim_name=modelname, # name of simulation\n",
    "                          version='mf6', # version of MODFLOW\n",
    "                          exe_name='../bin/mf6', # absolute path to MODFLOW executable\n",
    "                          sim_ws=modelws, # path to workspace where all files are stored\n",
    "                         )\n",
    "\n",
    "# time discretization\n",
    "tdis = fp.mf6.ModflowTdis(simulation=sim, # add to the simulation called sim (defined above)\n",
    "                          time_units=\"DAYS\", \n",
    "                          nper=2, # number of stress periods \n",
    "                          perioddata=[[tin, nstepin, 1],\n",
    "                                      [tout, nstepout, 1]], # period length, number of steps, timestep multiplier\n",
    "                         )"
   ]
  },
  {
   "cell_type": "markdown",
   "metadata": {},
   "source": [
    "## Create groundwater flow model (`gwf`)\n",
    "<!-- Changes in the groundwater flow model:\n",
    "* Use the converted value of $k$ in the npf package and use the logarithmic averaging option to compute cell-by-cell hydraulic conductivities.\n",
    "* Use the discharge $Q$ in the well package. -->"
   ]
  },
  {
   "cell_type": "code",
   "execution_count": 37,
   "metadata": {},
   "outputs": [],
   "source": [
    "# groundwater flow model\n",
    "gwf = fp.mf6.ModflowGwf(simulation=sim, # add to simulation called sim\n",
    "                        modelname=gwfname, # name of gwf model\n",
    "                        save_flows=True, # make sure all flows are stored in binary output file\n",
    "                       )\n",
    "\n",
    "# iterative model solver\n",
    "gwf_ims  = fp.mf6.ModflowIms(simulation=sim, # add to simulation called sim\n",
    "                             filename=gwf.name + '.ims', # file name to store ims\n",
    "                             linear_acceleration=\"BICGSTAB\", # use BIConjuGantGradientSTABalized method\n",
    "                             inner_dvclose=1e-6\n",
    "                            )                                                                                                \n",
    "# register solver\n",
    "sim.register_ims_package(solution_file=gwf_ims, # name of iterative model solver instance\n",
    "                         model_list=[gwf.name], # list with name of groundwater flow model\n",
    "                        )   \n",
    "\n",
    "# discretization\n",
    "gwf_dis = fp.mf6.ModflowGwfdis(model=gwf, # add to groundwater flow model called gwf\n",
    "                               nlay=nlay, \n",
    "                               nrow=nrow, \n",
    "                               ncol=ncol, \n",
    "                               delr=delr, \n",
    "                               delc=delc, \n",
    "                               top=z[0], \n",
    "                               botm=z[1:], \n",
    "                              )\n",
    "\n",
    "# aquifer properties\n",
    "gwf_npf  = fp.mf6.ModflowGwfnpf(model=gwf, \n",
    "                                k=krad, # horizontal k value\n",
    "                                k33=krad / 10,\n",
    "                                save_flows=True, # save the flow for all cells\n",
    "                               )\n",
    "    \n",
    "# initial condition\n",
    "gwf_ic = fp.mf6.ModflowGwfic(model=gwf, \n",
    "                             strt=hR, # initial head used for iterative solution\n",
    "                            )\n",
    "\n",
    "# wells\n",
    "wellin = []\n",
    "wellout = []\n",
    "for ilay in range(nlay):\n",
    "    wellin.append([(ilay, 0, 0),  Q / nlay, cf])  # [(layer, row, col), U, concentration]\n",
    "    wellout.append([(ilay, 0, 0),  -Q / nlay, cf]) # specified concentration is not used, but must be specified \n",
    "wel_spd = {0: wellin, 1: wellout} # stress period data for periods 0 and 1\n",
    "gwf_wel = fp.mf6.ModflowGwfwel(model=gwf, \n",
    "                               stress_period_data=wel_spd, \n",
    "                               auxiliary=['CONCENTRATION'],\n",
    "                               pname='WEL1', # package name\n",
    "                              )\n",
    "\n",
    "# constant head \n",
    "chd = []\n",
    "for ilay in range(nlay):\n",
    "    chd.append([(ilay,  0,  ncol-1), hL, cs]) # [(layer, row, col), head, concentration]\n",
    "chd_spd  = {0: chd, 1: chd}    # Stress period data\n",
    "gwf_chd = fp.mf6.ModflowGwfchd(model=gwf, \n",
    "                               stress_period_data=chd_spd, \n",
    "                               auxiliary=['CONCENTRATION'],\n",
    "                               pname='CHD1', # package name\n",
    "                              )\n",
    "\n",
    "# buoyancy\n",
    "buy = fp.mf6.ModflowGwfbuy(model=gwf,\n",
    "                           packagedata=[0, drhodc, cref, gwtname, 'CONCENTRATION'], # [conc 1 species - 0= salt, drhodc, cref, gwtname, name]\n",
    "                           denseref=rhoref, # reference concentration\n",
    "                           nrhospecies=1, # number of species\n",
    "                           density_filerecord=f\"{gwf.name}.dst\", # file name\n",
    "                           pname='BUY1', \n",
    "                          )\n",
    "    \n",
    "# output control\n",
    "oc = fp.mf6.ModflowGwfoc(model=gwf, \n",
    "                         saverecord=[(\"HEAD\", \"ALL\"), (\"BUDGET\", \"ALL\")], # what to save\n",
    "                         budget_filerecord=f\"{gwfname}.cbc\", # file name where all budget output is stored\n",
    "                         head_filerecord=f\"{gwfname}.hds\", # file name where all head output is stored\n",
    "                        )"
   ]
  },
  {
   "cell_type": "markdown",
   "metadata": {},
   "source": [
    "## Create groundwater transport model (`gwt`)\n",
    "<!-- Changes in the transport model: Use the converted value of the porosity in the mst package. -->"
   ]
  },
  {
   "cell_type": "code",
   "execution_count": 38,
   "metadata": {},
   "outputs": [],
   "source": [
    "# groundwater transport model\n",
    "gwt = fp.mf6.ModflowGwt(simulation=sim, \n",
    "                        modelname=gwtname, # name of groundwater transport model\n",
    "                       )\n",
    "\n",
    "# iterative model solver\n",
    "gwt_ims  = fp.mf6.ModflowIms(simulation=sim,\n",
    "                             filename=gwt.name + '.ims', # must be different than file name of gwf model ims\n",
    "                             linear_acceleration=\"BICGSTAB\",\n",
    "                             inner_dvclose=1e-6\n",
    "                            ) \n",
    "sim.register_ims_package(solution_file=gwt_ims, \n",
    "                         model_list=[gwt.name],\n",
    "                        )\n",
    "\n",
    "# discretization\n",
    "gwt_dis = fp.mf6.ModflowGwtdis(model=gwt, \n",
    "                               nlay=nlay, \n",
    "                               nrow=nrow, \n",
    "                               ncol=ncol, \n",
    "                               delr=delr, \n",
    "                               delc=delc, \n",
    "                               top=z[0], \n",
    "                               botm=z[1:], \n",
    "                              )\n",
    "\n",
    "# mobile storage and transfer\n",
    "gwt_sto = fp.mf6.ModflowGwtmst(model=gwt, \n",
    "                               porosity=nporrad, # porosity\n",
    "                               save_flows=True,\n",
    "                              )\n",
    "\n",
    "# initial condition\n",
    "gwt_ic = fp.mf6.ModflowGwtic(model=gwt, \n",
    "                             strt=cs, # initial concentration\n",
    "                            ) \n",
    "\n",
    "# source sink mixing\n",
    "sourcelist = [(\"WEL1\", \"AUX\", \"CONCENTRATION\"), (\"CHD1\", \"AUX\", \"CONCENTRATION\")]\n",
    "ssm = fp.mf6.ModflowGwtssm(model=gwt, \n",
    "                           sources=sourcelist, \n",
    "                           save_flows=True,\n",
    "                           pname='SSM1', \n",
    "                          )\n",
    "\n",
    "# advection\n",
    "adv = fp.mf6.ModflowGwtadv(model=gwt,  \n",
    "                           scheme=\"TVD\",  # use Total Variation Diminishing (TVD)\n",
    "                           pname='ADV1',\n",
    "                          )\n",
    "\n",
    "# dispersion\n",
    "dsp = fp.mf6.ModflowGwtdsp(model=gwt, \n",
    "                           alh=alphaL,\n",
    "                           ath1=alphaT, \n",
    "                           diffc=diffusion_coef,\n",
    "                           pname='DSP1', \n",
    "                          )\n",
    "\n",
    "# output control\n",
    "oc = fp.mf6.ModflowGwtoc(model=gwt,\n",
    "                         saverecord=[(\"CONCENTRATION\", \"ALL\"), (\"BUDGET\", \"ALL\")], # what to save\n",
    "                         budget_filerecord=f\"{gwtname}.cbc\", # file name where all budget output is stored\n",
    "                         concentration_filerecord=f\"{gwtname}.ucn\", # file name where all concentration output is stored\n",
    "                        )"
   ]
  },
  {
   "cell_type": "code",
   "execution_count": 39,
   "metadata": {},
   "outputs": [],
   "source": [
    "fp.mf6.ModflowGwfgwt(simulation=sim, \n",
    "                     exgtype=\"GWF6-GWT6\", \n",
    "                     exgmnamea=gwf.name , \n",
    "                     exgmnameb=gwt.name , \n",
    "                     filename=f\"{modelname}.gwfgwt\",\n",
    "                    );"
   ]
  },
  {
   "cell_type": "markdown",
   "metadata": {},
   "source": [
    "## Write input files and solve model"
   ]
  },
  {
   "cell_type": "code",
   "execution_count": 40,
   "metadata": {},
   "outputs": [
    {
     "name": "stdout",
     "output_type": "stream",
     "text": [
      "Model solved successfully\n"
     ]
    }
   ],
   "source": [
    "sim.write_simulation(silent=True)\n",
    "success, _ = sim.run_simulation(silent=True) \n",
    "if success == 1:\n",
    "    print('Model solved successfully')\n",
    "else:\n",
    "    print('Solve failed')"
   ]
  },
  {
   "cell_type": "markdown",
   "metadata": {},
   "source": [
    "## Read concentration data"
   ]
  },
  {
   "cell_type": "markdown",
   "metadata": {},
   "source": [
    "<!-- Plot the concentration vs. $r$ at 10 day intervals. Make separate plots for the injection and extraction periods. -->"
   ]
  },
  {
   "cell_type": "code",
   "execution_count": 41,
   "metadata": {},
   "outputs": [],
   "source": [
    "cobj = gwt.output.concentration() # get handle to binary concentration file\n",
    "c = cobj.get_alldata().squeeze() # get the concentration data from the file\n",
    "times = np.array(cobj.get_times()) # get the times and convert to array"
   ]
  },
  {
   "cell_type": "code",
   "execution_count": 42,
   "metadata": {},
   "outputs": [],
   "source": [
    "t_end_index = len(times)\n",
    "t_begin_index = int(0.9*len(times))"
   ]
  },
  {
   "cell_type": "code",
   "execution_count": 43,
   "metadata": {},
   "outputs": [],
   "source": [
    "# # plot concentration vs. x for three different times   \n",
    "# fname = rf\"figures/concentration_over_time_kh{k}.png\"\n",
    "# plt.figure(figsize=(10, 3))\n",
    "# plt.suptitle(f\"kh={k}m/d\")\n",
    "# plt.subplot(121)\n",
    "# for t in np.arange(10, 31, 10):\n",
    "#     itime = np.abs(times - t).argmin() # find index of value in times closest to t\n",
    "#     plt.plot(r, c[itime,:], label=f't={times[itime]:.0f} d')\n",
    "# plt.title('injection')\n",
    "# plt.xlabel('r (m)')\n",
    "# plt.ylabel('concentration (g/L)')\n",
    "# plt.xlim(0, 40)\n",
    "# plt.legend()\n",
    "# plt.grid()\n",
    "\n",
    "# plt.subplot(122)\n",
    "# for t in np.arange(300, 365, 10):\n",
    "#     itime = np.abs(times - t).argmin() # find index of value in times closest to t\n",
    "#     plt.plot(r, c[itime,:], label=f't={times[itime]:.0f} d')\n",
    "# plt.title('extraction')\n",
    "# plt.xlabel('r (m)')\n",
    "# plt.ylabel('concentration (g/L)')\n",
    "# plt.xlim(0, 80)\n",
    "# plt.legend(bbox_to_anchor=(1,0.85))\n",
    "# plt.grid()\n",
    "# plt.savefig(fname,bbox_inches=\"tight\")"
   ]
  },
  {
   "cell_type": "markdown",
   "metadata": {},
   "source": [
    "## Recovery efficiency\n",
    "The recovery efficiency is computed using $c_\\text{limit}=1$ kg/m$^3$ (g/L) as follows"
   ]
  },
  {
   "cell_type": "code",
   "execution_count": 44,
   "metadata": {},
   "outputs": [],
   "source": [
    "climit = 1 # limit concentration, g/L\n",
    "t_begin_index = nstepin\n",
    "t_end_index = len(times)"
   ]
  },
  {
   "cell_type": "code",
   "execution_count": 45,
   "metadata": {},
   "outputs": [
    {
     "name": "stdout",
     "output_type": "stream",
     "text": [
      "first time when c exceeds climit: 359.2 d when concentration is 1.00 g/L\n",
      "recovery efficiency = 90.5 %\n"
     ]
    }
   ],
   "source": [
    "for itime in range(t_begin_index, t_end_index):\n",
    "    if c[itime,:, 0].mean() > climit:\n",
    "        break\n",
    "print(f'first time when c exceeds climit: {round(times[itime], 2)} d when concentration is {c[itime,:, 0].mean():.2f} g/L')\n",
    "\n",
    "if t_end_index == times[itime]:\n",
    "    print(f'recovery efficiency = 100%')\n",
    "else:\n",
    "    rec_eff = ((times[itime - 1] - tin) * Q) / (tin * Q_in) #Q  needed as injection and extraction rates are not the same\n",
    "    print(f'recovery efficiency = {rec_eff * 100:.1f} %')"
   ]
  },
  {
   "cell_type": "code",
   "execution_count": 46,
   "metadata": {},
   "outputs": [
    {
     "data": {
      "application/vnd.jupyter.widget-view+json": {
       "model_id": "75016e1e5318475184aa7205cfb3c3e4",
       "version_major": 2,
       "version_minor": 0
      },
      "text/plain": [
       "interactive(children=(IntSlider(value=1824, description='tstep', max=3649), Output()), _dom_classes=('widget-i…"
      ]
     },
     "metadata": {},
     "output_type": "display_data"
    }
   ],
   "source": [
    "from ipywidgets import interact\n",
    "import warnings\n",
    "warnings.simplefilter(\"ignore\")\n",
    "def contour(tstep):\n",
    "    plt.subplot(111, xlim=(0, 50), ylim=(-20, 0), xlabel='r (m)', ylabel='z (m)')\n",
    "    plt.contour(r, zc, c[tstep], np.arange(5, 35, 5), cmap='coolwarm')\n",
    "\n",
    "interact(contour, tstep=(0, nstepin + nstepout - 1, 1));"
   ]
  },
  {
   "cell_type": "markdown",
   "metadata": {},
   "source": [
    "### Compute the recovery efficiency for many  cycles"
   ]
  },
  {
   "cell_type": "code",
   "execution_count": 47,
   "metadata": {},
   "outputs": [],
   "source": [
    "from flopy.mf6.mfbase import VerbosityLevel\n",
    "sim.simulation_data.verbosity_level = VerbosityLevel.quiet"
   ]
  },
  {
   "cell_type": "code",
   "execution_count": 48,
   "metadata": {},
   "outputs": [
    {
     "name": "stderr",
     "output_type": "stream",
     "text": [
      "100%|███████████████████████████████████████████████████████████████████████████████████| 3/3 [23:34<00:00, 471.65s/it]\n"
     ]
    }
   ],
   "source": [
    "run = True # takes long\n",
    "if run: \n",
    "    time_break_lst = []\n",
    "    rec_eff_lst = []\n",
    "    n_years = 3\n",
    "    cycle_n = np.arange(0, n_years,1)\n",
    "    c_arr = np.zeros((len(cycle_n)+1,nlay, ncol))\n",
    "    c_store_all = np.zeros((len(cycle_n), nstepin+nstepout,nlay,ncol))\n",
    "    c_arr[0] = np.ones((nlay,ncol)) * cs\n",
    "    c_prev = cs\n",
    "    for index_cycle in tqdm(cycle_n):\n",
    "        # initial condition from prev time period\n",
    "        gwt_ic = fp.mf6.ModflowGwtic(model=gwt, \n",
    "                                     strt=c_arr[index_cycle], # initial concentration\n",
    "                                     ) \n",
    "        # here also change the injection after the first two years. \n",
    "    \n",
    "        \n",
    "        # write model, solve model, and read concentration data\n",
    "        sim.write_simulation(silent=True)\n",
    "        success, _ = sim.run_simulation(silent=True) \n",
    "        if success == 1:\n",
    "            # print(f'Model solved successfully for {index_cycle}', end=\"\\r\")\n",
    "            pass\n",
    "        else:\n",
    "            print('Solve failed')\n",
    "            break\n",
    "        \n",
    "        cobj = gwt.output.concentration() # get handle to binary concentration file\n",
    "        c_i = cobj.get_alldata().squeeze() # get the concentration data from the file\n",
    "        for itime in range(t_begin_index, t_end_index):\n",
    "            if c_i[itime,:, 0].mean() > climit:\n",
    "                time_break_lst.append(itime)\n",
    "                break\n",
    "    \n",
    "        c_arr[index_cycle+1] = c_i[itime - 1,:]\n",
    "        c_store_all[index_cycle] = c_i\n",
    "        rec_eff = ((times[itime - 1] - tin) * Q) / (tin * Q_in) # Q  needed as injection and extraction rates are not the same\n",
    "        rec_eff_lst.append(rec_eff*100)"
   ]
  },
  {
   "cell_type": "code",
   "execution_count": 49,
   "metadata": {},
   "outputs": [
    {
     "data": {
      "image/png": "[encoded data removed]",
      "text/plain": [
       "<Figure size 500x300 with 1 Axes>"
      ]
     },
     "metadata": {},
     "output_type": "display_data"
    }
   ],
   "source": [
    "fname = fr\"figures/recovery_eff_cycles_khk_npor{npor}.png\"\n",
    "if run: \n",
    "    cycle_n_arr = np.array(cycle_n) + 1\n",
    "    plt.plot(cycle_n_arr,rec_eff_lst,marker=\"o\")\n",
    "    plt.ylabel(\"Recovery Efficiency \\n after cycle n [%]\")\n",
    "    plt.xlabel(r\"Cycles number $n$ [-]\")\n",
    "    plt.title(r\"Recovery efficiency as cycle changes\")\n",
    "    plt.xticks(ticks=cycle_n_arr)\n",
    "    plt.grid()\n",
    "    plt.savefig(fname,bbox_inches=\"tight\")\n",
    "else: \n",
    "    img = matplotlib.image.imread(fname)\n",
    "    fig, ax = plt.subplots()\n",
    "    ax.imshow(img)\n",
    "    ax.axis(\"off\")"
   ]
  },
  {
   "cell_type": "code",
   "execution_count": 50,
   "metadata": {},
   "outputs": [],
   "source": [
    "# fname = rf\"figures/recovery_Q_cycles_kh{k}_npor{npor}.png\"\n",
    "# if run: \n",
    "#     cycle_n_arr = np.array(cycle_n) + 1\n",
    "#     rec_eff_arr = np.array(rec_eff_lst)\n",
    "#     plt.plot(cycle_n_arr,rec_eff_arr*Q_tot/100,marker=\"o\")\n",
    "#     plt.axhline(Q_d,ls=\"--\",color=\"C1\",label=\"Design production volume\")\n",
    "#     plt.ylabel(\"Recovery Volume [m^3]\")\n",
    "#     plt.xlabel(r\"Years after starting\")\n",
    "#     plt.title(f\"Recovery efficiency as cycle changes\\nkh={k}m/d, porosity={npor}\")\n",
    "#     plt.xticks(ticks=cycle_n_arr)\n",
    "#     plt.grid()\n",
    "#     plt.savefig(fname,bbox_inches=\"tight\")\n",
    "# else: \n",
    "#     img = matplotlib.image.imread(fname)\n",
    "#     fig, ax = plt.subplots()\n",
    "#     ax.imshow(img)\n",
    "#     ax.axis(\"off\")"
   ]
  },
  {
   "cell_type": "code",
   "execution_count": 51,
   "metadata": {},
   "outputs": [],
   "source": [
    "n_years = 10"
   ]
  },
  {
   "cell_type": "code",
   "execution_count": 52,
   "metadata": {},
   "outputs": [
    {
     "data": {
      "image/png": "[encoded data removed]",
      "text/plain": [
       "<Figure size 500x300 with 1 Axes>"
      ]
     },
     "metadata": {},
     "output_type": "display_data"
    },
    {
     "data": {
      "application/vnd.jupyter.widget-view+json": {
       "model_id": "b8738c2236cc4bd180aefe489c44ebaa",
       "version_major": 2,
       "version_minor": 0
      },
      "text/plain": [
       "interactive(children=(IntSlider(value=1824, description='tstep', max=3649), IntSlider(value=4, description='ye…"
      ]
     },
     "metadata": {},
     "output_type": "display_data"
    }
   ],
   "source": [
    "from ipywidgets import interact\n",
    "import warnings\n",
    "warnings.simplefilter(\"ignore\")\n",
    "def contour(tstep,year):\n",
    "    plt.subplot(111, xlim=(0, 100), ylim=(-20, 0), xlabel='r (m)', ylabel='z (m)')\n",
    "    cls = plt.contour(r, zc, c_store_all[year][tstep], np.arange(5, 35, 5), cmap='coolwarm')\n",
    "    plt.clabel(cls, cls.levels[::2], inline=True, fontsize=10)\n",
    " \n",
    "interact(contour, tstep=(0, nstepin + nstepout - 1, 1),year=(0,n_years-1,1));"
   ]
  },
  {
   "cell_type": "code",
   "execution_count": null,
   "metadata": {},
   "outputs": [],
   "source": [
    "# time = str(datetime.datetime.now())[:-10].replace(\":\",\"_\")\n",
    "# fname = fr'output/store_concentrations_k-{k}_npor-{npor}_alphaL-{alphaL}-nlay-{nlay}_{time}.nc'"
   ]
  },
  {
   "cell_type": "code",
   "execution_count": null,
   "metadata": {},
   "outputs": [],
   "source": [
    "# ds = xr.DataArray(c_store_all,dims=['year','tstep','layer','r'])"
   ]
  },
  {
   "cell_type": "code",
   "execution_count": null,
   "metadata": {},
   "outputs": [],
   "source": [
    "# ds.to_netcdf(fname,engine=\"netcdf4\")"
   ]
  },
  {
   "cell_type": "code",
   "execution_count": null,
   "metadata": {},
   "outputs": [],
   "source": [
    "# ds_in = xr.load_dataarray(fname)"
   ]
  },
  {
   "cell_type": "code",
   "execution_count": null,
   "metadata": {},
   "outputs": [],
   "source": [
    "# data = ds_in.isel(year=0,tstep=-1)\n",
    "# plt.subplot(111, xlim=(0, 100), ylim=(-20, 0), xlabel='r (m)', ylabel='z (m)')\n",
    "# cls = plt.contour(r, zc, data, np.arange(5, 35, 5), cmap='coolwarm')\n",
    "# plt.clabel(cls, cls.levels[::2], inline=True, fontsize=10)"
   ]
  }
 ],
 "metadata": {
  "kernelspec": {
   "display_name": "Python 3 (ipykernel)",
   "language": "python",
   "name": "python3"
  },
  "language_info": {
   "codemirror_mode": {
    "name": "ipython",
    "version": 3
   },
   "file_extension": ".py",
   "mimetype": "text/x-python",
   "name": "python",
   "nbconvert_exporter": "python",
   "pygments_lexer": "ipython3",
   "version": "3.12.0"
  }
 },
 "nbformat": 4,
 "nbformat_minor": 4
}
