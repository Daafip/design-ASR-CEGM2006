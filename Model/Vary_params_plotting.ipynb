{
 "cells": [
  {
   "cell_type": "code",
   "execution_count": 1,
   "id": "b508c2b6-6575-4d44-9d56-9b56577cb2c5",
   "metadata": {},
   "outputs": [],
   "source": [
    "# import the necessary packages\n",
    "import numpy as np\n",
    "import matplotlib.pyplot as plt\n",
    "import matplotlib\n",
    "plt.rcParams['figure.figsize'] = (5, 3) # set default figure size\n",
    "import flopy as fp  # import flopy and call it fp\n",
    "import glob\n",
    "import imageio\n",
    "import IPython\n",
    "import datetime"
   ]
  },
  {
   "cell_type": "markdown",
   "id": "ebca4027-5f9e-4851-81f8-16a211aec3b0",
   "metadata": {},
   "source": [
    "### run varrying parameters in `vary_params.py` \n",
    "#### vary K & porosity"
   ]
  },
  {
   "cell_type": "code",
   "execution_count": 19,
   "id": "9e4fdf39-7efe-4d0d-b4c9-1920abbcfcbd",
   "metadata": {},
   "outputs": [
    {
     "name": "stdout",
     "output_type": "stream",
     "text": [
      "using latest output\\model_output_2024-01-30 16_54.txt\n"
     ]
    },
    {
     "data": {
      "text/plain": [
       "array([87.25806452, 87.41935484, 87.41935484])"
      ]
     },
     "execution_count": 19,
     "metadata": {},
     "output_type": "execute_result"
    }
   ],
   "source": [
    "files = glob.glob(r'output/model_output_2024-01-30*.txt')\n",
    "load_arr = np.loadtxt(files[-1],delimiter=\",\")\n",
    "print(f'using latest {files[-1]}')\n",
    "load_arr[:]"
   ]
  },
  {
   "cell_type": "code",
   "execution_count": 20,
   "id": "d9176fae-89ae-4f9a-b950-f86aa148b5c3",
   "metadata": {},
   "outputs": [],
   "source": [
    "# files = glob.glob(r'output/parameter_output_2024-01-08*.txt')\n",
    "files = glob.glob(r'output/parameter_output_2024-01-30*.txt')\n",
    "load_params = np.loadtxt(files[-1],delimiter=\",\")\n",
    "n_kh_vals = 1\n",
    "kh_var = load_params[:n_kh_vals]\n",
    "npor_var = load_params[n_kh_vals:]"
   ]
  },
  {
   "cell_type": "code",
   "execution_count": 30,
   "id": "dbf17cc0-1723-4744-8fbe-3b9dfbb06318",
   "metadata": {},
   "outputs": [],
   "source": [
    "Q_d = 40_000 # m^3/y\n",
    "Q_tot = Q_d * 1.25\n",
    "n_years = 3\n",
    "cycle_n = np.arange(0, n_years,1)\n",
    "cycle_n_arr = np.array(cycle_n) + 1"
   ]
  },
  {
   "cell_type": "code",
   "execution_count": 32,
   "id": "7cdc5cdc-440c-429b-89b1-50db8f5ee24d",
   "metadata": {},
   "outputs": [
    {
     "data": {
      "image/png": "[encoded data removed]",
      "text/plain": [
       "<Figure size 500x300 with 1 Axes>"
      ]
     },
     "metadata": {},
     "output_type": "display_data"
    }
   ],
   "source": [
    "n = 0\n",
    "fname = r'figures/recovery_Q_vary_k_npor.png'\n",
    "fig, ax = plt.subplots(1,1,figsize=(5,3),sharey=True, sharex=True)\n",
    "# fig.suptitle(\"Recovery efficiency for different parameters\")\n",
    "axs = [ax] #.flatten()\n",
    "for i in range(1):\n",
    "    # axs[i].axhline(Q_d,ls=\"--\",color=\"k\",label=\"$V_d$\")\n",
    "    if i in [0,2]: axs[i].set_ylabel(\"Recovery efficiency [%] \")\n",
    "    if i in [2,3]: axs[i].set_xlabel(r\"Time (years)\")\n",
    "    axs[i].set_title(f\"kh={int(kh_var[i])}\")\n",
    "    axs[i].set_xticks(ticks=cycle_n_arr)\n",
    "    axs[i].grid()\n",
    "    cycle_n_arr = np.array(cycle_n) + 1\n",
    "    axs[i].plot(cycle_n_arr,load_arr,marker=\".\",label=f\"{npor_var[j]}\")\n",
    "    axs[i].legend(bbox_to_anchor=(1,1),title=r\"$\\phi$:\")\n",
    "fig.tight_layout()\n",
    "plt.savefig(fname,bbox_inches=\"tight\")\n",
    "    # plt.close()"
   ]
  },
  {
   "cell_type": "markdown",
   "id": "84a00205-eda3-488a-aa14-a790cd82975d",
   "metadata": {},
   "source": [
    "#### vary alpha_L"
   ]
  },
  {
   "cell_type": "code",
   "execution_count": 33,
   "id": "d1b9c29e-40c9-4fb8-bc75-9a0b15b80c0d",
   "metadata": {},
   "outputs": [],
   "source": [
    "# files = glob.glob(r'output/model_output_2024-01-09*.txt')\n",
    "# load_arr = np.loadtxt(files[-1],delimiter=\",\")\n",
    "# print(f'using latest {files[-1]}')\n",
    "# load_arr[0,:]"
   ]
  },
  {
   "cell_type": "code",
   "execution_count": 34,
   "id": "e5d1ebb0-a45d-463d-8873-23bcebd6d9b7",
   "metadata": {},
   "outputs": [],
   "source": [
    "# files = glob.glob(r'output/parameter_output_2024-01-09*.txt')\n",
    "# load_params = np.loadtxt(files[-1],delimiter=\",\")\n",
    "# alphaL_var = load_params[:]\n",
    "# alphaL_var"
   ]
  },
  {
   "cell_type": "code",
   "execution_count": 35,
   "id": "39c29708-d220-4f51-9dae-da61b18f29b2",
   "metadata": {},
   "outputs": [],
   "source": [
    "Q_d = 40_000 # m^3/y\n",
    "Q_tot = Q_d * 1.25\n",
    "cycle_n = np.arange(0, 10,1)\n",
    "cycle_n_arr = np.array(cycle_n) + 1"
   ]
  },
  {
   "cell_type": "code",
   "execution_count": 36,
   "id": "ead21c89-89e7-4c53-8886-dc237cb0cee1",
   "metadata": {},
   "outputs": [],
   "source": [
    "# n = 0\n",
    "# fname = r'figures/recovery_Q_vary_alpha_L.png'\n",
    "# fig, ax = plt.subplots(1,figsize=(5,3),sharey=True, sharex=True)\n",
    "# # fig.suptitle(\"Recovery volume for different parameters\")\n",
    "# axs = [ax]\n",
    "# i = 0\n",
    "# axs[i].set_ylabel(\"Recovery efficiency [%]\")\n",
    "# axs[i].set_xlabel(r\"Time (years)\")\n",
    "# axs[i].set_title(fr\"kh=30,$\\phi$=0.35\")\n",
    "# axs[i].set_xticks(ticks=cycle_n_arr)\n",
    "# axs[i].grid()\n",
    "# for j in range(4):\n",
    "#     cycle_n_arr = np.array(cycle_n) + 1\n",
    "#     axs[i].plot(cycle_n_arr,load_arr[n,:],marker=\".\",label=f\"{alphaL_var[j]}\")\n",
    "#     n+=1\n",
    "# axs[i].legend(bbox_to_anchor=(1,1),title=r\"$\\alpha_L:$\")\n",
    "# fig.tight_layout()\n",
    "# plt.savefig(fname,bbox_inches=\"tight\")\n",
    "#     # plt.close()"
   ]
  },
  {
   "cell_type": "code",
   "execution_count": null,
   "id": "0f30ec6b-5130-4573-9d1b-53412dd77e15",
   "metadata": {},
   "outputs": [],
   "source": []
  }
 ],
 "metadata": {
  "kernelspec": {
   "display_name": "Python 3 (ipykernel)",
   "language": "python",
   "name": "python3"
  },
  "language_info": {
   "codemirror_mode": {
    "name": "ipython",
    "version": 3
   },
   "file_extension": ".py",
   "mimetype": "text/x-python",
   "name": "python",
   "nbconvert_exporter": "python",
   "pygments_lexer": "ipython3",
   "version": "3.12.0"
  }
 },
 "nbformat": 4,
 "nbformat_minor": 5
}
