{
 "cells": [
  {
   "cell_type": "markdown",
   "metadata": {},
   "source": [
    "# Aquifer Storage and Recovery with MODFLOW6\n",
    "David Haasnoot, Justin van Beek"
   ]
  },
  {
   "cell_type": "code",
   "execution_count": 1,
   "metadata": {},
   "outputs": [],
   "source": [
    "# import the necessary packages\n",
    "import numpy as np\n",
    "import matplotlib.pyplot as plt\n",
    "plt.rcParams['figure.figsize'] = (5, 3) # set default figure size\n",
    "import flopy as fp  # import flopy and call it fp\n",
    "import glob\n",
    "import imageio\n",
    "import IPython\n",
    "from tqdm import tqdm\n",
    "import warnings\n",
    "warnings.simplefilter(action='ignore', category=DeprecationWarning)\n",
    "import datetime\n",
    "import xarray as xr"
   ]
  },
  {
   "cell_type": "markdown",
   "metadata": {},
   "source": [
    "## Description of the flow problem\n",
    "Consider radial flow in a confined aquifer. The aquifer extends in the $r$ direction from $r=0$ to $r=R$, where $R$ is chosen far enough away not to effect the solution.  Water is injected by the well at a rate $Q$. The head is fixed at $r=R$ to $h_R$. Flow is considered to be at steady state instantaneously. \n",
    "\n",
    "The initial salt concentration is equal to $c_s$ everywhere. Injection of fresh water with concentration $c_f$ starts at $t=0$ and last for $t_\\text{in}$ days, after which water is extracted at the same rate $Q$ for $t_\\text{out}$ days.\n",
    "\n",
    "The parameter block is similar to the parameter block for one-dimensional (linear) flow. Some values are chosen differently, such as the time of injection. The values of the hydraulic conductivity and porosity are converted so that MODFLOW can be used to simulate radial flow (see Langevin, 2008)."
   ]
  },
  {
   "cell_type": "code",
   "execution_count": 2,
   "metadata": {},
   "outputs": [
    {
     "name": "stdout",
     "output_type": "stream",
     "text": [
      "Need to pump 645.16m^3/d to full fill demand\n"
     ]
    }
   ],
   "source": [
    "Q_d = 40_000\n",
    "Q_tot = Q_d * 1 ## Change this later as we actually want to produce this, currentlty we still have 80% loss\n",
    "d_extrating = 62\n",
    "d_injecting = 365 - d_extrating ## change later for days with water excess\n",
    "print(f'Need to pump {Q_tot/d_extrating:.2f}m^3/d to full fill demand') "
   ]
  },
  {
   "cell_type": "code",
   "execution_count": 3,
   "metadata": {},
   "outputs": [],
   "source": [
    "# domain size and boundary conditions\n",
    "R = 200 # length of domain, m\n",
    "hR = 0 # head at r=R\n",
    "hL = hR\n",
    "\n",
    "# aquifer parameters\n",
    "k = 30 # hydraulic conductivity, m/d -> between 10 - 40: start with 30\n",
    "H = 20 # aquifer thickness, m\n",
    "npor = 0.35 # porosity, generally 0.25- 0.5 \n",
    "\n",
    "# flow\n",
    "\n",
    "Q_out = Q_tot/d_extrating # extraction rate, m^3/d \n",
    "Q_in = Q_tot / (d_injecting)# injection rate m^3/d\n",
    "\n",
    "# transport\n",
    "alphaL = 0.5 # longitudinal dispersivity in horizontal direction, m - ###################### something to check!! -> slides guest lecture\n",
    "alphaT = alphaL / 10 # transverse dispersivity in horizontal direction, m\n",
    "diffusion_coef = 0 # diffusion coeffcient\n",
    "\n",
    "# concentration\n",
    "cs = 30 # initial concentration, kg/m^3 (=g/L)\n",
    "cf = 0 # concentration injected water, kg/m^3 (=g/L)\n",
    "\n",
    "# buoyancy\n",
    "rhoref = 1000 # reference density, kg/m^3\n",
    "cref = 0 # reference concentration, kg/m^3\n",
    "drhodc = 0.7143  # Slope of the density-concentration line\n",
    "\n",
    "# space discretization\n",
    "delr = 0.2 # length of cell along row (in x-direction), m\n",
    "delc = 1 # width of cells normal to plane of flow (in y-direction), m\n",
    "\n",
    "############################### Number of  layers! #################\n",
    "nlay = 10 # number of layers\n",
    "\n",
    "z = np.linspace(0, -H, nlay + 1) # top and bottom(s) of layers\n",
    "zc = 0.5 * (z[:-1] + z[1:]) # center so cells, used for contouring\n",
    "nrow = 1 # number of rows\n",
    "ncol = round(R / delr) # number of columns\n",
    "rw = 0.2 # radius of well, m\n",
    "\n",
    "# convert parameters for radial flow following procedure of Langevin, 2008\n",
    "# radialize parameters:\n",
    "theta = 2 * np.pi\n",
    "r = np.cumsum(delr * np.ones(ncol)) - 0.5 * delr # rightside of cell minus half the cell length\n",
    "krad = k * r * theta * np.ones((nlay, nrow, ncol))\n",
    "nporrad = npor * r * theta * np.ones((nlay, nrow, ncol))\n",
    "\n",
    "# time discretization\n",
    "########## injection\n",
    "tin = d_injecting # injection time, d - rest of the year - maybe change later\n",
    "delt = 0.1 # time step, d\n",
    "nstepin = round(tin / delt) # computed number of steps during injection, integer\n",
    "\n",
    "######### extraction\n",
    "tout = d_extrating # extraction time, d\n",
    "delt = 0.1 # time step, d\n",
    "nstepout = round(tout / delt) # computed number of steps during extraction, integer\n",
    "\n",
    "# model name and workspace\n",
    "modelname = 'modelrad_khv' # name of model\n",
    "gwfname = modelname + 'f' # name of flow model\n",
    "gwtname = modelname + 't' # name of transport model\n",
    "modelws = './' + modelname # model workspace to be used"
   ]
  },
  {
   "cell_type": "code",
   "execution_count": 4,
   "metadata": {},
   "outputs": [
    {
     "name": "stdout",
     "output_type": "stream",
     "text": [
      "injection rate is 132m^3/d, extraction is 645m^3/d\n",
      "injection rate is 6m^3/h, extraction is 27m^3/h\n"
     ]
    }
   ],
   "source": [
    "print(f'injection rate is {Q_in:.0f}m^3/d, extraction is {Q_out:.0f}m^3/d')\n",
    "print(f'injection rate is {Q_in/24:.0f}m^3/h, extraction is {Q_out/24:.0f}m^3/h')"
   ]
  },
  {
   "cell_type": "markdown",
   "metadata": {},
   "source": [
    "## Create Simulation"
   ]
  },
  {
   "cell_type": "code",
   "execution_count": 5,
   "metadata": {
    "scrolled": true
   },
   "outputs": [],
   "source": [
    "# simulation\n",
    "sim = fp.mf6.MFSimulation(sim_name=modelname, # name of simulation\n",
    "                          version='mf6', # version of MODFLOW\n",
    "                          exe_name='../bin/mf6', # absolute path to MODFLOW executable\n",
    "                          sim_ws=modelws, # path to workspace where all files are stored\n",
    "                         )\n",
    "\n",
    "# time discretization\n",
    "tdis = fp.mf6.ModflowTdis(simulation=sim, # add to the simulation called sim (defined above)\n",
    "                          time_units=\"DAYS\", \n",
    "                          nper=2, # number of stress periods \n",
    "                          perioddata=[[tin, nstepin, 1],\n",
    "                                      [tout, nstepout, 1]], # period length, number of steps, timestep multiplier\n",
    "                         )"
   ]
  },
  {
   "cell_type": "markdown",
   "metadata": {},
   "source": [
    "## Create groundwater flow model (`gwf`)\n",
    "<!-- Changes in the groundwater flow model:\n",
    "* Use the converted value of $k$ in the npf package and use the logarithmic averaging option to compute cell-by-cell hydraulic conductivities.\n",
    "* Use the discharge $Q$ in the well package. -->"
   ]
  },
  {
   "cell_type": "code",
   "execution_count": 6,
   "metadata": {},
   "outputs": [],
   "source": [
    "# groundwater flow model\n",
    "gwf = fp.mf6.ModflowGwf(simulation=sim, # add to simulation called sim\n",
    "                        modelname=gwfname, # name of gwf model\n",
    "                        save_flows=True, # make sure all flows are stored in binary output file\n",
    "                       )\n",
    "\n",
    "# iterative model solver\n",
    "gwf_ims  = fp.mf6.ModflowIms(simulation=sim, # add to simulation called sim\n",
    "                             filename=gwf.name + '.ims', # file name to store ims\n",
    "                             linear_acceleration=\"BICGSTAB\", # use BIConjuGantGradientSTABalized method\n",
    "                             inner_dvclose=1e-6\n",
    "                            )                                                                                                \n",
    "# register solver\n",
    "sim.register_ims_package(solution_file=gwf_ims, # name of iterative model solver instance\n",
    "                         model_list=[gwf.name], # list with name of groundwater flow model\n",
    "                        )   \n",
    "\n",
    "# discretization\n",
    "gwf_dis = fp.mf6.ModflowGwfdis(model=gwf, # add to groundwater flow model called gwf\n",
    "                               nlay=nlay, \n",
    "                               nrow=nrow, \n",
    "                               ncol=ncol, \n",
    "                               delr=delr, \n",
    "                               delc=delc, \n",
    "                               top=z[0], \n",
    "                               botm=z[1:], \n",
    "                              )\n",
    "\n",
    "# aquifer properties\n",
    "gwf_npf  = fp.mf6.ModflowGwfnpf(model=gwf, \n",
    "                                k=krad, # horizontal k value\n",
    "                                k33=krad / 10,\n",
    "                                save_flows=True, # save the flow for all cells\n",
    "                               )\n",
    "    \n",
    "# initial condition\n",
    "gwf_ic = fp.mf6.ModflowGwfic(model=gwf, \n",
    "                             strt=hR, # initial head used for iterative solution\n",
    "                            )\n",
    "\n",
    "# wells\n",
    "wellin = []\n",
    "wellout = []\n",
    "for ilay in range(nlay):\n",
    "    wellin.append([(ilay, 0, 0),  Q_in / nlay, cf])  # [(layer, row, col), U, concentration]\n",
    "    wellout.append([(ilay, 0, 0),  -Q_out / nlay, cf]) # specified concentration is not used, but must be specified \n",
    "wel_spd = {0: wellin, 1: wellout} # stress period data for periods 0 and 1\n",
    "gwf_wel = fp.mf6.ModflowGwfwel(model=gwf, \n",
    "                               stress_period_data=wel_spd, \n",
    "                               auxiliary=['CONCENTRATION'],\n",
    "                               pname='WEL1', # package name\n",
    "                              )\n",
    "\n",
    "# constant head \n",
    "chd = []\n",
    "for ilay in range(nlay):\n",
    "    chd.append([(ilay,  0,  ncol-1), hL, cs]) # [(layer, row, col), head, concentration]\n",
    "chd_spd  = {0: chd, 1: chd}    # Stress period data\n",
    "gwf_chd = fp.mf6.ModflowGwfchd(model=gwf, \n",
    "                               stress_period_data=chd_spd, \n",
    "                               auxiliary=['CONCENTRATION'],\n",
    "                               pname='CHD1', # package name\n",
    "                              )\n",
    "\n",
    "# buoyancy\n",
    "buy = fp.mf6.ModflowGwfbuy(model=gwf,\n",
    "                           packagedata=[0, drhodc, cref, gwtname, 'CONCENTRATION'], # [conc 1 species - 0= salt, drhodc, cref, gwtname, name]\n",
    "                           denseref=rhoref, # reference concentration\n",
    "                           nrhospecies=1, # number of species\n",
    "                           density_filerecord=f\"{gwf.name}.dst\", # file name\n",
    "                           pname='BUY1', \n",
    "                          )\n",
    "    \n",
    "# output control\n",
    "oc = fp.mf6.ModflowGwfoc(model=gwf, \n",
    "                         saverecord=[(\"HEAD\", \"ALL\"), (\"BUDGET\", \"ALL\")], # what to save\n",
    "                         budget_filerecord=f\"{gwfname}.cbc\", # file name where all budget output is stored\n",
    "                         head_filerecord=f\"{gwfname}.hds\", # file name where all head output is stored\n",
    "                        )"
   ]
  },
  {
   "cell_type": "markdown",
   "metadata": {},
   "source": [
    "## Create groundwater transport model (`gwt`)\n",
    "<!-- Changes in the transport model: Use the converted value of the porosity in the mst package. -->"
   ]
  },
  {
   "cell_type": "code",
   "execution_count": 7,
   "metadata": {},
   "outputs": [],
   "source": [
    "# groundwater transport model\n",
    "gwt = fp.mf6.ModflowGwt(simulation=sim, \n",
    "                        modelname=gwtname, # name of groundwater transport model\n",
    "                       )\n",
    "\n",
    "# iterative model solver\n",
    "gwt_ims  = fp.mf6.ModflowIms(simulation=sim,\n",
    "                             filename=gwt.name + '.ims', # must be different than file name of gwf model ims\n",
    "                             linear_acceleration=\"BICGSTAB\",\n",
    "                             inner_dvclose=1e-6\n",
    "                            ) \n",
    "sim.register_ims_package(solution_file=gwt_ims, \n",
    "                         model_list=[gwt.name],\n",
    "                        )\n",
    "\n",
    "# discretization\n",
    "gwt_dis = fp.mf6.ModflowGwtdis(model=gwt, \n",
    "                               nlay=nlay, \n",
    "                               nrow=nrow, \n",
    "                               ncol=ncol, \n",
    "                               delr=delr, \n",
    "                               delc=delc, \n",
    "                               top=z[0], \n",
    "                               botm=z[1:], \n",
    "                              )\n",
    "\n",
    "# mobile storage and transfer\n",
    "gwt_sto = fp.mf6.ModflowGwtmst(model=gwt, \n",
    "                               porosity=nporrad, # porosity\n",
    "                               save_flows=True,\n",
    "                              )\n",
    "\n",
    "# initial condition\n",
    "gwt_ic = fp.mf6.ModflowGwtic(model=gwt, \n",
    "                             strt=cs, # initial concentration\n",
    "                            ) \n",
    "\n",
    "# source sink mixing\n",
    "sourcelist = [(\"WEL1\", \"AUX\", \"CONCENTRATION\"), (\"CHD1\", \"AUX\", \"CONCENTRATION\")]\n",
    "ssm = fp.mf6.ModflowGwtssm(model=gwt, \n",
    "                           sources=sourcelist, \n",
    "                           save_flows=True,\n",
    "                           pname='SSM1', \n",
    "                          )\n",
    "\n",
    "# advection\n",
    "adv = fp.mf6.ModflowGwtadv(model=gwt,  \n",
    "                           scheme=\"TVD\",  # use Total Variation Diminishing (TVD)\n",
    "                           pname='ADV1',\n",
    "                          )\n",
    "\n",
    "# dispersion\n",
    "dsp = fp.mf6.ModflowGwtdsp(model=gwt, \n",
    "                           alh=alphaL,\n",
    "                           ath1=alphaT, \n",
    "                           diffc=diffusion_coef,\n",
    "                           pname='DSP1', \n",
    "                          )\n",
    "\n",
    "# output control\n",
    "oc = fp.mf6.ModflowGwtoc(model=gwt,\n",
    "                         saverecord=[(\"CONCENTRATION\", \"ALL\"), (\"BUDGET\", \"ALL\")], # what to save\n",
    "                         budget_filerecord=f\"{gwtname}.cbc\", # file name where all budget output is stored\n",
    "                         concentration_filerecord=f\"{gwtname}.ucn\", # file name where all concentration output is stored\n",
    "                        )"
   ]
  },
  {
   "cell_type": "code",
   "execution_count": 8,
   "metadata": {},
   "outputs": [],
   "source": [
    "fp.mf6.ModflowGwfgwt(simulation=sim, \n",
    "                     exgtype=\"GWF6-GWT6\", \n",
    "                     exgmnamea=gwf.name , \n",
    "                     exgmnameb=gwt.name , \n",
    "                     filename=f\"{modelname}.gwfgwt\",\n",
    "                    );"
   ]
  },
  {
   "cell_type": "markdown",
   "metadata": {},
   "source": [
    "## Write input files and solve model"
   ]
  },
  {
   "cell_type": "code",
   "execution_count": 9,
   "metadata": {},
   "outputs": [
    {
     "name": "stdout",
     "output_type": "stream",
     "text": [
      "Model solved successfully\n"
     ]
    }
   ],
   "source": [
    "sim.write_simulation(silent=True)\n",
    "success, _ = sim.run_simulation(silent=True) \n",
    "if success == 1:\n",
    "    print('Model solved successfully')\n",
    "else:\n",
    "    print('Solve failed')"
   ]
  },
  {
   "cell_type": "markdown",
   "metadata": {},
   "source": [
    "## Read concentration data"
   ]
  },
  {
   "cell_type": "markdown",
   "metadata": {},
   "source": [
    "<!-- Plot the concentration vs. $r$ at 10 day intervals. Make separate plots for the injection and extraction periods. -->"
   ]
  },
  {
   "cell_type": "code",
   "execution_count": 10,
   "metadata": {},
   "outputs": [],
   "source": [
    "cobj = gwt.output.concentration() # get handle to binary concentration file\n",
    "c = cobj.get_alldata().squeeze() # get the concentration data from the file\n",
    "times = np.array(cobj.get_times()) # get the times and convert to array"
   ]
  },
  {
   "cell_type": "code",
   "execution_count": 11,
   "metadata": {},
   "outputs": [
    {
     "data": {
      "text/plain": [
       "Text(0, 0.5, 'd (m)')"
      ]
     },
     "execution_count": 11,
     "metadata": {},
     "output_type": "execute_result"
    },
    {
     "data": {
      "image/png": "[encoded data removed]",
      "text/plain": [
       "<Figure size 500x300 with 1 Axes>"
      ]
     },
     "metadata": {},
     "output_type": "display_data"
    }
   ],
   "source": [
    "plt.subplot(111, aspect=1)\n",
    "i = 500\n",
    "contour = plt.contour(r, zc, c[i], np.arange(5, 35, 5), cmap='coolwarm')\n",
    "plt.clabel(contour, contour.levels[::2], inline=True, fontsize=10)\n",
    "plt.xlim(0, 50)\n",
    "plt.xlabel('r (m)')\n",
    "plt.ylabel('d (m)')"
   ]
  },
  {
   "cell_type": "code",
   "execution_count": 12,
   "metadata": {},
   "outputs": [
    {
     "data": {
      "application/vnd.jupyter.widget-view+json": {
       "model_id": "ac85d710667746e58d49021cca061488",
       "version_major": 2,
       "version_minor": 0
      },
      "text/plain": [
       "interactive(children=(IntSlider(value=1824, description='tstep', max=3649), Output()), _dom_classes=('widget-i…"
      ]
     },
     "metadata": {},
     "output_type": "display_data"
    }
   ],
   "source": [
    "from ipywidgets import interact\n",
    "import warnings\n",
    "warnings.simplefilter(\"ignore\")\n",
    "def contour(tstep):\n",
    "    plt.subplot(111, xlim=(0, 50), ylim=(-20, 0), xlabel='r (m)', ylabel='z (m)')\n",
    "    plt.contour(r, zc, c[tstep], np.arange(5, 35, 5), cmap='coolwarm')\n",
    "\n",
    "interact(contour, tstep=(0, nstepin + nstepout - 1, 1));"
   ]
  },
  {
   "cell_type": "markdown",
   "metadata": {},
   "source": [
    "## Mass balance"
   ]
  },
  {
   "cell_type": "code",
   "execution_count": 13,
   "metadata": {},
   "outputs": [],
   "source": [
    "itime_out = np.abs(times - tin).argmin()\n",
    "lst_delM1 = []\n",
    "lst_delM2 = []\n",
    "for layer_i in range(nlay):\n",
    "    delM1 = np.zeros(len(times))\n",
    "    delM2 = np.zeros(len(times))\n",
    "    for index, t in enumerate(times):\n",
    "        itime = np.abs(times - t).argmin() # find index of value in times closest to t\n",
    "        # skip first timestep as itime-1 doesn't exisit\n",
    "        if itime == 0:\n",
    "            delM1[itime] = np.nan\n",
    "            delM2[itime] = np.nan\n",
    "        else:\n",
    "            # change based on in flow or outflow \n",
    "            if itime <= itime_out:\n",
    "                # inflow\n",
    "                delM1[index] = (Q_in/nlay * c[itime, layer_i, 0] -  Q_in/nlay * c[itime, layer_i, -1]) * delt\n",
    "            else:\n",
    "                # outflow\n",
    "                delM1[index] = (- Q_out/nlay * c[itime, layer_i, 0] + Q_out/nlay * c[itime, layer_i, -1]) * delt\n",
    "            delM2_i = 0\n",
    "            for index_r, r_i in enumerate(r):\n",
    "                radius_centre = r_i\n",
    "                radius_left = radius_centre - 0.5 * delr\n",
    "                radius_right = radius_centre + 0.5 * delr\n",
    "                delM2_i += (c[itime,layer_i,index_r] - c[itime - 1,layer_i,index_r]) * (radius_right**2 - radius_left**2) * H/nlay * np.pi * npor\n",
    "            delM2[index] = delM2_i\n",
    "        \n",
    "    lst_delM1.append(delM1)\n",
    "    lst_delM2.append(delM2)"
   ]
  },
  {
   "cell_type": "code",
   "execution_count": 14,
   "metadata": {},
   "outputs": [],
   "source": [
    "delM1_sum = np.vstack(lst_delM1).sum(axis=0)\n",
    "delM2_sum = np.vstack(lst_delM2).sum(axis=0)"
   ]
  },
  {
   "cell_type": "code",
   "execution_count": 15,
   "metadata": {},
   "outputs": [
    {
     "data": {
      "image/png": "[encoded data removed]",
      "text/plain": [
       "<Figure size 500x300 with 1 Axes>"
      ]
     },
     "metadata": {},
     "output_type": "display_data"
    }
   ],
   "source": [
    "plt.plot(times, delM1_sum, label=r'$\\Delta M_1$')\n",
    "plt.plot(times, delM2_sum, label=r'$\\Delta M_2$',ls=\"--\")\n",
    "plt.legend()\n",
    "plt.title('Total mass balance')\n",
    "plt.xlabel('time (days)')\n",
    "plt.ylabel('Change in mass (kg)');\n",
    "plt.grid()\n",
    "plt.savefig(rf'figures\\difference_in_total_mass_balance_for_{nlay}_layers.png',bbox_inches=\"tight\")"
   ]
  },
  {
   "cell_type": "code",
   "execution_count": 16,
   "metadata": {},
   "outputs": [
    {
     "name": "stdout",
     "output_type": "stream",
     "text": [
      "In the last timestep of extraction the mass balance is 566.23kg for ΔM1 & 565.99kg for ΔM2\n"
     ]
    }
   ],
   "source": [
    "print(f'In the last timestep of extraction the mass balance is {delM1_sum[-1]:.2f}kg for ΔM1 & {delM2_sum[-1]:.2f}kg for ΔM2')"
   ]
  },
  {
   "cell_type": "code",
   "execution_count": 17,
   "metadata": {},
   "outputs": [
    {
     "data": {
      "image/png": "[encoded data removed]",
      "text/plain": [
       "<Figure size 500x300 with 1 Axes>"
      ]
     },
     "metadata": {},
     "output_type": "display_data"
    }
   ],
   "source": [
    "diff = delM1_sum - delM2_sum\n",
    "plt.plot(times, diff, label=\"Difference between ΔM1 & ΔM2 over time\")\n",
    "plt.legend()\n",
    "plt.title('Difference in total mass balance')\n",
    "plt.xlabel('time (days)')\n",
    "plt.ylabel('Difference in change in mass (kg)');\n",
    "plt.grid()\n",
    "plt.savefig(rf'figures\\difference_in_total_mass_balance_for_{nlay}_layers.png',bbox_inches=\"tight\")"
   ]
  },
  {
   "cell_type": "code",
   "execution_count": 18,
   "metadata": {},
   "outputs": [],
   "source": [
    "climit = 1 # limit concentration, g/L\n",
    "t_begin_index = nstepin\n",
    "t_end_index = len(times)"
   ]
  },
  {
   "cell_type": "code",
   "execution_count": 19,
   "metadata": {},
   "outputs": [
    {
     "name": "stdout",
     "output_type": "stream",
     "text": [
      "first time when c exceeds climit: 306.0 d when concentration is 1.09 g/L\n",
      "recovery efficiency = 4.7 %\n"
     ]
    }
   ],
   "source": [
    "for itime in range(t_begin_index, t_end_index):\n",
    "    if c[itime,:, 0].mean() > climit:\n",
    "        break\n",
    "print(f'first time when c exceeds climit: {round(times[itime], 2)} d when concentration is {c[itime,:, 0].mean():.2f} g/L')\n",
    "\n",
    "if t_end_index == times[itime]:\n",
    "    print(f'recovery efficiency = 100%')\n",
    "else:\n",
    "    rec_eff = ((times[itime - 1] - tin) * Q_out) / (tin * Q_in) # Qs needed as injection and extraction rates are not the same\n",
    "    print(f'recovery efficiency = {rec_eff * 100:.1f} %')"
   ]
  },
  {
   "cell_type": "markdown",
   "metadata": {},
   "source": [
    "### Compute the recovery efficiency for many  cycles"
   ]
  },
  {
   "cell_type": "code",
   "execution_count": 20,
   "metadata": {},
   "outputs": [],
   "source": [
    "from flopy.mf6.mfbase import VerbosityLevel\n",
    "sim.simulation_data.verbosity_level = VerbosityLevel.quiet"
   ]
  },
  {
   "cell_type": "code",
   "execution_count": null,
   "metadata": {},
   "outputs": [
    {
     "name": "stdout",
     "output_type": "stream",
     "text": [
      "Start 10 layers at 10:43\n",
      "Expected runtime end at 11:8\n"
     ]
    },
    {
     "name": "stderr",
     "output_type": "stream",
     "text": [
      "  0%|                                                                                            | 0/5 [00:00<?, ?it/s]"
     ]
    }
   ],
   "source": [
    "run = True # takes long\n",
    "if run: \n",
    "    time_break_lst = []\n",
    "    rec_eff_lst = []\n",
    "    n_years = 5\n",
    "    cycle_n = np.arange(0, n_years,1)\n",
    "    c_arr = np.zeros((len(cycle_n)+1,nlay, ncol))\n",
    "    c_store_all = np.zeros((len(cycle_n), nstepin+nstepout,nlay,ncol))\n",
    "    c_arr[0] = np.ones((nlay,ncol)) * cs\n",
    "    c_prev = cs\n",
    "\n",
    "    now = datetime.datetime.now()\n",
    "    print(f'Start {nlay} layers at {now.hour}:{now.minute}')\n",
    "    end = now + datetime.timedelta(minutes=(nlay-5)*n_years)\n",
    "    print(f'Expected runtime end at {end.hour}:{end.minute}')\n",
    "    for index_cycle in tqdm(cycle_n):\n",
    "        # initial condition from prev time period\n",
    "        gwt_ic = fp.mf6.ModflowGwtic(model=gwt, \n",
    "                                     strt=c_arr[index_cycle], # initial concentration\n",
    "                                     ) \n",
    "        # here also change the injection after the first two years. \n",
    "    \n",
    "        \n",
    "        # write model, solve model, and read concentration data\n",
    "        sim.write_simulation(silent=True)\n",
    "        success, _ = sim.run_simulation(silent=True) \n",
    "        if success == 1:\n",
    "            # print(f'Model solved successfully for {index_cycle}', end=\"\\r\")\n",
    "            pass\n",
    "        else:\n",
    "            print('Solve failed')\n",
    "            break\n",
    "        \n",
    "        cobj = gwt.output.concentration() # get handle to binary concentration file\n",
    "        c_i = cobj.get_alldata().squeeze() # get the concentration data from the file\n",
    "        for itime in range(t_begin_index, t_end_index):\n",
    "            if c_i[itime,:, 0].mean() > climit:\n",
    "                time_break_lst.append(itime)\n",
    "                break\n",
    "    \n",
    "        c_arr[index_cycle+1] = c_i[itime - 1,:]\n",
    "        c_store_all[index_cycle] = c_i\n",
    "        rec_eff = ((times[itime - 1] - tin) * Q_out) / (tin * Q_in) # Q  needed as injection and extraction rates are not the same\n",
    "        rec_eff_lst.append(rec_eff*100)"
   ]
  },
  {
   "cell_type": "markdown",
   "metadata": {},
   "source": [
    "## store files"
   ]
  },
  {
   "cell_type": "code",
   "execution_count": null,
   "metadata": {},
   "outputs": [],
   "source": [
    "n_years = 10\n",
    "run = True"
   ]
  },
  {
   "cell_type": "code",
   "execution_count": null,
   "metadata": {},
   "outputs": [],
   "source": [
    "if run:    \n",
    "    time = str(datetime.datetime.now())[:-10].replace(\":\",\"_\")\n",
    "    fname = fr'output/store_concentrations_k-{k}_npor-{npor}_alphaL-{alphaL}-nlay-{nlay}_{time}.nc'\n",
    "    ds = xr.DataArray(c_store_all,dims=['year','tstep','layer','r'])\n",
    "    ds.to_netcdf(fname,engine=\"netcdf4\")\n",
    "\n",
    "fname_in = fr'output/store_concentrations_k-{k}_npor-{npor}_alphaL-{alphaL}-nlay-{nlay}_*.nc'\n",
    "files = glob.glob(fname_in)[0]\n",
    "ds_in = xr.open_dataarray(files)\n",
    "# n_years = 3"
   ]
  },
  {
   "cell_type": "code",
   "execution_count": null,
   "metadata": {},
   "outputs": [],
   "source": [
    "from ipywidgets import interact\n",
    "import warnings\n",
    "warnings.simplefilter(\"ignore\")\n",
    "def contour(tstep,year):\n",
    "    data = ds_in.isel(year=year-1,tstep=tstep)\n",
    "    plt.subplot(111, xlim=(0, 100), ylim=(-20, 0), xlabel='r (m)', ylabel='z (m)')\n",
    "    cls = plt.contour(r, zc, data, np.arange(5, 35, 5), cmap='coolwarm')\n",
    "    plt.clabel(cls, cls.levels[::2], inline=True, fontsize=10)\n",
    " \n",
    "interact(contour, tstep=(0, nstepin + nstepout - 1, 1),year=(1,n_years,1));"
   ]
  },
  {
   "cell_type": "markdown",
   "metadata": {},
   "source": [
    "# Recovery"
   ]
  },
  {
   "cell_type": "code",
   "execution_count": null,
   "metadata": {},
   "outputs": [],
   "source": [
    "print(f'The recovery efficiency after the first cycle is {rec_eff_lst[0]:.2f}% and after the second is {rec_eff_lst[1]:.2f}%')"
   ]
  },
  {
   "cell_type": "code",
   "execution_count": null,
   "metadata": {},
   "outputs": [],
   "source": [
    "# from ipywidgets import interact\n",
    "# import warnings\n",
    "# warnings.simplefilter(\"ignore\")\n",
    "# def contour(tstep,year):\n",
    "#     plt.subplot(111, xlim=(0, 100), ylim=(-20, 0), xlabel='r (m)', ylabel='z (m)')\n",
    "#     cls = plt.contour(r, zc, c_store_all[year][tstep], np.arange(5, 35, 5), cmap='coolwarm')\n",
    "#     plt.clabel(cls, cls.levels[::2], inline=True, fontsize=10)\n",
    " \n",
    "# interact(contour, tstep=(0, nstepin + nstepout - 1, 1),year=(0,n_years-1,1));"
   ]
  },
  {
   "cell_type": "code",
   "execution_count": null,
   "metadata": {},
   "outputs": [],
   "source": [
    "rec_eff_lst"
   ]
  },
  {
   "cell_type": "code",
   "execution_count": null,
   "metadata": {},
   "outputs": [],
   "source": [
    "fname = r\"figures/recovery_eff_cycles.png\"\n",
    "if run: \n",
    "    cycle_n_arr = np.array(cycle_n) + 1\n",
    "    plt.plot(cycle_n_arr,rec_eff_lst,marker=\"o\")\n",
    "    plt.ylabel(\"Recovery Efficiency \\n after cycle n [%]\")\n",
    "    plt.xlabel(r\"Cycles number $n$ [-]\")\n",
    "    plt.title(r\"Recovery efficiency as cycle changes\")\n",
    "    plt.xticks(ticks=cycle_n_arr)\n",
    "    plt.grid()\n",
    "    plt.savefig(fname)\n",
    "else: \n",
    "    img = matplotlib.image.imread(fname)\n",
    "    fig, ax = plt.subplots()\n",
    "    ax.imshow(img)\n",
    "    ax.axis(\"off\")"
   ]
  },
  {
   "cell_type": "code",
   "execution_count": null,
   "metadata": {},
   "outputs": [],
   "source": [
    "fname = r\"figures/recovery_Q_cycles.png\"\n",
    "# run = True\n",
    "if run: \n",
    "    cycle_n_arr = np.array(cycle_n) + 1\n",
    "    rec_eff_arr = np.array(rec_eff_lst)\n",
    "    plt.plot(cycle_n_arr,rec_eff_arr*Q_tot/100,marker=\"o\")\n",
    "    plt.axhline(Q_d,ls=\"--\",color=\"C1\",label=\"Design production volume\")\n",
    "    plt.ylabel(\"Recovery Volume [m^3]\")\n",
    "    plt.xlabel(r\"Time (years)\")\n",
    "    plt.title(r\"Recovery volume as cycle changes\")\n",
    "    plt.xticks(ticks=cycle_n_arr)\n",
    "    plt.grid()\n",
    "    plt.savefig(fname,bbox_inches=\"tight\")\n",
    "else: \n",
    "    img = matplotlib.image.imread(fname)\n",
    "    fig, ax = plt.subplots()\n",
    "    ax.imshow(img)\n",
    "    ax.axis(\"off\")"
   ]
  },
  {
   "cell_type": "code",
   "execution_count": null,
   "metadata": {},
   "outputs": [],
   "source": [
    "len(times)"
   ]
  },
  {
   "cell_type": "code",
   "execution_count": null,
   "metadata": {},
   "outputs": [],
   "source": [
    "c_i = c_store_all[0]\n",
    "# plt.subplot(111, aspect=1)\n",
    "i = 3650-10*60\n",
    "contour = plt.contour(r, zc, c_i[i], np.arange(5, 35, 5), cmap='coolwarm')\n",
    "plt.clabel(contour, contour.levels[::2], inline=True, fontsize=10)\n",
    "# plt.xlim(0, 50)\n",
    "plt.xlabel('r (m)')\n",
    "plt.ylabel('d (m)')"
   ]
  },
  {
   "cell_type": "markdown",
   "metadata": {},
   "source": [
    "### Make GIFS"
   ]
  },
  {
   "cell_type": "code",
   "execution_count": null,
   "metadata": {},
   "outputs": [],
   "source": [
    "import matplotlib\n",
    "cmap1 = matplotlib.cm.tab10\n",
    "cmap2 = matplotlib.cm.tab20"
   ]
  },
  {
   "cell_type": "code",
   "execution_count": null,
   "metadata": {},
   "outputs": [],
   "source": [
    "# i = 5\n",
    "# plt.plot(0,0,marker=\"*\",color=cmap1((i)/10))\n",
    "# plt.plot(0,1,marker=\"*\",color=cmap2((i/10)+0.05))"
   ]
  },
  {
   "cell_type": "code",
   "execution_count": null,
   "metadata": {},
   "outputs": [],
   "source": [
    "# run = True # takes long\n",
    "# keep_prev_years = False\n",
    "\n",
    "# if keep_prev_years: fname = r'figures/overview_years.gif'\n",
    "# else: fname = r'figures/overview_per_year.gif'\n",
    "\n",
    "# if run: \n",
    "#     if keep_prev_years: plt.figure(figsize=(12, 3))\n",
    "#     for i in cycle_n:\n",
    "#         c_i = c_store_all[i]\n",
    "#         if not keep_prev_years: plt.figure(figsize=(12, 3))\n",
    "#         # plot concentration vs. x for three different times   \n",
    "#         for t in np.arange(10, 365, 10):\n",
    "#             itime = np.abs(times - t).argmin() # find index of value in times closest to t\n",
    "#             if itime < itime_out:\n",
    "#                 plt.title(f'Year {i+1}, t={t}d (injection)')\n",
    "#                 color = cmap2((i/10)+0.05)\n",
    "#                 alpha = 0.5\n",
    "#             else:\n",
    "#                 plt.title(f'Year {i+1}, t={t}d (extraction)')\n",
    "#                 color = cmap1((i)/10)\n",
    "#                 alpha = 0.99\n",
    "    \n",
    "#             plt.plot(r, c_i[itime,:], color=color,alpha=alpha) #, label=f't={times[itime]:.0f} d')\n",
    "#             plt.xlabel('r (m)')\n",
    "#             plt.ylabel('concentration (g/L)')\n",
    "#             plt.xlim(0, 80)\n",
    "#             # plt.legend(loc='lower right')\n",
    "#             # plt.grid()\n",
    "#             if t < 100: t_name = f'0{t}'\n",
    "#             else: t_name = f'{t}'\n",
    "#             if i < 9: i_name = f'0{i+1}'\n",
    "#             else: i_name = f'{i+1}'\n",
    "#             plt.savefig(rf\"figures/overview_year_{i_name}_{t_name}.png\",bbox_inches=\"tight\")\n",
    "#         if not keep_prev_years: plt.close()\n",
    "#     if keep_prev_years: plt.close()\n",
    "    \n",
    "    \n",
    "#     figs =  glob.glob(\"figures/overview_year_*.png\")\n",
    "#     speed = 20\n",
    "#     with imageio.get_writer(fname, mode='I',duration=5) as writer:\n",
    "#         for fig in figs:\n",
    "#             image = imageio.v3.imread(fig)\n",
    "#             for i in range(speed):\n",
    "#                 writer.append_data(image)"
   ]
  },
  {
   "cell_type": "code",
   "execution_count": null,
   "metadata": {},
   "outputs": [],
   "source": [
    "IPython.display.Image(filename=fname)"
   ]
  },
  {
   "cell_type": "code",
   "execution_count": null,
   "metadata": {},
   "outputs": [],
   "source": [
    "fname"
   ]
  },
  {
   "cell_type": "markdown",
   "metadata": {},
   "source": [
    "# Image for presentation"
   ]
  },
  {
   "cell_type": "code",
   "execution_count": null,
   "metadata": {},
   "outputs": [],
   "source": [
    "import datetime\n",
    "import pandas as pd\n",
    "import matplotlib.dates as mdates"
   ]
  },
  {
   "cell_type": "code",
   "execution_count": null,
   "metadata": {},
   "outputs": [],
   "source": [
    "d_july = 153\n",
    "lst = [Q_tot/d_injecting] * d_july\n",
    "lst += [-Q_tot/d_extrating] * d_extrating\n",
    "lst += [Q_tot/d_injecting] * (d_injecting - d_july)\n",
    "d1 = datetime.date(2023, 1, 1)\n",
    "d2 = datetime.date(2023, 12, 31)\n",
    "days = [d1 + datetime.timedelta(days=x) for x in range((d2-d1).days + 1)]"
   ]
  },
  {
   "cell_type": "code",
   "execution_count": null,
   "metadata": {},
   "outputs": [],
   "source": [
    "df = pd.DataFrame(data=np.array([days,lst]).T,columns=[\"date\",\"Q\"])\n",
    "df['Timestamp'] = df['date'].apply(lambda x: pd.Timestamp(x))\n",
    "df.set_index('Timestamp', inplace=True, drop=True)"
   ]
  },
  {
   "cell_type": "code",
   "execution_count": null,
   "metadata": {},
   "outputs": [],
   "source": [
    "def line_format(label):\n",
    "    \"\"\"\n",
    "    Convert time label to the format of pandas line plot\n",
    "    \"\"\"\n",
    "    month = label.month_name()[:3]\n",
    "    if month == 'Jan':\n",
    "        month += f'\\n{label.year}'\n",
    "    return month"
   ]
  },
  {
   "cell_type": "code",
   "execution_count": null,
   "metadata": {},
   "outputs": [],
   "source": []
  },
  {
   "cell_type": "code",
   "execution_count": null,
   "metadata": {},
   "outputs": [],
   "source": [
    "fig, ax = plt.subplots(1,1,figsize=(12,5))\n",
    "# df_months = df[['Q']].resample(\"M\").sum()\n",
    "df[['Q']].plot(kind=\"bar\",ax=ax,stacked=True)\n",
    "\n",
    "\n",
    "#############from https://stackoverflow.com/questions/30133280/pandas-bar-plot-changes-date-format#########\n",
    "# Compute width of bars in matplotlib date units, 'md' (in days) and adjust it if\n",
    "# the bar width in df.plot.bar has been set to something else than the default 0.5\n",
    "bar_width_md_default, = np.diff(mdates.date2num(df.index[:2]))/2\n",
    "bar_width = ax.patches[0].get_width()\n",
    "bar_width_md = bar_width*bar_width_md_default/0.5\n",
    "\n",
    "# Compute new x values in matplotlib date units for the patches (rectangles) that\n",
    "# make up the stacked bars, adjusting the positions according to the bar width:\n",
    "# if the frequency is in months (or years), the bars may not always be perfectly\n",
    "# centered over the tick marks depending on the number of days difference between\n",
    "# the months (or years) given by df.index[0] and [1] used to compute the bar \n",
    "# width, this should not be noticeable if the bars are wide enough.\n",
    "x_bars_md = mdates.date2num(df.index) - bar_width_md/2\n",
    "nvar = len(ax.get_legend_handles_labels()[1])\n",
    "x_patches_md = np.ravel(nvar*[x_bars_md])\n",
    "\n",
    "# Set bars to new x positions and adjust width: this loop works fine with NaN\n",
    "# values as well because in bar plot NaNs are drawn with a rectangle of 0 height\n",
    "# located at the foot of the bar, you can verify this with patch.get_bbox()\n",
    "for patch, x_md in zip(ax.patches, x_patches_md):\n",
    "    patch.set_x(x_md)\n",
    "    patch.set_width(bar_width_md)\n",
    "\n",
    "# Set major ticks\n",
    "maj_loc = mdates.AutoDateLocator()\n",
    "ax.xaxis.set_major_locator(maj_loc)\n",
    "\n",
    "# Show minor tick under each bar (instead of each month) to highlight\n",
    "# discrepancy between major tick locator and bar positions seeing as no tick\n",
    "# locator is available for first-week-of-the-month frequency\n",
    "ax.set_xticks(x_bars_md + bar_width_md/2, minor=True)\n",
    "\n",
    "# Set major tick formatter\n",
    "zfmts = ['', '%b\\n%Y', '%b', '%b-%d', '%H:%M', '%H:%M']\n",
    "fmt = mdates.ConciseDateFormatter(maj_loc, zero_formats=zfmts, show_offset=False)\n",
    "ax.xaxis.set_major_formatter(fmt)\n",
    "\n",
    "# Shift the plot frame to where the bars are now located\n",
    "xmin = min(x_bars_md) - bar_width_md\n",
    "xmax = max(x_bars_md) + 2*bar_width_md\n",
    "ax.set_xlim(xmin, xmax)\n",
    "\n",
    "# Adjust tick label format last, else it may sometimes not be applied correctly\n",
    "ax.figure.autofmt_xdate(rotation=0, ha='center')\n",
    "#######################################3\n",
    "ax.set_ylabel(\"Flow m$^3$/d\");\n",
    "ax.set_title('extraction and injectiogn in a year')\n",
    "ax.set_xlabel(\"Date\")\n",
    "plt.savefig(rf\"figures/Injection_extraction_scheme.png\",bbox_inches=\"tight\")"
   ]
  }
 ],
 "metadata": {
  "kernelspec": {
   "display_name": "Python 3 (ipykernel)",
   "language": "python",
   "name": "python3"
  },
  "language_info": {
   "codemirror_mode": {
    "name": "ipython",
    "version": 3
   },
   "file_extension": ".py",
   "mimetype": "text/x-python",
   "name": "python",
   "nbconvert_exporter": "python",
   "pygments_lexer": "ipython3",
   "version": "3.12.0"
  }
 },
 "nbformat": 4,
 "nbformat_minor": 4
}
